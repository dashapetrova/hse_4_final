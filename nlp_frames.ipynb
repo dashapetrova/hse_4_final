{
  "nbformat": 4,
  "nbformat_minor": 0,
  "metadata": {
    "colab": {
      "name": "nlp_frames.ipynb",
      "provenance": [],
      "collapsed_sections": [
        "208JdRK_JdhY",
        "EP7ZI9kv1UEN",
        "xW22fql8J3dq",
        "xioxwR4vngOT",
        "O9iq10lTHgDf",
        "_cPTeaZHMqIQ",
        "AYCdLgNtaFS9",
        "WB6re5MfVKt_",
        "WMddSqiqVaJU",
        "53CT49Sl41YT",
        "a0tiuAF74bI2",
        "ISrWmcQeK8tA",
        "OqVekc-OMtQe",
        "mmPL09kxgogw",
        "X45gKmUCkR04",
        "rnB0oooS4tAo",
        "Qa80h2ZokUk-",
        "s-9bej1ZY5Lw",
        "b7z3ShHD4i3o",
        "Lvghy-UJ5BY_",
        "ruPFwWHaH6yp",
        "M3ahCgwiOJiR",
        "Iz5MYJF0Py-o",
        "AFgfFM9SUlv1",
        "-TOboXFQOh8x",
        "GfIcBCDKPcIC",
        "---npD3Hq5Fl",
        "ZFvPa1zDXhul",
        "JPyeNRKtAsXK",
        "iJNmtf_B2fqF",
        "sC-k_CLu2NXM",
        "jGDABF0gmUjp",
        "xbr1LCCSmUN1"
      ]
    },
    "kernelspec": {
      "name": "python3",
      "display_name": "Python 3"
    }
  },
  "cells": [
    {
      "cell_type": "code",
      "metadata": {
        "id": "m1g7b8voPSg7",
        "colab_type": "code",
        "outputId": "5364c9f8-d424-49da-9d83-63e7c7c80d4c",
        "colab": {
          "base_uri": "https://localhost:8080/",
          "height": 122
        }
      },
      "source": [
        "from google.colab import drive\n",
        "drive.mount('/content/gdrive') #, force_remount=True"
      ],
      "execution_count": 0,
      "outputs": [
        {
          "output_type": "stream",
          "text": [
            "Go to this URL in a browser: https://accounts.google.com/o/oauth2/auth?client_id=947318989803-6bn6qk8qdgf4n4g3pfee6491hc0brc4i.apps.googleusercontent.com&redirect_uri=urn%3aietf%3awg%3aoauth%3a2.0%3aoob&response_type=code&scope=email%20https%3a%2f%2fwww.googleapis.com%2fauth%2fdocs.test%20https%3a%2f%2fwww.googleapis.com%2fauth%2fdrive%20https%3a%2f%2fwww.googleapis.com%2fauth%2fdrive.photos.readonly%20https%3a%2f%2fwww.googleapis.com%2fauth%2fpeopleapi.readonly\n",
            "\n",
            "Enter your authorization code:\n",
            "··········\n",
            "Mounted at /content/gdrive\n"
          ],
          "name": "stdout"
        }
      ]
    },
    {
      "cell_type": "code",
      "metadata": {
        "id": "5sbx2CrTPne2",
        "colab_type": "code",
        "colab": {}
      },
      "source": [
        "import os\n",
        "os.chdir('gdrive/My Drive/Colab Notebooks')"
      ],
      "execution_count": 0,
      "outputs": []
    },
    {
      "cell_type": "code",
      "metadata": {
        "id": "nfGvxyBQTIS3",
        "colab_type": "code",
        "colab": {}
      },
      "source": [
        "import re\n",
        "import numpy as np\n",
        "import pandas as pd"
      ],
      "execution_count": 0,
      "outputs": []
    },
    {
      "cell_type": "code",
      "metadata": {
        "id": "kz-bjlZAEAz2",
        "colab_type": "code",
        "colab": {}
      },
      "source": [
        "pip install pymorphy2"
      ],
      "execution_count": 0,
      "outputs": []
    },
    {
      "cell_type": "code",
      "metadata": {
        "id": "yyyC3u-9D9q8",
        "colab_type": "code",
        "colab": {}
      },
      "source": [
        "pip install allennlp"
      ],
      "execution_count": 0,
      "outputs": []
    },
    {
      "cell_type": "code",
      "metadata": {
        "id": "KtnVmOIE6YMN",
        "colab_type": "code",
        "colab": {}
      },
      "source": [
        "import pymorphy2\n",
        "morph = pymorphy2.MorphAnalyzer()\n",
        "\n",
        "\n",
        "def tokenize(line):\n",
        "  ws = []\n",
        "  words = line.split()\n",
        "  for w in words:\n",
        "    w = re.sub('[.,-;:?!@#$%^&()_+=—–\"…}{/\\|«»>]', '', w).lower()\n",
        "    if w != \"\":\n",
        "      p = morph.parse(w)[0]\n",
        "      ws.append(p.normal_form)\n",
        "  return ws"
      ],
      "execution_count": 0,
      "outputs": []
    },
    {
      "cell_type": "code",
      "metadata": {
        "id": "knoi_40o6Yy2",
        "colab_type": "code",
        "outputId": "42b05ca3-8ddb-4549-a450-1fde173eec56",
        "colab": {
          "base_uri": "https://localhost:8080/",
          "height": 34
        }
      },
      "source": [
        "tt = 'Я пошел за хлебом. После купил молока!'\n",
        "tokenize(tt)"
      ],
      "execution_count": 0,
      "outputs": [
        {
          "output_type": "execute_result",
          "data": {
            "text/plain": [
              "['я', 'пойти', 'за', 'хлеб', 'после', 'купить', 'молоко']"
            ]
          },
          "metadata": {
            "tags": []
          },
          "execution_count": 7
        }
      ]
    },
    {
      "cell_type": "markdown",
      "metadata": {
        "id": "208JdRK_JdhY",
        "colab_type": "text"
      },
      "source": [
        "#Dataframe с глаголами из Senti Frames\n"
      ]
    },
    {
      "cell_type": "code",
      "metadata": {
        "id": "hoLNaNakVO2n",
        "colab_type": "code",
        "colab": {}
      },
      "source": [
        "import json\n",
        "\n",
        "with open('sent_frames.json', encoding='utf-8-sig') as f:\n",
        "    all_data = json.load(f)"
      ],
      "execution_count": 0,
      "outputs": []
    },
    {
      "cell_type": "code",
      "metadata": {
        "id": "XI2f5LBpVPWJ",
        "colab_type": "code",
        "outputId": "904443da-d220-4ee6-c9e1-2e2809d79afc",
        "colab": {
          "base_uri": "https://localhost:8080/",
          "height": 34
        }
      },
      "source": [
        "all_data['0_0']['title']"
      ],
      "execution_count": 0,
      "outputs": [
        {
          "output_type": "execute_result",
          "data": {
            "text/plain": [
              "['надеяться', 'возлагать надежду']"
            ]
          },
          "metadata": {
            "tags": []
          },
          "execution_count": 9
        }
      ]
    },
    {
      "cell_type": "code",
      "metadata": {
        "id": "gCDbEym1x1Ui",
        "colab_type": "code",
        "colab": {}
      },
      "source": [
        "def sent_dicts(all_data, all_d = None):\n",
        "  sent_verbs = {'pos': [], 'neg': []}\n",
        "  verb_vars = {}\n",
        "  for i in all_data.keys():\n",
        "    try:\n",
        "      verbs = []\n",
        "      polus = all_data[i]['frames']['polarity']\n",
        "      for j in polus:\n",
        "        if j[0] == 'a0' and j[1] == 'a1':\n",
        "          attitude = j[2]\n",
        "          for t in all_data[i]['title']:\n",
        "            if t not in verbs:\n",
        "              verbs.append(t)\n",
        "            \n",
        "            if t not in verb_vars.keys():\n",
        "              verb_vars[t] = all_data[i]['variants']\n",
        "\n",
        "          if all_d != None:\n",
        "            try:\n",
        "              for v in all_data[i]['variants']:\n",
        "                if v not in verbs:\n",
        "                  verbs.append(v)\n",
        "            except:\n",
        "              continue\n",
        "\n",
        "      for verb in verbs:\n",
        "        sent_verbs[attitude].append(verb) \n",
        "\n",
        "    except:\n",
        "      continue\n",
        "\n",
        "  return sent_verbs, verb_vars"
      ],
      "execution_count": 0,
      "outputs": []
    },
    {
      "cell_type": "code",
      "metadata": {
        "id": "dFxgBs8ezGI0",
        "colab_type": "code",
        "colab": {}
      },
      "source": [
        "sent_verbs, verb_vars = sent_dicts(all_data, all_d = None)"
      ],
      "execution_count": 0,
      "outputs": []
    },
    {
      "cell_type": "code",
      "metadata": {
        "id": "119Azt-0DoSO",
        "colab_type": "code",
        "colab": {}
      },
      "source": [
        "all_verbs = []\n",
        "all_sents = []\n",
        "op = 0\n",
        "on = 0\n",
        "ob = 0\n",
        "for verb in sent_verbs['pos']:\n",
        "  if verb not in all_verbs:\n",
        "    all_verbs.append(verb)\n",
        "    if verb not in sent_verbs['neg']:\n",
        "      all_sents.append('pos')\n",
        "      op += 1\n",
        "    else:\n",
        "      all_sents.append('neut')\n",
        "      ob += 1\n",
        "\n",
        "for verb in sent_verbs['neg']:\n",
        "  if verb not in all_verbs:\n",
        "    all_verbs.append(verb)\n",
        "    if verb not in sent_verbs['pos']:\n",
        "      on += 1\n",
        "      all_sents.append('neg')"
      ],
      "execution_count": 0,
      "outputs": []
    },
    {
      "cell_type": "code",
      "metadata": {
        "id": "WssigFyyGOKM",
        "colab_type": "code",
        "outputId": "8494dfee-c8b9-4601-abce-9f1d6aad090e",
        "colab": {
          "base_uri": "https://localhost:8080/",
          "height": 34
        }
      },
      "source": [
        "len(all_verbs), len(all_sents)"
      ],
      "execution_count": 0,
      "outputs": [
        {
          "output_type": "execute_result",
          "data": {
            "text/plain": [
              "(341, 341)"
            ]
          },
          "metadata": {
            "tags": []
          },
          "execution_count": 15
        }
      ]
    },
    {
      "cell_type": "code",
      "metadata": {
        "id": "8X1eQk8RFGdL",
        "colab_type": "code",
        "colab": {}
      },
      "source": [
        "sent_df = pd.DataFrame()\n",
        "sent_df['verbs'] = all_verbs\n",
        "sent_df['polar'] = all_sents\n",
        "sent_df['verbs_tok'] = sent_df['verbs'].apply(tokenize)\n",
        "sent_df['verbs_tok_2'] = sent_df['verbs_tok'].apply(' '.join)"
      ],
      "execution_count": 0,
      "outputs": []
    },
    {
      "cell_type": "code",
      "metadata": {
        "id": "jEpxNflyAmqj",
        "colab_type": "code",
        "outputId": "1485289d-70d2-40f8-e456-d196c817e597",
        "colab": {
          "base_uri": "https://localhost:8080/",
          "height": 204
        }
      },
      "source": [
        "sent_df.head()"
      ],
      "execution_count": 0,
      "outputs": [
        {
          "output_type": "execute_result",
          "data": {
            "text/html": [
              "<div>\n",
              "<style scoped>\n",
              "    .dataframe tbody tr th:only-of-type {\n",
              "        vertical-align: middle;\n",
              "    }\n",
              "\n",
              "    .dataframe tbody tr th {\n",
              "        vertical-align: top;\n",
              "    }\n",
              "\n",
              "    .dataframe thead th {\n",
              "        text-align: right;\n",
              "    }\n",
              "</style>\n",
              "<table border=\"1\" class=\"dataframe\">\n",
              "  <thead>\n",
              "    <tr style=\"text-align: right;\">\n",
              "      <th></th>\n",
              "      <th>verbs</th>\n",
              "      <th>polar</th>\n",
              "      <th>verbs_tok</th>\n",
              "      <th>verbs_tok_2</th>\n",
              "    </tr>\n",
              "  </thead>\n",
              "  <tbody>\n",
              "    <tr>\n",
              "      <th>0</th>\n",
              "      <td>надеяться</td>\n",
              "      <td>pos</td>\n",
              "      <td>[надеяться]</td>\n",
              "      <td>надеяться</td>\n",
              "    </tr>\n",
              "    <tr>\n",
              "      <th>1</th>\n",
              "      <td>возлагать надежду</td>\n",
              "      <td>pos</td>\n",
              "      <td>[возлагать, надежда]</td>\n",
              "      <td>возлагать надежда</td>\n",
              "    </tr>\n",
              "    <tr>\n",
              "      <th>2</th>\n",
              "      <td>довериться</td>\n",
              "      <td>pos</td>\n",
              "      <td>[довериться]</td>\n",
              "      <td>довериться</td>\n",
              "    </tr>\n",
              "    <tr>\n",
              "      <th>3</th>\n",
              "      <td>положиться</td>\n",
              "      <td>pos</td>\n",
              "      <td>[положиться]</td>\n",
              "      <td>положиться</td>\n",
              "    </tr>\n",
              "    <tr>\n",
              "      <th>4</th>\n",
              "      <td>выиграть</td>\n",
              "      <td>pos</td>\n",
              "      <td>[выиграть]</td>\n",
              "      <td>выиграть</td>\n",
              "    </tr>\n",
              "  </tbody>\n",
              "</table>\n",
              "</div>"
            ],
            "text/plain": [
              "               verbs polar             verbs_tok        verbs_tok_2\n",
              "0          надеяться   pos           [надеяться]          надеяться\n",
              "1  возлагать надежду   pos  [возлагать, надежда]  возлагать надежда\n",
              "2         довериться   pos          [довериться]         довериться\n",
              "3         положиться   pos          [положиться]         положиться\n",
              "4           выиграть   pos            [выиграть]           выиграть"
            ]
          },
          "metadata": {
            "tags": []
          },
          "execution_count": 63
        }
      ]
    },
    {
      "cell_type": "markdown",
      "metadata": {
        "id": "EP7ZI9kv1UEN",
        "colab_type": "text"
      },
      "source": [
        "# Dataframe c глаголами из Senti Frames и их вариантами"
      ]
    },
    {
      "cell_type": "code",
      "metadata": {
        "id": "rbCh6qtu1LYr",
        "colab_type": "code",
        "colab": {}
      },
      "source": [
        "sent_verbs_v, verb_vars_v = sent_dicts(all_data, all_d = 'all')"
      ],
      "execution_count": 0,
      "outputs": []
    },
    {
      "cell_type": "code",
      "metadata": {
        "id": "ej7k1YNO1TDT",
        "colab_type": "code",
        "outputId": "765e0653-a7f0-44f1-95f1-65640bc775af",
        "colab": {
          "base_uri": "https://localhost:8080/",
          "height": 34
        }
      },
      "source": [
        "len(sent_verbs_v['pos']) , len(sent_verbs_v['neg'])"
      ],
      "execution_count": 0,
      "outputs": [
        {
          "output_type": "execute_result",
          "data": {
            "text/plain": [
              "(2515, 3449)"
            ]
          },
          "metadata": {
            "tags": []
          },
          "execution_count": 20
        }
      ]
    },
    {
      "cell_type": "code",
      "metadata": {
        "id": "m2J9q1iq5rTl",
        "colab_type": "code",
        "colab": {}
      },
      "source": [
        "all_verbs_2 = []\n",
        "all_sents_2 = []\n",
        "op = 0\n",
        "on = 0\n",
        "ob = 0\n",
        "for verb in sent_verbs_v['pos']:\n",
        "  if verb not in all_verbs_2:\n",
        "    all_verbs_2.append(verb)\n",
        "    if verb not in sent_verbs_v['neg']:\n",
        "      all_sents_2.append('pos')\n",
        "      op += 1\n",
        "    else:\n",
        "      all_sents_2.append('neut')\n",
        "      ob += 1\n",
        "\n",
        "for verb in sent_verbs_v['neg']:\n",
        "  if verb not in all_verbs_2:\n",
        "    all_verbs_2.append(verb)\n",
        "    if verb not in sent_verbs_v['pos']:\n",
        "      on += 1\n",
        "      all_sents_2.append('neg')"
      ],
      "execution_count": 0,
      "outputs": []
    },
    {
      "cell_type": "code",
      "metadata": {
        "id": "Zu_ZujiC6AUd",
        "colab_type": "code",
        "outputId": "97eee7f3-4401-45df-fcc3-663a36b814cb",
        "colab": {
          "base_uri": "https://localhost:8080/",
          "height": 34
        }
      },
      "source": [
        "len(all_verbs_2), len(all_sents_2)"
      ],
      "execution_count": 0,
      "outputs": [
        {
          "output_type": "execute_result",
          "data": {
            "text/plain": [
              "(5825, 5825)"
            ]
          },
          "metadata": {
            "tags": []
          },
          "execution_count": 22
        }
      ]
    },
    {
      "cell_type": "code",
      "metadata": {
        "id": "Z19jLNQl6li-",
        "colab_type": "code",
        "colab": {}
      },
      "source": [
        "sent_df_2 = pd.DataFrame()\n",
        "sent_df_2['verbs'] = all_verbs_2\n",
        "sent_df_2['polar'] = all_sents_2\n",
        "sent_df_2['verbs_tok'] = sent_df_2['verbs'].apply(tokenize)\n",
        "sent_df_2['verbs_tok_2'] = sent_df_2['verbs_tok'].apply(' '.join)"
      ],
      "execution_count": 0,
      "outputs": []
    },
    {
      "cell_type": "code",
      "metadata": {
        "id": "LxK-ZTq26mMf",
        "colab_type": "code",
        "outputId": "2717ad9d-9fef-4689-cdf2-225941f2cd7e",
        "colab": {
          "base_uri": "https://localhost:8080/",
          "height": 204
        }
      },
      "source": [
        "sent_df_2.head()"
      ],
      "execution_count": 0,
      "outputs": [
        {
          "output_type": "execute_result",
          "data": {
            "text/html": [
              "<div>\n",
              "<style scoped>\n",
              "    .dataframe tbody tr th:only-of-type {\n",
              "        vertical-align: middle;\n",
              "    }\n",
              "\n",
              "    .dataframe tbody tr th {\n",
              "        vertical-align: top;\n",
              "    }\n",
              "\n",
              "    .dataframe thead th {\n",
              "        text-align: right;\n",
              "    }\n",
              "</style>\n",
              "<table border=\"1\" class=\"dataframe\">\n",
              "  <thead>\n",
              "    <tr style=\"text-align: right;\">\n",
              "      <th></th>\n",
              "      <th>verbs</th>\n",
              "      <th>polar</th>\n",
              "      <th>verbs_tok</th>\n",
              "      <th>verbs_tok_2</th>\n",
              "    </tr>\n",
              "  </thead>\n",
              "  <tbody>\n",
              "    <tr>\n",
              "      <th>0</th>\n",
              "      <td>надеяться</td>\n",
              "      <td>pos</td>\n",
              "      <td>[надеяться]</td>\n",
              "      <td>надеяться</td>\n",
              "    </tr>\n",
              "    <tr>\n",
              "      <th>1</th>\n",
              "      <td>возлагать надежду</td>\n",
              "      <td>pos</td>\n",
              "      <td>[возлагать, надежда]</td>\n",
              "      <td>возлагать надежда</td>\n",
              "    </tr>\n",
              "    <tr>\n",
              "      <th>2</th>\n",
              "      <td>не терять надежду</td>\n",
              "      <td>pos</td>\n",
              "      <td>[не, терять, надежда]</td>\n",
              "      <td>не терять надежда</td>\n",
              "    </tr>\n",
              "    <tr>\n",
              "      <th>3</th>\n",
              "      <td>ждать</td>\n",
              "      <td>pos</td>\n",
              "      <td>[ждать]</td>\n",
              "      <td>ждать</td>\n",
              "    </tr>\n",
              "    <tr>\n",
              "      <th>4</th>\n",
              "      <td>опереться</td>\n",
              "      <td>pos</td>\n",
              "      <td>[опереться]</td>\n",
              "      <td>опереться</td>\n",
              "    </tr>\n",
              "  </tbody>\n",
              "</table>\n",
              "</div>"
            ],
            "text/plain": [
              "               verbs polar              verbs_tok        verbs_tok_2\n",
              "0          надеяться   pos            [надеяться]          надеяться\n",
              "1  возлагать надежду   pos   [возлагать, надежда]  возлагать надежда\n",
              "2  не терять надежду   pos  [не, терять, надежда]  не терять надежда\n",
              "3              ждать   pos                [ждать]              ждать\n",
              "4          опереться   pos            [опереться]          опереться"
            ]
          },
          "metadata": {
            "tags": []
          },
          "execution_count": 25
        }
      ]
    },
    {
      "cell_type": "markdown",
      "metadata": {
        "id": "xW22fql8J3dq",
        "colab_type": "text"
      },
      "source": [
        "#Dataframe с текстами из ресторанных отзывов (обработка)"
      ]
    },
    {
      "cell_type": "code",
      "metadata": {
        "id": "QCKrI8mzF5Jh",
        "colab_type": "code",
        "colab": {}
      },
      "source": [
        "corpus_train_file = open('SentiRuEval_rest_train.xml', 'r', encoding = 'utf-8', errors='ignore')\n",
        "corpus_train = corpus_train_file.read()\n",
        "corpus_train_file.close()\n",
        "\n",
        "texts = re.findall(r'<text>(.*?)</text>', corpus_train)\n",
        "food_scores = re.findall(r'<food>(.*?)</food>', corpus_train)\n",
        "interior_scores = re.findall(r'<interior>(.*?)</interior>', corpus_train)\n",
        "service_scores = re.findall(r'<service>(.*?)</service>', corpus_train)"
      ],
      "execution_count": 0,
      "outputs": []
    },
    {
      "cell_type": "code",
      "metadata": {
        "id": "3hk47Kic9D7B",
        "colab_type": "code",
        "colab": {}
      },
      "source": [
        "int_food = list(map(lambda x: int(x), food_scores))\n",
        "int_inter = list(map(lambda x: int(x), interior_scores))\n",
        "int_serv = list(map(lambda x: int(x), service_scores))"
      ],
      "execution_count": 0,
      "outputs": []
    },
    {
      "cell_type": "code",
      "metadata": {
        "id": "wLtIeMQoJVD6",
        "colab_type": "code",
        "colab": {}
      },
      "source": [
        "text_df = pd.DataFrame()"
      ],
      "execution_count": 0,
      "outputs": []
    },
    {
      "cell_type": "code",
      "metadata": {
        "id": "XG8QKTgsJsl8",
        "colab_type": "code",
        "colab": {}
      },
      "source": [
        "text_df['text'] = texts\n",
        "#text_df['food_scores'] = int_food\n",
        "#text_df['interior_scores'] = int_inter\n",
        "#text_df['service_scores'] = int_serv"
      ],
      "execution_count": 0,
      "outputs": []
    },
    {
      "cell_type": "code",
      "metadata": {
        "id": "yTvp95pj8rMy",
        "colab_type": "code",
        "colab": {}
      },
      "source": [
        "m = [int((x+y+z)/3) for (x,y,z) in zip(int_food, int_inter, int_serv)]"
      ],
      "execution_count": 0,
      "outputs": []
    },
    {
      "cell_type": "code",
      "metadata": {
        "id": "mrngl4fJ_2fI",
        "colab_type": "code",
        "colab": {}
      },
      "source": [
        "text_df[\"mean_score\"]= m"
      ],
      "execution_count": 0,
      "outputs": []
    },
    {
      "cell_type": "code",
      "metadata": {
        "id": "NjpyaiLsP_4M",
        "colab_type": "code",
        "colab": {}
      },
      "source": [
        "pos_neg_score = ['pos' if i > 5 else 'neut' if i == 5 else 'neg' for i in m]"
      ],
      "execution_count": 0,
      "outputs": []
    },
    {
      "cell_type": "code",
      "metadata": {
        "id": "-8_XLs6NRn-a",
        "colab_type": "code",
        "colab": {}
      },
      "source": [
        "ps = ns = bs = 0\n",
        "for i in pos_neg_score:\n",
        "  if i == 'pos':\n",
        "    ps += 1\n",
        "  elif i == 'neut':\n",
        "    bs += 1\n",
        "  else:\n",
        "    ns += 1"
      ],
      "execution_count": 0,
      "outputs": []
    },
    {
      "cell_type": "code",
      "metadata": {
        "id": "bEARx_otSbhD",
        "colab_type": "code",
        "outputId": "f1da7c62-6cb1-4716-a399-e68829999fc1",
        "colab": {
          "base_uri": "https://localhost:8080/",
          "height": 34
        }
      },
      "source": [
        "len(pos_neg_score), ps, ns, bs, sum([ps,ns,bs])"
      ],
      "execution_count": 0,
      "outputs": [
        {
          "output_type": "execute_result",
          "data": {
            "text/plain": [
              "(19034, 14185, 3369, 1480, 19034)"
            ]
          },
          "metadata": {
            "tags": []
          },
          "execution_count": 33
        }
      ]
    },
    {
      "cell_type": "code",
      "metadata": {
        "id": "ng6SXZ7WSprU",
        "colab_type": "code",
        "colab": {}
      },
      "source": [
        "text_df['polar'] = pos_neg_score\n",
        "text_df = text_df.drop(columns=['mean_score'])"
      ],
      "execution_count": 0,
      "outputs": []
    },
    {
      "cell_type": "code",
      "metadata": {
        "id": "idctqrlJL_UI",
        "colab_type": "code",
        "outputId": "3392153a-2684-4b5f-e16f-c6a70feedd8f",
        "colab": {
          "base_uri": "https://localhost:8080/",
          "height": 204
        }
      },
      "source": [
        "text_df.tail()"
      ],
      "execution_count": 0,
      "outputs": [
        {
          "output_type": "execute_result",
          "data": {
            "text/html": [
              "<div>\n",
              "<style scoped>\n",
              "    .dataframe tbody tr th:only-of-type {\n",
              "        vertical-align: middle;\n",
              "    }\n",
              "\n",
              "    .dataframe tbody tr th {\n",
              "        vertical-align: top;\n",
              "    }\n",
              "\n",
              "    .dataframe thead th {\n",
              "        text-align: right;\n",
              "    }\n",
              "</style>\n",
              "<table border=\"1\" class=\"dataframe\">\n",
              "  <thead>\n",
              "    <tr style=\"text-align: right;\">\n",
              "      <th></th>\n",
              "      <th>text</th>\n",
              "      <th>polar</th>\n",
              "    </tr>\n",
              "  </thead>\n",
              "  <tbody>\n",
              "    <tr>\n",
              "      <th>19029</th>\n",
              "      <td>С тех пор, как побывала последний раз, мнение ...</td>\n",
              "      <td>neg</td>\n",
              "    </tr>\n",
              "    <tr>\n",
              "      <th>19030</th>\n",
              "      <td>Обнаруженный в салате таракан очень поразил!!!...</td>\n",
              "      <td>neg</td>\n",
              "    </tr>\n",
              "    <tr>\n",
              "      <th>19031</th>\n",
              "      <td>Забавное заведение. Симпатичный светлый интерь...</td>\n",
              "      <td>pos</td>\n",
              "    </tr>\n",
              "    <tr>\n",
              "      <th>19032</th>\n",
              "      <td>Поздравляем администрацию ресторана Навруз с Н...</td>\n",
              "      <td>pos</td>\n",
              "    </tr>\n",
              "    <tr>\n",
              "      <th>19033</th>\n",
              "      <td>Очень нравиться интерьер. Отличный гриль.Карта...</td>\n",
              "      <td>pos</td>\n",
              "    </tr>\n",
              "  </tbody>\n",
              "</table>\n",
              "</div>"
            ],
            "text/plain": [
              "                                                    text polar\n",
              "19029  С тех пор, как побывала последний раз, мнение ...   neg\n",
              "19030  Обнаруженный в салате таракан очень поразил!!!...   neg\n",
              "19031  Забавное заведение. Симпатичный светлый интерь...   pos\n",
              "19032  Поздравляем администрацию ресторана Навруз с Н...   pos\n",
              "19033  Очень нравиться интерьер. Отличный гриль.Карта...   pos"
            ]
          },
          "metadata": {
            "tags": []
          },
          "execution_count": 35
        }
      ]
    },
    {
      "cell_type": "code",
      "metadata": {
        "id": "LGF0ZGsUNyM-",
        "colab_type": "code",
        "colab": {}
      },
      "source": [
        "df_sorted = text_df.sort_values(\"polar\").reset_index(drop=True)"
      ],
      "execution_count": 0,
      "outputs": []
    },
    {
      "cell_type": "code",
      "metadata": {
        "id": "PQS1i1g7N5X2",
        "colab_type": "code",
        "outputId": "314fece6-c72e-4bae-80e8-4304524f75e2",
        "colab": {
          "base_uri": "https://localhost:8080/",
          "height": 204
        }
      },
      "source": [
        "df_sorted.head()"
      ],
      "execution_count": 0,
      "outputs": [
        {
          "output_type": "execute_result",
          "data": {
            "text/html": [
              "<div>\n",
              "<style scoped>\n",
              "    .dataframe tbody tr th:only-of-type {\n",
              "        vertical-align: middle;\n",
              "    }\n",
              "\n",
              "    .dataframe tbody tr th {\n",
              "        vertical-align: top;\n",
              "    }\n",
              "\n",
              "    .dataframe thead th {\n",
              "        text-align: right;\n",
              "    }\n",
              "</style>\n",
              "<table border=\"1\" class=\"dataframe\">\n",
              "  <thead>\n",
              "    <tr style=\"text-align: right;\">\n",
              "      <th></th>\n",
              "      <th>text</th>\n",
              "      <th>polar</th>\n",
              "    </tr>\n",
              "  </thead>\n",
              "  <tbody>\n",
              "    <tr>\n",
              "      <th>0</th>\n",
              "      <td>дважды за 2 месяца обращалась в эту компанию (...</td>\n",
              "      <td>neg</td>\n",
              "    </tr>\n",
              "    <tr>\n",
              "      <th>1</th>\n",
              "      <td>Побывали в ресторане оКуба 09.03.13. Скажу так...</td>\n",
              "      <td>neg</td>\n",
              "    </tr>\n",
              "    <tr>\n",
              "      <th>2</th>\n",
              "      <td>Никому не советую</td>\n",
              "      <td>neg</td>\n",
              "    </tr>\n",
              "    <tr>\n",
              "      <th>3</th>\n",
              "      <td>И так Саквояж, мы шли туда целенаправленно, сл...</td>\n",
              "      <td>neg</td>\n",
              "    </tr>\n",
              "    <tr>\n",
              "      <th>4</th>\n",
              "      <td>Поскольку с апреля месяца никто так и не удосу...</td>\n",
              "      <td>neg</td>\n",
              "    </tr>\n",
              "  </tbody>\n",
              "</table>\n",
              "</div>"
            ],
            "text/plain": [
              "                                                text polar\n",
              "0  дважды за 2 месяца обращалась в эту компанию (...   neg\n",
              "1  Побывали в ресторане оКуба 09.03.13. Скажу так...   neg\n",
              "2                                  Никому не советую   neg\n",
              "3  И так Саквояж, мы шли туда целенаправленно, сл...   neg\n",
              "4  Поскольку с апреля месяца никто так и не удосу...   neg"
            ]
          },
          "metadata": {
            "tags": []
          },
          "execution_count": 37
        }
      ]
    },
    {
      "cell_type": "code",
      "metadata": {
        "id": "8Xm6ZQhgM1x4",
        "colab_type": "code",
        "outputId": "ac8fe3e4-3be2-464d-f536-93b0bee32b2e",
        "colab": {
          "base_uri": "https://localhost:8080/",
          "height": 204
        }
      },
      "source": [
        "new_text_df = df_sorted[:8220].reset_index(drop=True)\n",
        "\n",
        "from sklearn.utils import shuffle\n",
        "new_text_df = shuffle(new_text_df)\n",
        "new_text_df = new_text_df.reset_index(drop=True)\n",
        "\n",
        "new_text_df.head()"
      ],
      "execution_count": 0,
      "outputs": [
        {
          "output_type": "execute_result",
          "data": {
            "text/html": [
              "<div>\n",
              "<style scoped>\n",
              "    .dataframe tbody tr th:only-of-type {\n",
              "        vertical-align: middle;\n",
              "    }\n",
              "\n",
              "    .dataframe tbody tr th {\n",
              "        vertical-align: top;\n",
              "    }\n",
              "\n",
              "    .dataframe thead th {\n",
              "        text-align: right;\n",
              "    }\n",
              "</style>\n",
              "<table border=\"1\" class=\"dataframe\">\n",
              "  <thead>\n",
              "    <tr style=\"text-align: right;\">\n",
              "      <th></th>\n",
              "      <th>text</th>\n",
              "      <th>polar</th>\n",
              "    </tr>\n",
              "  </thead>\n",
              "  <tbody>\n",
              "    <tr>\n",
              "      <th>0</th>\n",
              "      <td>Я посещала это интеллигентное заведение вчера....</td>\n",
              "      <td>pos</td>\n",
              "    </tr>\n",
              "    <tr>\n",
              "      <th>1</th>\n",
              "      <td>После первого посещения ресторана прошло пару ...</td>\n",
              "      <td>pos</td>\n",
              "    </tr>\n",
              "    <tr>\n",
              "      <th>2</th>\n",
              "      <td>На досуге небольшой компанией решили прогулятс...</td>\n",
              "      <td>neut</td>\n",
              "    </tr>\n",
              "    <tr>\n",
              "      <th>3</th>\n",
              "      <td>Наступил день 8 Марта, решили отдохнуть вечеро...</td>\n",
              "      <td>neut</td>\n",
              "    </tr>\n",
              "    <tr>\n",
              "      <th>4</th>\n",
              "      <td>Паста не понравилась, принесли еле теплую. Обс...</td>\n",
              "      <td>neg</td>\n",
              "    </tr>\n",
              "  </tbody>\n",
              "</table>\n",
              "</div>"
            ],
            "text/plain": [
              "                                                text polar\n",
              "0  Я посещала это интеллигентное заведение вчера....   pos\n",
              "1  После первого посещения ресторана прошло пару ...   pos\n",
              "2  На досуге небольшой компанией решили прогулятс...  neut\n",
              "3  Наступил день 8 Марта, решили отдохнуть вечеро...  neut\n",
              "4  Паста не понравилась, принесли еле теплую. Обс...   neg"
            ]
          },
          "metadata": {
            "tags": []
          },
          "execution_count": 38
        }
      ]
    },
    {
      "cell_type": "code",
      "metadata": {
        "id": "oaA58cuDsiuP",
        "colab_type": "code",
        "outputId": "1a208d69-d30f-487e-f693-f7757b73a886",
        "colab": {
          "base_uri": "https://localhost:8080/",
          "height": 173
        }
      },
      "source": [
        "new_text_df.groupby('polar').nunique()"
      ],
      "execution_count": 0,
      "outputs": [
        {
          "output_type": "execute_result",
          "data": {
            "text/html": [
              "<div>\n",
              "<style scoped>\n",
              "    .dataframe tbody tr th:only-of-type {\n",
              "        vertical-align: middle;\n",
              "    }\n",
              "\n",
              "    .dataframe tbody tr th {\n",
              "        vertical-align: top;\n",
              "    }\n",
              "\n",
              "    .dataframe thead th {\n",
              "        text-align: right;\n",
              "    }\n",
              "</style>\n",
              "<table border=\"1\" class=\"dataframe\">\n",
              "  <thead>\n",
              "    <tr style=\"text-align: right;\">\n",
              "      <th></th>\n",
              "      <th>text</th>\n",
              "      <th>polar</th>\n",
              "    </tr>\n",
              "    <tr>\n",
              "      <th>polar</th>\n",
              "      <th></th>\n",
              "      <th></th>\n",
              "    </tr>\n",
              "  </thead>\n",
              "  <tbody>\n",
              "    <tr>\n",
              "      <th>neg</th>\n",
              "      <td>3369</td>\n",
              "      <td>1</td>\n",
              "    </tr>\n",
              "    <tr>\n",
              "      <th>neut</th>\n",
              "      <td>1480</td>\n",
              "      <td>1</td>\n",
              "    </tr>\n",
              "    <tr>\n",
              "      <th>pos</th>\n",
              "      <td>3371</td>\n",
              "      <td>1</td>\n",
              "    </tr>\n",
              "  </tbody>\n",
              "</table>\n",
              "</div>"
            ],
            "text/plain": [
              "       text  polar\n",
              "polar             \n",
              "neg    3369      1\n",
              "neut   1480      1\n",
              "pos    3371      1"
            ]
          },
          "metadata": {
            "tags": []
          },
          "execution_count": 39
        }
      ]
    },
    {
      "cell_type": "code",
      "metadata": {
        "id": "IsyQvxHJIK06",
        "colab_type": "code",
        "colab": {}
      },
      "source": [
        "import time\n",
        "start_time = time.time()"
      ],
      "execution_count": 0,
      "outputs": []
    },
    {
      "cell_type": "code",
      "metadata": {
        "id": "XDvlG7Blu817",
        "colab_type": "code",
        "colab": {}
      },
      "source": [
        "new_text_df['text_tok'] = new_text_df['text'].apply(tokenize)\n",
        "new_text_df['text_tok_2'] = new_text_df['text_tok'].apply(' '.join)\n",
        "#print(\"--- %s seconds ---\" % (time.time() - start_time))"
      ],
      "execution_count": 0,
      "outputs": []
    },
    {
      "cell_type": "code",
      "metadata": {
        "id": "Fys5sUhenr_V",
        "colab_type": "code",
        "outputId": "89b679f4-d0e0-442d-d2ec-5ea90e4f0b71",
        "colab": {
          "base_uri": "https://localhost:8080/",
          "height": 204
        }
      },
      "source": [
        "new_text_df.head()"
      ],
      "execution_count": 0,
      "outputs": [
        {
          "output_type": "execute_result",
          "data": {
            "text/html": [
              "<div>\n",
              "<style scoped>\n",
              "    .dataframe tbody tr th:only-of-type {\n",
              "        vertical-align: middle;\n",
              "    }\n",
              "\n",
              "    .dataframe tbody tr th {\n",
              "        vertical-align: top;\n",
              "    }\n",
              "\n",
              "    .dataframe thead th {\n",
              "        text-align: right;\n",
              "    }\n",
              "</style>\n",
              "<table border=\"1\" class=\"dataframe\">\n",
              "  <thead>\n",
              "    <tr style=\"text-align: right;\">\n",
              "      <th></th>\n",
              "      <th>text</th>\n",
              "      <th>polar</th>\n",
              "      <th>text_tok</th>\n",
              "      <th>text_tok_2</th>\n",
              "    </tr>\n",
              "  </thead>\n",
              "  <tbody>\n",
              "    <tr>\n",
              "      <th>0</th>\n",
              "      <td>посещали пару раз. место явно не для всех. обс...</td>\n",
              "      <td>neut</td>\n",
              "      <td>[посещать, пара, раз, место, явно, не, для, ве...</td>\n",
              "      <td>посещать пара раз место явно не для весь обслу...</td>\n",
              "    </tr>\n",
              "    <tr>\n",
              "      <th>1</th>\n",
              "      <td>Начитавшись, лестных отзывов, рванули в этот р...</td>\n",
              "      <td>neg</td>\n",
              "      <td>[начитаться, лестный, отзыв, рвануть, в, этот,...</td>\n",
              "      <td>начитаться лестный отзыв рвануть в этот рестор...</td>\n",
              "    </tr>\n",
              "    <tr>\n",
              "      <th>2</th>\n",
              "      <td>Может конечно кухня в Hemingway и подкачивает ...</td>\n",
              "      <td>pos</td>\n",
              "      <td>[мочь, конечно, кухня, в, hemingway, и, подкач...</td>\n",
              "      <td>мочь конечно кухня в hemingway и подкачивать ч...</td>\n",
              "    </tr>\n",
              "    <tr>\n",
              "      <th>3</th>\n",
              "      <td>Куда пойти вместо фаст-фуда ? -спросила меня п...</td>\n",
              "      <td>neg</td>\n",
              "      <td>[куда, пойти, вместо, фастфуд, спросить, я, по...</td>\n",
              "      <td>куда пойти вместо фастфуд спросить я подруга в...</td>\n",
              "    </tr>\n",
              "    <tr>\n",
              "      <th>4</th>\n",
              "      <td>В январе 2013 сходили в один из таких редких в...</td>\n",
              "      <td>pos</td>\n",
              "      <td>[в, январь, сходить, в, один, из, такой, редки...</td>\n",
              "      <td>в январь сходить в один из такой редкий в спб ...</td>\n",
              "    </tr>\n",
              "  </tbody>\n",
              "</table>\n",
              "</div>"
            ],
            "text/plain": [
              "                                                text  ...                                         text_tok_2\n",
              "0  посещали пару раз. место явно не для всех. обс...  ...  посещать пара раз место явно не для весь обслу...\n",
              "1  Начитавшись, лестных отзывов, рванули в этот р...  ...  начитаться лестный отзыв рвануть в этот рестор...\n",
              "2  Может конечно кухня в Hemingway и подкачивает ...  ...  мочь конечно кухня в hemingway и подкачивать ч...\n",
              "3  Куда пойти вместо фаст-фуда ? -спросила меня п...  ...  куда пойти вместо фастфуд спросить я подруга в...\n",
              "4  В январе 2013 сходили в один из таких редких в...  ...  в январь сходить в один из такой редкий в спб ...\n",
              "\n",
              "[5 rows x 4 columns]"
            ]
          },
          "metadata": {
            "tags": []
          },
          "execution_count": 81
        }
      ]
    },
    {
      "cell_type": "markdown",
      "metadata": {
        "id": "xioxwR4vngOT",
        "colab_type": "text"
      },
      "source": [
        "# сохранение и загрузка предобработанного датасета"
      ]
    },
    {
      "cell_type": "code",
      "metadata": {
        "id": "QVDGvWBI-BRk",
        "colab_type": "code",
        "colab": {}
      },
      "source": [
        "import json\n",
        "\n",
        "with open('text_tok_8001.json', 'w') as f:\n",
        "    json.dump(list(new_text_df['text_tok']), f)"
      ],
      "execution_count": 0,
      "outputs": []
    },
    {
      "cell_type": "code",
      "metadata": {
        "id": "e6HQVF8x-gGa",
        "colab_type": "code",
        "colab": {}
      },
      "source": [
        "import json\n",
        "\n",
        "with open('text_tok_8001.json') as f:\n",
        "    text_tok = json.load(f)"
      ],
      "execution_count": 0,
      "outputs": []
    },
    {
      "cell_type": "code",
      "metadata": {
        "id": "_CKFJgcwmbc2",
        "colab_type": "code",
        "colab": {}
      },
      "source": [
        "import json\n",
        "\n",
        "with open('text_polar_8001.json', 'w') as f:\n",
        "    json.dump(list(new_text_df['polar']), f)"
      ],
      "execution_count": 0,
      "outputs": []
    },
    {
      "cell_type": "code",
      "metadata": {
        "id": "dp40bD5Amjfy",
        "colab_type": "code",
        "colab": {}
      },
      "source": [
        "import json\n",
        "\n",
        "with open('text_polar_8001.json') as f:\n",
        "    text_polar = json.load(f)"
      ],
      "execution_count": 0,
      "outputs": []
    },
    {
      "cell_type": "code",
      "metadata": {
        "id": "et4gY4iAm9PS",
        "colab_type": "code",
        "colab": {}
      },
      "source": [
        "import json\n",
        "\n",
        "with open('texts_8001.json', 'w') as f:\n",
        "    json.dump(list(new_text_df['text']), f)"
      ],
      "execution_count": 0,
      "outputs": []
    },
    {
      "cell_type": "code",
      "metadata": {
        "id": "4dMAsqOdnDYW",
        "colab_type": "code",
        "colab": {}
      },
      "source": [
        "import json\n",
        "\n",
        "with open('texts_8001.json') as f:\n",
        "    texts_8001 = json.load(f)"
      ],
      "execution_count": 0,
      "outputs": []
    },
    {
      "cell_type": "code",
      "metadata": {
        "id": "va2zeVAwdNEp",
        "colab_type": "code",
        "colab": {}
      },
      "source": [
        "new_text_df = pd.DataFrame()\n",
        "new_text_df['text'] = texts_8001\n",
        "new_text_df['polar'] = text_polar\n",
        "new_text_df['text_tok'] = text_tok\n",
        "new_text_df['text_tok_2'] = new_text_df['text_tok'].apply(' '.join)"
      ],
      "execution_count": 0,
      "outputs": []
    },
    {
      "cell_type": "code",
      "metadata": {
        "id": "5JCfdGAhdS3f",
        "colab_type": "code",
        "outputId": "9b1680dd-0e22-4aa6-9152-16558e5073e0",
        "colab": {
          "base_uri": "https://localhost:8080/",
          "height": 204
        }
      },
      "source": [
        "new_text_df.head()"
      ],
      "execution_count": 0,
      "outputs": [
        {
          "output_type": "execute_result",
          "data": {
            "text/html": [
              "<div>\n",
              "<style scoped>\n",
              "    .dataframe tbody tr th:only-of-type {\n",
              "        vertical-align: middle;\n",
              "    }\n",
              "\n",
              "    .dataframe tbody tr th {\n",
              "        vertical-align: top;\n",
              "    }\n",
              "\n",
              "    .dataframe thead th {\n",
              "        text-align: right;\n",
              "    }\n",
              "</style>\n",
              "<table border=\"1\" class=\"dataframe\">\n",
              "  <thead>\n",
              "    <tr style=\"text-align: right;\">\n",
              "      <th></th>\n",
              "      <th>text</th>\n",
              "      <th>polar</th>\n",
              "      <th>text_tok</th>\n",
              "      <th>text_tok_2</th>\n",
              "    </tr>\n",
              "  </thead>\n",
              "  <tbody>\n",
              "    <tr>\n",
              "      <th>0</th>\n",
              "      <td>посещали пару раз. место явно не для всех. обс...</td>\n",
              "      <td>neut</td>\n",
              "      <td>[посещать, пара, раз, место, явно, не, для, ве...</td>\n",
              "      <td>посещать пара раз место явно не для весь обслу...</td>\n",
              "    </tr>\n",
              "    <tr>\n",
              "      <th>1</th>\n",
              "      <td>Начитавшись, лестных отзывов, рванули в этот р...</td>\n",
              "      <td>neg</td>\n",
              "      <td>[начитаться, лестный, отзыв, рвануть, в, этот,...</td>\n",
              "      <td>начитаться лестный отзыв рвануть в этот рестор...</td>\n",
              "    </tr>\n",
              "    <tr>\n",
              "      <th>2</th>\n",
              "      <td>Может конечно кухня в Hemingway и подкачивает ...</td>\n",
              "      <td>pos</td>\n",
              "      <td>[мочь, конечно, кухня, в, hemingway, и, подкач...</td>\n",
              "      <td>мочь конечно кухня в hemingway и подкачивать ч...</td>\n",
              "    </tr>\n",
              "    <tr>\n",
              "      <th>3</th>\n",
              "      <td>Куда пойти вместо фаст-фуда ? -спросила меня п...</td>\n",
              "      <td>neg</td>\n",
              "      <td>[куда, пойти, вместо, фастфуд, спросить, я, по...</td>\n",
              "      <td>куда пойти вместо фастфуд спросить я подруга в...</td>\n",
              "    </tr>\n",
              "    <tr>\n",
              "      <th>4</th>\n",
              "      <td>В январе 2013 сходили в один из таких редких в...</td>\n",
              "      <td>pos</td>\n",
              "      <td>[в, январь, сходить, в, один, из, такой, редки...</td>\n",
              "      <td>в январь сходить в один из такой редкий в спб ...</td>\n",
              "    </tr>\n",
              "  </tbody>\n",
              "</table>\n",
              "</div>"
            ],
            "text/plain": [
              "                                                text  ...                                         text_tok_2\n",
              "0  посещали пару раз. место явно не для всех. обс...  ...  посещать пара раз место явно не для весь обслу...\n",
              "1  Начитавшись, лестных отзывов, рванули в этот р...  ...  начитаться лестный отзыв рвануть в этот рестор...\n",
              "2  Может конечно кухня в Hemingway и подкачивает ...  ...  мочь конечно кухня в hemingway и подкачивать ч...\n",
              "3  Куда пойти вместо фаст-фуда ? -спросила меня п...  ...  куда пойти вместо фастфуд спросить я подруга в...\n",
              "4  В январе 2013 сходили в один из таких редких в...  ...  в январь сходить в один из такой редкий в спб ...\n",
              "\n",
              "[5 rows x 4 columns]"
            ]
          },
          "metadata": {
            "tags": []
          },
          "execution_count": 222
        }
      ]
    },
    {
      "cell_type": "markdown",
      "metadata": {
        "id": "O9iq10lTHgDf",
        "colab_type": "text"
      },
      "source": [
        "# Car + rest dataset"
      ]
    },
    {
      "cell_type": "code",
      "metadata": {
        "id": "S8BYjZ7nB2KP",
        "colab_type": "code",
        "colab": {}
      },
      "source": [
        "rest_corpus_train = open('SentiRuEval_rest_markup_train.xml', 'r', encoding = 'utf-8', errors='ignore')\n",
        "rest_train = rest_corpus_train.read()\n",
        "rest_corpus_train.close()\n",
        "\n",
        "rest_texts_train = re.findall(r'<text>(.*?)</text>', rest_train)\n",
        "rest_whole_scores_train = re.findall(r'<category name=\"Whole\" sentiment=\"(.*?)\"/>', rest_train)"
      ],
      "execution_count": 0,
      "outputs": []
    },
    {
      "cell_type": "code",
      "metadata": {
        "id": "Uu2QWjg9CMy2",
        "colab_type": "code",
        "colab": {}
      },
      "source": [
        "rest_corpus_test = open('SentiRuEval_rest_markup_test.xml', 'r', encoding = 'utf-8', errors='ignore')\n",
        "rest_test = rest_corpus_test.read()\n",
        "rest_corpus_test.close()\n",
        "\n",
        "rest_texts_test = re.findall(r'<text>(.*?)</text>', rest_test)\n",
        "rest_whole_scores_test = re.findall(r'<category name=\"Whole\" sentiment=\"(.*?)\"/>', rest_test)"
      ],
      "execution_count": 0,
      "outputs": []
    },
    {
      "cell_type": "code",
      "metadata": {
        "id": "QQsVNqOGCqsD",
        "colab_type": "code",
        "outputId": "1b75f16f-6548-45f3-f2cc-ea7a65deb9db",
        "colab": {
          "base_uri": "https://localhost:8080/",
          "height": 204
        }
      },
      "source": [
        "rest_df = pd.DataFrame()\n",
        "rest_df['text'] = rest_texts_train\n",
        "rest_df['score'] = rest_whole_scores_train\n",
        "\n",
        "rest_df = rest_df.loc[rest_df['score'] != 'absence']\n",
        "#rest_df = rest_df.loc[rest_df['score'] != 'both']\n",
        "rest_df = rest_df.reset_index(drop=True)\n",
        "\n",
        "rest_df['text_tok'] = rest_df['text'].apply(tokenize)\n",
        "rest_df['text_tok_2'] = rest_df['text_tok'].apply(' '.join)\n",
        "\n",
        "rest_df.head()"
      ],
      "execution_count": 0,
      "outputs": [
        {
          "output_type": "execute_result",
          "data": {
            "text/html": [
              "<div>\n",
              "<style scoped>\n",
              "    .dataframe tbody tr th:only-of-type {\n",
              "        vertical-align: middle;\n",
              "    }\n",
              "\n",
              "    .dataframe tbody tr th {\n",
              "        vertical-align: top;\n",
              "    }\n",
              "\n",
              "    .dataframe thead th {\n",
              "        text-align: right;\n",
              "    }\n",
              "</style>\n",
              "<table border=\"1\" class=\"dataframe\">\n",
              "  <thead>\n",
              "    <tr style=\"text-align: right;\">\n",
              "      <th></th>\n",
              "      <th>text</th>\n",
              "      <th>score</th>\n",
              "      <th>text_tok</th>\n",
              "      <th>text_tok_2</th>\n",
              "    </tr>\n",
              "  </thead>\n",
              "  <tbody>\n",
              "    <tr>\n",
              "      <th>0</th>\n",
              "      <td>День 8-го марта прошёл, можно и итоги подвести...</td>\n",
              "      <td>positive</td>\n",
              "      <td>[день, го, март, пройти, можно, и, итог, подве...</td>\n",
              "      <td>день го март пройти можно и итог подвести реши...</td>\n",
              "    </tr>\n",
              "    <tr>\n",
              "      <th>1</th>\n",
              "      <td>Отмечали в этом ресторане день рождение на пер...</td>\n",
              "      <td>positive</td>\n",
              "      <td>[отмечать, в, это, ресторан, день, рождение, н...</td>\n",
              "      <td>отмечать в это ресторан день рождение на перво...</td>\n",
              "    </tr>\n",
              "    <tr>\n",
              "      <th>2</th>\n",
              "      <td>Для встречи с друзьями было выбрано данное зав...</td>\n",
              "      <td>positive</td>\n",
              "      <td>[для, встреча, с, друг, быть, выбрать, данный,...</td>\n",
              "      <td>для встреча с друг быть выбрать данный заведен...</td>\n",
              "    </tr>\n",
              "    <tr>\n",
              "      <th>3</th>\n",
              "      <td>Хочу поделиться своим впечатлением от посещени...</td>\n",
              "      <td>positive</td>\n",
              "      <td>[хотеть, поделиться, свой, впечатление, от, по...</td>\n",
              "      <td>хотеть поделиться свой впечатление от посещени...</td>\n",
              "    </tr>\n",
              "    <tr>\n",
              "      <th>4</th>\n",
              "      <td>Добрый день! Были вчера с друзьями в этом кафе...</td>\n",
              "      <td>positive</td>\n",
              "      <td>[добрый, день, быть, вчера, с, друг, в, это, к...</td>\n",
              "      <td>добрый день быть вчера с друг в это кафе очень...</td>\n",
              "    </tr>\n",
              "  </tbody>\n",
              "</table>\n",
              "</div>"
            ],
            "text/plain": [
              "                                                text  ...                                         text_tok_2\n",
              "0  День 8-го марта прошёл, можно и итоги подвести...  ...  день го март пройти можно и итог подвести реши...\n",
              "1  Отмечали в этом ресторане день рождение на пер...  ...  отмечать в это ресторан день рождение на перво...\n",
              "2  Для встречи с друзьями было выбрано данное зав...  ...  для встреча с друг быть выбрать данный заведен...\n",
              "3  Хочу поделиться своим впечатлением от посещени...  ...  хотеть поделиться свой впечатление от посещени...\n",
              "4  Добрый день! Были вчера с друзьями в этом кафе...  ...  добрый день быть вчера с друг в это кафе очень...\n",
              "\n",
              "[5 rows x 4 columns]"
            ]
          },
          "metadata": {
            "tags": []
          },
          "execution_count": 226
        }
      ]
    },
    {
      "cell_type": "code",
      "metadata": {
        "id": "b6vx8UQnDrh4",
        "colab_type": "code",
        "outputId": "b7e7e730-8f5e-45f4-a28b-d8e8c5ac1987",
        "colab": {
          "base_uri": "https://localhost:8080/",
          "height": 173
        }
      },
      "source": [
        "rest_df.groupby('score').nunique()"
      ],
      "execution_count": 0,
      "outputs": [
        {
          "output_type": "execute_result",
          "data": {
            "text/html": [
              "<div>\n",
              "<style scoped>\n",
              "    .dataframe tbody tr th:only-of-type {\n",
              "        vertical-align: middle;\n",
              "    }\n",
              "\n",
              "    .dataframe tbody tr th {\n",
              "        vertical-align: top;\n",
              "    }\n",
              "\n",
              "    .dataframe thead th {\n",
              "        text-align: right;\n",
              "    }\n",
              "</style>\n",
              "<table border=\"1\" class=\"dataframe\">\n",
              "  <thead>\n",
              "    <tr style=\"text-align: right;\">\n",
              "      <th></th>\n",
              "      <th>text</th>\n",
              "      <th>score</th>\n",
              "    </tr>\n",
              "    <tr>\n",
              "      <th>score</th>\n",
              "      <th></th>\n",
              "      <th></th>\n",
              "    </tr>\n",
              "  </thead>\n",
              "  <tbody>\n",
              "    <tr>\n",
              "      <th>both</th>\n",
              "      <td>36</td>\n",
              "      <td>1</td>\n",
              "    </tr>\n",
              "    <tr>\n",
              "      <th>negative</th>\n",
              "      <td>28</td>\n",
              "      <td>1</td>\n",
              "    </tr>\n",
              "    <tr>\n",
              "      <th>positive</th>\n",
              "      <td>136</td>\n",
              "      <td>1</td>\n",
              "    </tr>\n",
              "  </tbody>\n",
              "</table>\n",
              "</div>"
            ],
            "text/plain": [
              "          text  score\n",
              "score                \n",
              "both        36      1\n",
              "negative    28      1\n",
              "positive   136      1"
            ]
          },
          "metadata": {
            "tags": []
          },
          "execution_count": 224
        }
      ]
    },
    {
      "cell_type": "code",
      "metadata": {
        "id": "1PoZ_sOWDWGx",
        "colab_type": "code",
        "outputId": "bce1a356-c554-493b-e7bf-6df9db7ed5dd",
        "colab": {
          "base_uri": "https://localhost:8080/",
          "height": 204
        }
      },
      "source": [
        "rest_df_2 = pd.DataFrame()\n",
        "rest_df_2['text'] = rest_texts_test\n",
        "rest_df_2['score'] = rest_whole_scores_test\n",
        "\n",
        "rest_df_2 = rest_df_2.loc[rest_df_2['score'] != 'absence']\n",
        "#rest_df_2 = rest_df_2.loc[rest_df_2['score'] != 'both']\n",
        "rest_df_2 = rest_df_2.reset_index(drop=True)\n",
        "\n",
        "rest_df_2['text_tok'] = rest_df_2['text'].apply(tokenize)\n",
        "rest_df_2['text_tok_2'] = rest_df_2['text_tok'].apply(' '.join)\n",
        "\n",
        "rest_df_2.head()"
      ],
      "execution_count": 0,
      "outputs": [
        {
          "output_type": "execute_result",
          "data": {
            "text/html": [
              "<div>\n",
              "<style scoped>\n",
              "    .dataframe tbody tr th:only-of-type {\n",
              "        vertical-align: middle;\n",
              "    }\n",
              "\n",
              "    .dataframe tbody tr th {\n",
              "        vertical-align: top;\n",
              "    }\n",
              "\n",
              "    .dataframe thead th {\n",
              "        text-align: right;\n",
              "    }\n",
              "</style>\n",
              "<table border=\"1\" class=\"dataframe\">\n",
              "  <thead>\n",
              "    <tr style=\"text-align: right;\">\n",
              "      <th></th>\n",
              "      <th>text</th>\n",
              "      <th>score</th>\n",
              "      <th>text_tok</th>\n",
              "      <th>text_tok_2</th>\n",
              "    </tr>\n",
              "  </thead>\n",
              "  <tbody>\n",
              "    <tr>\n",
              "      <th>0</th>\n",
              "      <td>По совету друзей посетили данное заведение. Бы...</td>\n",
              "      <td>positive</td>\n",
              "      <td>[по, совет, друг, посетить, данный, заведение,...</td>\n",
              "      <td>по совет друг посетить данный заведение быть в...</td>\n",
              "    </tr>\n",
              "    <tr>\n",
              "      <th>1</th>\n",
              "      <td>Сегодня посетили этот ресторан с девушкой. Оче...</td>\n",
              "      <td>positive</td>\n",
              "      <td>[сегодня, посетить, этот, ресторан, с, девушка...</td>\n",
              "      <td>сегодня посетить этот ресторан с девушка очень...</td>\n",
              "    </tr>\n",
              "    <tr>\n",
              "      <th>2</th>\n",
              "      <td>Сегодня с мужем побывали в этом ресторанчике.С...</td>\n",
              "      <td>both</td>\n",
              "      <td>[сегодня, с, муж, побывать, в, это, ресторанчи...</td>\n",
              "      <td>сегодня с муж побывать в это ресторанчикеслыша...</td>\n",
              "    </tr>\n",
              "    <tr>\n",
              "      <th>3</th>\n",
              "      <td>Отличное место, особенно для больших компаний!...</td>\n",
              "      <td>positive</td>\n",
              "      <td>[отличный, место, особенно, для, больший, комп...</td>\n",
              "      <td>отличный место особенно для больший компанийог...</td>\n",
              "    </tr>\n",
              "    <tr>\n",
              "      <th>4</th>\n",
              "      <td>Отдыхали с друзями, гуляли, отмечали День рожд...</td>\n",
              "      <td>positive</td>\n",
              "      <td>[отдыхать, с, друзя, гулять, отмечать, день, р...</td>\n",
              "      <td>отдыхать с друзя гулять отмечать день рождение...</td>\n",
              "    </tr>\n",
              "  </tbody>\n",
              "</table>\n",
              "</div>"
            ],
            "text/plain": [
              "                                                text  ...                                         text_tok_2\n",
              "0  По совету друзей посетили данное заведение. Бы...  ...  по совет друг посетить данный заведение быть в...\n",
              "1  Сегодня посетили этот ресторан с девушкой. Оче...  ...  сегодня посетить этот ресторан с девушка очень...\n",
              "2  Сегодня с мужем побывали в этом ресторанчике.С...  ...  сегодня с муж побывать в это ресторанчикеслыша...\n",
              "3  Отличное место, особенно для больших компаний!...  ...  отличный место особенно для больший компанийог...\n",
              "4  Отдыхали с друзями, гуляли, отмечали День рожд...  ...  отдыхать с друзя гулять отмечать день рождение...\n",
              "\n",
              "[5 rows x 4 columns]"
            ]
          },
          "metadata": {
            "tags": []
          },
          "execution_count": 230
        }
      ]
    },
    {
      "cell_type": "code",
      "metadata": {
        "id": "gyHX1G69D_MK",
        "colab_type": "code",
        "outputId": "5a51dbac-1c3d-410e-a391-b9e01be5b718",
        "colab": {
          "base_uri": "https://localhost:8080/",
          "height": 173
        }
      },
      "source": [
        "rest_df_2.groupby('score').nunique()"
      ],
      "execution_count": 0,
      "outputs": [
        {
          "output_type": "execute_result",
          "data": {
            "text/html": [
              "<div>\n",
              "<style scoped>\n",
              "    .dataframe tbody tr th:only-of-type {\n",
              "        vertical-align: middle;\n",
              "    }\n",
              "\n",
              "    .dataframe tbody tr th {\n",
              "        vertical-align: top;\n",
              "    }\n",
              "\n",
              "    .dataframe thead th {\n",
              "        text-align: right;\n",
              "    }\n",
              "</style>\n",
              "<table border=\"1\" class=\"dataframe\">\n",
              "  <thead>\n",
              "    <tr style=\"text-align: right;\">\n",
              "      <th></th>\n",
              "      <th>text</th>\n",
              "      <th>score</th>\n",
              "    </tr>\n",
              "    <tr>\n",
              "      <th>score</th>\n",
              "      <th></th>\n",
              "      <th></th>\n",
              "    </tr>\n",
              "  </thead>\n",
              "  <tbody>\n",
              "    <tr>\n",
              "      <th>both</th>\n",
              "      <td>31</td>\n",
              "      <td>1</td>\n",
              "    </tr>\n",
              "    <tr>\n",
              "      <th>negative</th>\n",
              "      <td>26</td>\n",
              "      <td>1</td>\n",
              "    </tr>\n",
              "    <tr>\n",
              "      <th>positive</th>\n",
              "      <td>146</td>\n",
              "      <td>1</td>\n",
              "    </tr>\n",
              "  </tbody>\n",
              "</table>\n",
              "</div>"
            ],
            "text/plain": [
              "          text  score\n",
              "score                \n",
              "both        31      1\n",
              "negative    26      1\n",
              "positive   146      1"
            ]
          },
          "metadata": {
            "tags": []
          },
          "execution_count": 228
        }
      ]
    },
    {
      "cell_type": "code",
      "metadata": {
        "id": "tsW7cWRdS235",
        "colab_type": "code",
        "colab": {}
      },
      "source": [
        "car_corpus_train = open('SentiRuEval_car_markup_train.xml', 'r', encoding = 'utf-8', errors='ignore')\n",
        "car_train = car_corpus_train.read()\n",
        "car_corpus_train.close()\n",
        "\n",
        "car_texts_train = re.findall(r'<text>(.*?)</text>', car_train)\n",
        "whole_scores_train = re.findall(r'<category name=\"Whole\" sentiment=\"(.*?)\"/>', car_train)"
      ],
      "execution_count": 0,
      "outputs": []
    },
    {
      "cell_type": "code",
      "metadata": {
        "id": "OvxjvztUHZgy",
        "colab_type": "code",
        "colab": {}
      },
      "source": [
        "car_corpus_test = open('SentiRuEval_car_markup_test.xml', 'r', encoding = 'utf-8', errors='ignore')\n",
        "car_test = car_corpus_test.read()\n",
        "car_corpus_test.close()\n",
        "\n",
        "car_texts_test = re.findall(r'<text>(.*?)</text>', car_test)\n",
        "whole_scores_test = re.findall(r'<category name=\"Whole\" sentiment=\"(.*?)\"/>', car_test)"
      ],
      "execution_count": 0,
      "outputs": []
    },
    {
      "cell_type": "code",
      "metadata": {
        "id": "mcJ3JBPhPZ6Y",
        "colab_type": "code",
        "outputId": "38037f78-cea1-4791-b9d2-39bbe22889cd",
        "colab": {
          "base_uri": "https://localhost:8080/"
        }
      },
      "source": [
        "car_df = pd.DataFrame()\n",
        "car_df['text'] = car_texts_train\n",
        "car_df['score'] = whole_scores_train\n",
        "\n",
        "car_df = car_df.loc[car_df['score'] != 'absence']\n",
        "#car_df = car_df.loc[car_df['score'] != 'both']\n",
        "car_df = car_df.reset_index(drop=True)\n",
        "\n",
        "car_df['text_tok'] = car_df['text'].apply(tokenize)\n",
        "car_df['text_tok_2'] = car_df['text_tok'].apply(' '.join)\n",
        "\n",
        "car_df.head()"
      ],
      "execution_count": 0,
      "outputs": [
        {
          "output_type": "execute_result",
          "data": {
            "text/html": [
              "<div>\n",
              "<style scoped>\n",
              "    .dataframe tbody tr th:only-of-type {\n",
              "        vertical-align: middle;\n",
              "    }\n",
              "\n",
              "    .dataframe tbody tr th {\n",
              "        vertical-align: top;\n",
              "    }\n",
              "\n",
              "    .dataframe thead th {\n",
              "        text-align: right;\n",
              "    }\n",
              "</style>\n",
              "<table border=\"1\" class=\"dataframe\">\n",
              "  <thead>\n",
              "    <tr style=\"text-align: right;\">\n",
              "      <th></th>\n",
              "      <th>text</th>\n",
              "      <th>score</th>\n",
              "      <th>text_tok</th>\n",
              "      <th>text_tok_2</th>\n",
              "    </tr>\n",
              "  </thead>\n",
              "  <tbody>\n",
              "    <tr>\n",
              "      <th>0</th>\n",
              "      <td>Недавно купил этот автомобиль. Авто отличное! ...</td>\n",
              "      <td>positive</td>\n",
              "      <td>[недавно, купить, этот, автомобиль, авто, отли...</td>\n",
              "      <td>недавно купить этот автомобиль авто отличный д...</td>\n",
              "    </tr>\n",
              "    <tr>\n",
              "      <th>1</th>\n",
              "      <td>Купил данную машину в 2012 году, выбор пал име...</td>\n",
              "      <td>both</td>\n",
              "      <td>[купить, данный, машина, в, год, выбор, пасть,...</td>\n",
              "      <td>купить данный машина в год выбор пасть именно ...</td>\n",
              "    </tr>\n",
              "    <tr>\n",
              "      <th>2</th>\n",
              "      <td>Была пользователем автомобиля ваз 21144 на про...</td>\n",
              "      <td>both</td>\n",
              "      <td>[быть, пользователь, автомобиль, ваза, на, про...</td>\n",
              "      <td>быть пользователь автомобиль ваза на протяжени...</td>\n",
              "    </tr>\n",
              "    <tr>\n",
              "      <th>3</th>\n",
              "      <td>В данном отзыве речь пойдет о Опель Астра 2010...</td>\n",
              "      <td>negative</td>\n",
              "      <td>[в, дать, отзыв, речь, пойти, о, опель, астр, ...</td>\n",
              "      <td>в дать отзыв речь пойти о опель астр год выпус...</td>\n",
              "    </tr>\n",
              "    <tr>\n",
              "      <th>4</th>\n",
              "      <td>Взяли этот автомобиль для семьи. Ездить приход...</td>\n",
              "      <td>positive</td>\n",
              "      <td>[взять, этот, автомобиль, для, семья, ездить, ...</td>\n",
              "      <td>взять этот автомобиль для семья ездить приходи...</td>\n",
              "    </tr>\n",
              "  </tbody>\n",
              "</table>\n",
              "</div>"
            ],
            "text/plain": [
              "                                                text  ...                                         text_tok_2\n",
              "0  Недавно купил этот автомобиль. Авто отличное! ...  ...  недавно купить этот автомобиль авто отличный д...\n",
              "1  Купил данную машину в 2012 году, выбор пал име...  ...  купить данный машина в год выбор пасть именно ...\n",
              "2  Была пользователем автомобиля ваз 21144 на про...  ...  быть пользователь автомобиль ваза на протяжени...\n",
              "3  В данном отзыве речь пойдет о Опель Астра 2010...  ...  в дать отзыв речь пойти о опель астр год выпус...\n",
              "4  Взяли этот автомобиль для семьи. Ездить приход...  ...  взять этот автомобиль для семья ездить приходи...\n",
              "\n",
              "[5 rows x 4 columns]"
            ]
          },
          "metadata": {
            "tags": []
          },
          "execution_count": 234
        }
      ]
    },
    {
      "cell_type": "code",
      "metadata": {
        "id": "l46k0zmvEjf4",
        "colab_type": "code",
        "outputId": "88f04377-8131-48bc-a366-ec6f1a16b04e",
        "colab": {
          "base_uri": "https://localhost:8080/",
          "height": 204
        }
      },
      "source": [
        "car_df.groupby('score').nunique()"
      ],
      "execution_count": 0,
      "outputs": [
        {
          "output_type": "execute_result",
          "data": {
            "text/html": [
              "<div>\n",
              "<style scoped>\n",
              "    .dataframe tbody tr th:only-of-type {\n",
              "        vertical-align: middle;\n",
              "    }\n",
              "\n",
              "    .dataframe tbody tr th {\n",
              "        vertical-align: top;\n",
              "    }\n",
              "\n",
              "    .dataframe thead th {\n",
              "        text-align: right;\n",
              "    }\n",
              "</style>\n",
              "<table border=\"1\" class=\"dataframe\">\n",
              "  <thead>\n",
              "    <tr style=\"text-align: right;\">\n",
              "      <th></th>\n",
              "      <th>text</th>\n",
              "      <th>score</th>\n",
              "    </tr>\n",
              "    <tr>\n",
              "      <th>score</th>\n",
              "      <th></th>\n",
              "      <th></th>\n",
              "    </tr>\n",
              "  </thead>\n",
              "  <tbody>\n",
              "    <tr>\n",
              "      <th>both</th>\n",
              "      <td>46</td>\n",
              "      <td>1</td>\n",
              "    </tr>\n",
              "    <tr>\n",
              "      <th>negative</th>\n",
              "      <td>30</td>\n",
              "      <td>1</td>\n",
              "    </tr>\n",
              "    <tr>\n",
              "      <th>neutral</th>\n",
              "      <td>12</td>\n",
              "      <td>1</td>\n",
              "    </tr>\n",
              "    <tr>\n",
              "      <th>positive</th>\n",
              "      <td>115</td>\n",
              "      <td>1</td>\n",
              "    </tr>\n",
              "  </tbody>\n",
              "</table>\n",
              "</div>"
            ],
            "text/plain": [
              "          text  score\n",
              "score                \n",
              "both        46      1\n",
              "negative    30      1\n",
              "neutral     12      1\n",
              "positive   115      1"
            ]
          },
          "metadata": {
            "tags": []
          },
          "execution_count": 232
        }
      ]
    },
    {
      "cell_type": "code",
      "metadata": {
        "id": "fM6M58rJS-Lm",
        "colab_type": "code",
        "outputId": "605b3141-e7a7-4004-a85e-8d63f1110c66",
        "colab": {
          "base_uri": "https://localhost:8080/",
          "height": 204
        }
      },
      "source": [
        "car_df_2 = pd.DataFrame()\n",
        "car_df_2['text'] = car_texts_test\n",
        "car_df_2['score'] = whole_scores_test\n",
        "\n",
        "car_df_2 = car_df_2.loc[car_df_2['score'] != 'absence']\n",
        "#car_df_2 = car_df_2.loc[car_df_2['score'] != 'both']\n",
        "car_df_2 = car_df_2.reset_index(drop=True)\n",
        "\n",
        "car_df_2['text_tok'] = car_df_2['text'].apply(tokenize)\n",
        "car_df_2['text_tok_2'] = car_df_2['text_tok'].apply(' '.join)\n",
        "\n",
        "car_df_2.head()"
      ],
      "execution_count": 0,
      "outputs": [
        {
          "output_type": "execute_result",
          "data": {
            "text/html": [
              "<div>\n",
              "<style scoped>\n",
              "    .dataframe tbody tr th:only-of-type {\n",
              "        vertical-align: middle;\n",
              "    }\n",
              "\n",
              "    .dataframe tbody tr th {\n",
              "        vertical-align: top;\n",
              "    }\n",
              "\n",
              "    .dataframe thead th {\n",
              "        text-align: right;\n",
              "    }\n",
              "</style>\n",
              "<table border=\"1\" class=\"dataframe\">\n",
              "  <thead>\n",
              "    <tr style=\"text-align: right;\">\n",
              "      <th></th>\n",
              "      <th>text</th>\n",
              "      <th>score</th>\n",
              "      <th>text_tok</th>\n",
              "      <th>text_tok_2</th>\n",
              "    </tr>\n",
              "  </thead>\n",
              "  <tbody>\n",
              "    <tr>\n",
              "      <th>0</th>\n",
              "      <td>В принципе машинка не плохая, объемом в 2.0 ку...</td>\n",
              "      <td>both</td>\n",
              "      <td>[в, принцип, машинка, не, плохой, объём, в, ку...</td>\n",
              "      <td>в принцип машинка не плохой объём в куб лёгкий...</td>\n",
              "    </tr>\n",
              "    <tr>\n",
              "      <th>1</th>\n",
              "      <td>Здорова ВСЕМ! Вот моё мнение по поводу ВАЗ-210...</td>\n",
              "      <td>positive</td>\n",
              "      <td>[здоровый, весь, вот, мой, мнение, по, повод, ...</td>\n",
              "      <td>здоровый весь вот мой мнение по повод ваза отл...</td>\n",
              "    </tr>\n",
              "    <tr>\n",
              "      <th>2</th>\n",
              "      <td>Автомобиль очень хороший, вместительный, компа...</td>\n",
              "      <td>positive</td>\n",
              "      <td>[автомобиль, очень, хороший, вместительный, ко...</td>\n",
              "      <td>автомобиль очень хороший вместительный компакт...</td>\n",
              "    </tr>\n",
              "    <tr>\n",
              "      <th>3</th>\n",
              "      <td>У меня было 4 таких машины, изучил все болячки...</td>\n",
              "      <td>both</td>\n",
              "      <td>[у, я, быть, такой, машина, изучить, весь, бол...</td>\n",
              "      <td>у я быть такой машина изучить весь болячка ита...</td>\n",
              "    </tr>\n",
              "    <tr>\n",
              "      <th>4</th>\n",
              "      <td>Хороший автомобиль у меня bmw 528i m30b30 двиг...</td>\n",
              "      <td>positive</td>\n",
              "      <td>[хороший, автомобиль, у, я, bmw, i, mb, двигат...</td>\n",
              "      <td>хороший автомобиль у я bmw i mb двигатель год ...</td>\n",
              "    </tr>\n",
              "  </tbody>\n",
              "</table>\n",
              "</div>"
            ],
            "text/plain": [
              "                                                text  ...                                         text_tok_2\n",
              "0  В принципе машинка не плохая, объемом в 2.0 ку...  ...  в принцип машинка не плохой объём в куб лёгкий...\n",
              "1  Здорова ВСЕМ! Вот моё мнение по поводу ВАЗ-210...  ...  здоровый весь вот мой мнение по повод ваза отл...\n",
              "2  Автомобиль очень хороший, вместительный, компа...  ...  автомобиль очень хороший вместительный компакт...\n",
              "3  У меня было 4 таких машины, изучил все болячки...  ...  у я быть такой машина изучить весь болячка ита...\n",
              "4  Хороший автомобиль у меня bmw 528i m30b30 двиг...  ...  хороший автомобиль у я bmw i mb двигатель год ...\n",
              "\n",
              "[5 rows x 4 columns]"
            ]
          },
          "metadata": {
            "tags": []
          },
          "execution_count": 241
        }
      ]
    },
    {
      "cell_type": "code",
      "metadata": {
        "id": "V05wHGWuE_PY",
        "colab_type": "code",
        "outputId": "cab3fbe9-5b81-412f-f6d8-6af520ac87bd",
        "colab": {
          "base_uri": "https://localhost:8080/",
          "height": 173
        }
      },
      "source": [
        "car_df_2.groupby('score').nunique()"
      ],
      "execution_count": 0,
      "outputs": [
        {
          "output_type": "execute_result",
          "data": {
            "text/html": [
              "<div>\n",
              "<style scoped>\n",
              "    .dataframe tbody tr th:only-of-type {\n",
              "        vertical-align: middle;\n",
              "    }\n",
              "\n",
              "    .dataframe tbody tr th {\n",
              "        vertical-align: top;\n",
              "    }\n",
              "\n",
              "    .dataframe thead th {\n",
              "        text-align: right;\n",
              "    }\n",
              "</style>\n",
              "<table border=\"1\" class=\"dataframe\">\n",
              "  <thead>\n",
              "    <tr style=\"text-align: right;\">\n",
              "      <th></th>\n",
              "      <th>text</th>\n",
              "      <th>score</th>\n",
              "    </tr>\n",
              "    <tr>\n",
              "      <th>score</th>\n",
              "      <th></th>\n",
              "      <th></th>\n",
              "    </tr>\n",
              "  </thead>\n",
              "  <tbody>\n",
              "    <tr>\n",
              "      <th>both</th>\n",
              "      <td>76</td>\n",
              "      <td>1</td>\n",
              "    </tr>\n",
              "    <tr>\n",
              "      <th>negative</th>\n",
              "      <td>26</td>\n",
              "      <td>1</td>\n",
              "    </tr>\n",
              "    <tr>\n",
              "      <th>positive</th>\n",
              "      <td>98</td>\n",
              "      <td>1</td>\n",
              "    </tr>\n",
              "  </tbody>\n",
              "</table>\n",
              "</div>"
            ],
            "text/plain": [
              "          text  score\n",
              "score                \n",
              "both        76      1\n",
              "negative    26      1\n",
              "positive    98      1"
            ]
          },
          "metadata": {
            "tags": []
          },
          "execution_count": 237
        }
      ]
    },
    {
      "cell_type": "code",
      "metadata": {
        "id": "LSNtmwWXXdom",
        "colab_type": "code",
        "colab": {}
      },
      "source": [
        "rc_datas = [rest_df, rest_df_2, car_df, car_df_2]\n",
        "#rc_datas = [car_df, car_df_2]\n",
        "\n",
        "rc_data = pd.concat(rc_datas)\n",
        "rc_data = rc_data.reset_index(drop=True)"
      ],
      "execution_count": 0,
      "outputs": []
    },
    {
      "cell_type": "code",
      "metadata": {
        "id": "Kc5fcPw5Ygvr",
        "colab_type": "code",
        "colab": {}
      },
      "source": [
        "new_score = []\n",
        "for i in range(len(rc_data.text)):\n",
        "  if rc_data.score[i] == 'positive':\n",
        "    new_score.append('pos')\n",
        "  elif rc_data.score[i] == 'negative':\n",
        "    new_score.append('neg')\n",
        "  else:\n",
        "    new_score.append('neut')"
      ],
      "execution_count": 0,
      "outputs": []
    },
    {
      "cell_type": "code",
      "metadata": {
        "id": "AcQK0QhgZJL9",
        "colab_type": "code",
        "outputId": "d82613d4-57ee-445f-a6f3-2971f210b1b1",
        "colab": {
          "base_uri": "https://localhost:8080/",
          "height": 34
        }
      },
      "source": [
        "len(new_score), len(rc_data.text)"
      ],
      "execution_count": 0,
      "outputs": [
        {
          "output_type": "execute_result",
          "data": {
            "text/plain": [
              "(806, 806)"
            ]
          },
          "metadata": {
            "tags": []
          },
          "execution_count": 43
        }
      ]
    },
    {
      "cell_type": "code",
      "metadata": {
        "id": "eHaVDBi0ZNNB",
        "colab_type": "code",
        "colab": {}
      },
      "source": [
        "rc_data['score'] = new_score\n",
        "rc_data = rc_data.rename(columns={'score': 'polar'})"
      ],
      "execution_count": 0,
      "outputs": []
    },
    {
      "cell_type": "code",
      "metadata": {
        "id": "huEZCox5ZaKb",
        "colab_type": "code",
        "outputId": "9878ef34-e10b-4f6f-8d75-e2f642d09bd5",
        "colab": {
          "base_uri": "https://localhost:8080/",
          "height": 204
        }
      },
      "source": [
        "rc_data.tail()"
      ],
      "execution_count": 0,
      "outputs": [
        {
          "output_type": "execute_result",
          "data": {
            "text/html": [
              "<div>\n",
              "<style scoped>\n",
              "    .dataframe tbody tr th:only-of-type {\n",
              "        vertical-align: middle;\n",
              "    }\n",
              "\n",
              "    .dataframe tbody tr th {\n",
              "        vertical-align: top;\n",
              "    }\n",
              "\n",
              "    .dataframe thead th {\n",
              "        text-align: right;\n",
              "    }\n",
              "</style>\n",
              "<table border=\"1\" class=\"dataframe\">\n",
              "  <thead>\n",
              "    <tr style=\"text-align: right;\">\n",
              "      <th></th>\n",
              "      <th>text</th>\n",
              "      <th>polar</th>\n",
              "      <th>text_tok</th>\n",
              "      <th>text_tok_2</th>\n",
              "    </tr>\n",
              "  </thead>\n",
              "  <tbody>\n",
              "    <tr>\n",
              "      <th>801</th>\n",
              "      <td>Автомобиль бизнес класса и места в автомобиле ...</td>\n",
              "      <td>pos</td>\n",
              "      <td>[автомобиль, бизнес, класс, и, место, в, автом...</td>\n",
              "      <td>автомобиль бизнес класс и место в автомобиль о...</td>\n",
              "    </tr>\n",
              "    <tr>\n",
              "      <th>802</th>\n",
              "      <td>Доброго времени суток, я бы хотел поделиться с...</td>\n",
              "      <td>neut</td>\n",
              "      <td>[добрый, время, сутки, я, бы, хотеть, поделить...</td>\n",
              "      <td>добрый время сутки я бы хотеть поделиться свой...</td>\n",
              "    </tr>\n",
              "    <tr>\n",
              "      <th>803</th>\n",
              "      <td>Купил Крайслер-вояджер 2,5 дизель, 2003г, 2 го...</td>\n",
              "      <td>pos</td>\n",
              "      <td>[купить, крайслервояджер, дизель, год, год, на...</td>\n",
              "      <td>купить крайслервояджер дизель год год назад ез...</td>\n",
              "    </tr>\n",
              "    <tr>\n",
              "      <th>804</th>\n",
              "      <td>И так отзыв о peugeot 206 sedan, данный автомо...</td>\n",
              "      <td>pos</td>\n",
              "      <td>[и, так, отзыв, о, peugeot, sedan, данный, авт...</td>\n",
              "      <td>и так отзыв о peugeot sedan данный автомобиль ...</td>\n",
              "    </tr>\n",
              "    <tr>\n",
              "      <th>805</th>\n",
              "      <td>Не скажу, что я владелец большого количества а...</td>\n",
              "      <td>pos</td>\n",
              "      <td>[не, сказать, что, я, владелец, большой, колич...</td>\n",
              "      <td>не сказать что я владелец большой количество а...</td>\n",
              "    </tr>\n",
              "  </tbody>\n",
              "</table>\n",
              "</div>"
            ],
            "text/plain": [
              "                                                  text  ...                                         text_tok_2\n",
              "801  Автомобиль бизнес класса и места в автомобиле ...  ...  автомобиль бизнес класс и место в автомобиль о...\n",
              "802  Доброго времени суток, я бы хотел поделиться с...  ...  добрый время сутки я бы хотеть поделиться свой...\n",
              "803  Купил Крайслер-вояджер 2,5 дизель, 2003г, 2 го...  ...  купить крайслервояджер дизель год год назад ез...\n",
              "804  И так отзыв о peugeot 206 sedan, данный автомо...  ...  и так отзыв о peugeot sedan данный автомобиль ...\n",
              "805  Не скажу, что я владелец большого количества а...  ...  не сказать что я владелец большой количество а...\n",
              "\n",
              "[5 rows x 4 columns]"
            ]
          },
          "metadata": {
            "tags": []
          },
          "execution_count": 45
        }
      ]
    },
    {
      "cell_type": "code",
      "metadata": {
        "id": "wgf7G_ISZ1uA",
        "colab_type": "code",
        "outputId": "9fe43862-76e7-4e0f-994b-c3157bc9f9bb",
        "colab": {
          "base_uri": "https://localhost:8080/",
          "height": 204
        }
      },
      "source": [
        "rc_sorted = rc_data.sort_values(\"polar\").reset_index(drop=True)\n",
        "rc_sorted.tail()"
      ],
      "execution_count": 0,
      "outputs": [
        {
          "output_type": "execute_result",
          "data": {
            "text/html": [
              "<div>\n",
              "<style scoped>\n",
              "    .dataframe tbody tr th:only-of-type {\n",
              "        vertical-align: middle;\n",
              "    }\n",
              "\n",
              "    .dataframe tbody tr th {\n",
              "        vertical-align: top;\n",
              "    }\n",
              "\n",
              "    .dataframe thead th {\n",
              "        text-align: right;\n",
              "    }\n",
              "</style>\n",
              "<table border=\"1\" class=\"dataframe\">\n",
              "  <thead>\n",
              "    <tr style=\"text-align: right;\">\n",
              "      <th></th>\n",
              "      <th>text</th>\n",
              "      <th>polar</th>\n",
              "      <th>text_tok</th>\n",
              "      <th>text_tok_2</th>\n",
              "    </tr>\n",
              "  </thead>\n",
              "  <tbody>\n",
              "    <tr>\n",
              "      <th>801</th>\n",
              "      <td>Решила отметить свой юбилей, пригласив группы ...</td>\n",
              "      <td>pos</td>\n",
              "      <td>[решить, отметить, свой, юбилей, пригласить, г...</td>\n",
              "      <td>решить отметить свой юбилей пригласить группа ...</td>\n",
              "    </tr>\n",
              "    <tr>\n",
              "      <th>802</th>\n",
              "      <td>В апреле отмечала свой ДР в этом ресторане. Вс...</td>\n",
              "      <td>pos</td>\n",
              "      <td>[в, апрель, отмечать, свой, др, в, это, рестор...</td>\n",
              "      <td>в апрель отмечать свой др в это ресторан весь ...</td>\n",
              "    </tr>\n",
              "    <tr>\n",
              "      <th>803</th>\n",
              "      <td>Совершенно замечательно провели вечер в &amp;quot;...</td>\n",
              "      <td>pos</td>\n",
              "      <td>[совершенно, замечательный, провести, вечер, в...</td>\n",
              "      <td>совершенно замечательный провести вечер в quot...</td>\n",
              "    </tr>\n",
              "    <tr>\n",
              "      <th>804</th>\n",
              "      <td>Отмечали в ресторане &amp;quot;Драго&amp;quot; свадьбу...</td>\n",
              "      <td>pos</td>\n",
              "      <td>[отмечать, в, ресторан, quotдрагоquot, свадьба...</td>\n",
              "      <td>отмечать в ресторан quotдрагоquot свадьба на ч...</td>\n",
              "    </tr>\n",
              "    <tr>\n",
              "      <th>805</th>\n",
              "      <td>Не скажу, что я владелец большого количества а...</td>\n",
              "      <td>pos</td>\n",
              "      <td>[не, сказать, что, я, владелец, большой, колич...</td>\n",
              "      <td>не сказать что я владелец большой количество а...</td>\n",
              "    </tr>\n",
              "  </tbody>\n",
              "</table>\n",
              "</div>"
            ],
            "text/plain": [
              "                                                  text  ...                                         text_tok_2\n",
              "801  Решила отметить свой юбилей, пригласив группы ...  ...  решить отметить свой юбилей пригласить группа ...\n",
              "802  В апреле отмечала свой ДР в этом ресторане. Вс...  ...  в апрель отмечать свой др в это ресторан весь ...\n",
              "803  Совершенно замечательно провели вечер в &quot;...  ...  совершенно замечательный провести вечер в quot...\n",
              "804  Отмечали в ресторане &quot;Драго&quot; свадьбу...  ...  отмечать в ресторан quotдрагоquot свадьба на ч...\n",
              "805  Не скажу, что я владелец большого количества а...  ...  не сказать что я владелец большой количество а...\n",
              "\n",
              "[5 rows x 4 columns]"
            ]
          },
          "metadata": {
            "tags": []
          },
          "execution_count": 46
        }
      ]
    },
    {
      "cell_type": "code",
      "metadata": {
        "id": "1mdVfLtXazSh",
        "colab_type": "code",
        "outputId": "0422a011-7f78-4a55-eac2-da1b22d9b222",
        "colab": {
          "base_uri": "https://localhost:8080/",
          "height": 204
        }
      },
      "source": [
        "new_rc_data = rc_sorted[:420].reset_index(drop=True)\n",
        "\n",
        "from sklearn.utils import shuffle\n",
        "new_rc_data = shuffle(new_rc_data)\n",
        "new_rc_data = new_rc_data.reset_index(drop=True)\n",
        "new_rc_data.tail()"
      ],
      "execution_count": 0,
      "outputs": [
        {
          "output_type": "execute_result",
          "data": {
            "text/html": [
              "<div>\n",
              "<style scoped>\n",
              "    .dataframe tbody tr th:only-of-type {\n",
              "        vertical-align: middle;\n",
              "    }\n",
              "\n",
              "    .dataframe tbody tr th {\n",
              "        vertical-align: top;\n",
              "    }\n",
              "\n",
              "    .dataframe thead th {\n",
              "        text-align: right;\n",
              "    }\n",
              "</style>\n",
              "<table border=\"1\" class=\"dataframe\">\n",
              "  <thead>\n",
              "    <tr style=\"text-align: right;\">\n",
              "      <th></th>\n",
              "      <th>text</th>\n",
              "      <th>polar</th>\n",
              "      <th>text_tok</th>\n",
              "      <th>text_tok_2</th>\n",
              "    </tr>\n",
              "  </thead>\n",
              "  <tbody>\n",
              "    <tr>\n",
              "      <th>415</th>\n",
              "      <td>Здорова ВСЕМ! Вот моё мнение по поводу ВАЗ-210...</td>\n",
              "      <td>pos</td>\n",
              "      <td>[здоровый, весь, вот, мой, мнение, по, повод, ...</td>\n",
              "      <td>здоровый весь вот мой мнение по повод ваза отл...</td>\n",
              "    </tr>\n",
              "    <tr>\n",
              "      <th>416</th>\n",
              "      <td>Были в субботу 24 ноября,зная что народу будет...</td>\n",
              "      <td>neut</td>\n",
              "      <td>[быть, в, суббота, ноябрязный, что, народ, быт...</td>\n",
              "      <td>быть в суббота ноябрязный что народ быть много...</td>\n",
              "    </tr>\n",
              "    <tr>\n",
              "      <th>417</th>\n",
              "      <td>Совсем недавно купил машину у друга, ездил бед...</td>\n",
              "      <td>pos</td>\n",
              "      <td>[совсем, недавно, купить, машина, у, друг, езд...</td>\n",
              "      <td>совсем недавно купить машина у друг ездить бед...</td>\n",
              "    </tr>\n",
              "    <tr>\n",
              "      <th>418</th>\n",
              "      <td>Купили автомобиль в 2011 году до этого был фор...</td>\n",
              "      <td>pos</td>\n",
              "      <td>[купить, автомобиль, в, год, до, это, быть, фо...</td>\n",
              "      <td>купить автомобиль в год до это быть форд фокус...</td>\n",
              "    </tr>\n",
              "    <tr>\n",
              "      <th>419</th>\n",
              "      <td>Начну с того, что на Тойоте Хайс работает мой ...</td>\n",
              "      <td>neut</td>\n",
              "      <td>[начать, с, тот, что, на, тойота, хайса, работ...</td>\n",
              "      <td>начать с тот что на тойота хайса работать мой ...</td>\n",
              "    </tr>\n",
              "  </tbody>\n",
              "</table>\n",
              "</div>"
            ],
            "text/plain": [
              "                                                  text  ...                                         text_tok_2\n",
              "415  Здорова ВСЕМ! Вот моё мнение по поводу ВАЗ-210...  ...  здоровый весь вот мой мнение по повод ваза отл...\n",
              "416  Были в субботу 24 ноября,зная что народу будет...  ...  быть в суббота ноябрязный что народ быть много...\n",
              "417  Совсем недавно купил машину у друга, ездил бед...  ...  совсем недавно купить машина у друг ездить бед...\n",
              "418  Купили автомобиль в 2011 году до этого был фор...  ...  купить автомобиль в год до это быть форд фокус...\n",
              "419  Начну с того, что на Тойоте Хайс работает мой ...  ...  начать с тот что на тойота хайса работать мой ...\n",
              "\n",
              "[5 rows x 4 columns]"
            ]
          },
          "metadata": {
            "tags": []
          },
          "execution_count": 47
        }
      ]
    },
    {
      "cell_type": "markdown",
      "metadata": {
        "id": "_cPTeaZHMqIQ",
        "colab_type": "text"
      },
      "source": [
        "# Объединение датасетов с текстами"
      ]
    },
    {
      "cell_type": "code",
      "metadata": {
        "id": "HLR4Z7o40TId",
        "colab_type": "code",
        "colab": {}
      },
      "source": [
        "all_datas = [new_rc_data, new_text_df]\n",
        "#rc_datas = [car_df, car_df_2]\n",
        "\n",
        "all_data = pd.concat(all_datas)\n",
        "all_data = all_data.reset_index(drop=True)"
      ],
      "execution_count": 0,
      "outputs": []
    },
    {
      "cell_type": "code",
      "metadata": {
        "id": "atSOuB3OhigV",
        "colab_type": "code",
        "outputId": "5fe55d38-1dc8-4768-881b-5391a2c2c77c",
        "colab": {
          "base_uri": "https://localhost:8080/",
          "height": 204
        }
      },
      "source": [
        "all_data_check = all_data.drop(columns=['text_tok'])\n",
        "all_data_check.head()"
      ],
      "execution_count": 0,
      "outputs": [
        {
          "output_type": "execute_result",
          "data": {
            "text/html": [
              "<div>\n",
              "<style scoped>\n",
              "    .dataframe tbody tr th:only-of-type {\n",
              "        vertical-align: middle;\n",
              "    }\n",
              "\n",
              "    .dataframe tbody tr th {\n",
              "        vertical-align: top;\n",
              "    }\n",
              "\n",
              "    .dataframe thead th {\n",
              "        text-align: right;\n",
              "    }\n",
              "</style>\n",
              "<table border=\"1\" class=\"dataframe\">\n",
              "  <thead>\n",
              "    <tr style=\"text-align: right;\">\n",
              "      <th></th>\n",
              "      <th>text</th>\n",
              "      <th>polar</th>\n",
              "      <th>text_tok_2</th>\n",
              "    </tr>\n",
              "  </thead>\n",
              "  <tbody>\n",
              "    <tr>\n",
              "      <th>0</th>\n",
              "      <td>купил я жене этот авто, дизайн мне его понрави...</td>\n",
              "      <td>neg</td>\n",
              "      <td>купить я жена этот авто дизайн я он понравитьс...</td>\n",
              "    </tr>\n",
              "    <tr>\n",
              "      <th>1</th>\n",
              "      <td>По внешнему виду очень уж напоминает Хонду, ил...</td>\n",
              "      <td>neut</td>\n",
              "      <td>по внешний вид очень уж напоминать хонда или б...</td>\n",
              "    </tr>\n",
              "    <tr>\n",
              "      <th>2</th>\n",
              "      <td>очень классная тачка. В ней есть все для удобс...</td>\n",
              "      <td>neut</td>\n",
              "      <td>очень классный тачка в она есть весь для удобс...</td>\n",
              "    </tr>\n",
              "    <tr>\n",
              "      <th>3</th>\n",
              "      <td>Недавно пришли компанией, давно не были в этом...</td>\n",
              "      <td>neg</td>\n",
              "      <td>недавно прислать компания давно не быть в это ...</td>\n",
              "    </tr>\n",
              "    <tr>\n",
              "      <th>4</th>\n",
              "      <td>Очень удобный вовсем! классныйдизайн как снару...</td>\n",
              "      <td>pos</td>\n",
              "      <td>очень удобный вовсема классныйдизайн как снару...</td>\n",
              "    </tr>\n",
              "  </tbody>\n",
              "</table>\n",
              "</div>"
            ],
            "text/plain": [
              "                                                text  ...                                         text_tok_2\n",
              "0  купил я жене этот авто, дизайн мне его понрави...  ...  купить я жена этот авто дизайн я он понравитьс...\n",
              "1  По внешнему виду очень уж напоминает Хонду, ил...  ...  по внешний вид очень уж напоминать хонда или б...\n",
              "2  очень классная тачка. В ней есть все для удобс...  ...  очень классный тачка в она есть весь для удобс...\n",
              "3  Недавно пришли компанией, давно не были в этом...  ...  недавно прислать компания давно не быть в это ...\n",
              "4  Очень удобный вовсем! классныйдизайн как снару...  ...  очень удобный вовсема классныйдизайн как снару...\n",
              "\n",
              "[5 rows x 3 columns]"
            ]
          },
          "metadata": {
            "tags": []
          },
          "execution_count": 50
        }
      ]
    },
    {
      "cell_type": "code",
      "metadata": {
        "id": "Z1prgI39iv89",
        "colab_type": "code",
        "outputId": "d1aed365-f5ac-41fe-f008-281a74b10a26",
        "colab": {
          "base_uri": "https://localhost:8080/",
          "height": 173
        }
      },
      "source": [
        "all_data_check.groupby('polar').nunique()"
      ],
      "execution_count": 0,
      "outputs": [
        {
          "output_type": "execute_result",
          "data": {
            "text/html": [
              "<div>\n",
              "<style scoped>\n",
              "    .dataframe tbody tr th:only-of-type {\n",
              "        vertical-align: middle;\n",
              "    }\n",
              "\n",
              "    .dataframe tbody tr th {\n",
              "        vertical-align: top;\n",
              "    }\n",
              "\n",
              "    .dataframe thead th {\n",
              "        text-align: right;\n",
              "    }\n",
              "</style>\n",
              "<table border=\"1\" class=\"dataframe\">\n",
              "  <thead>\n",
              "    <tr style=\"text-align: right;\">\n",
              "      <th></th>\n",
              "      <th>text</th>\n",
              "      <th>polar</th>\n",
              "      <th>text_tok_2</th>\n",
              "    </tr>\n",
              "    <tr>\n",
              "      <th>polar</th>\n",
              "      <th></th>\n",
              "      <th></th>\n",
              "      <th></th>\n",
              "    </tr>\n",
              "  </thead>\n",
              "  <tbody>\n",
              "    <tr>\n",
              "      <th>neg</th>\n",
              "      <td>3479</td>\n",
              "      <td>1</td>\n",
              "      <td>3479</td>\n",
              "    </tr>\n",
              "    <tr>\n",
              "      <th>neut</th>\n",
              "      <td>1681</td>\n",
              "      <td>1</td>\n",
              "      <td>1681</td>\n",
              "    </tr>\n",
              "    <tr>\n",
              "      <th>pos</th>\n",
              "      <td>3480</td>\n",
              "      <td>1</td>\n",
              "      <td>3480</td>\n",
              "    </tr>\n",
              "  </tbody>\n",
              "</table>\n",
              "</div>"
            ],
            "text/plain": [
              "       text  polar  text_tok_2\n",
              "polar                         \n",
              "neg    3479      1        3479\n",
              "neut   1681      1        1681\n",
              "pos    3480      1        3480"
            ]
          },
          "metadata": {
            "tags": []
          },
          "execution_count": 51
        }
      ]
    },
    {
      "cell_type": "code",
      "metadata": {
        "id": "UOHRbunPxumX",
        "colab_type": "code",
        "outputId": "7b51aa13-49d4-4519-ee67-3d39adb13084",
        "colab": {
          "base_uri": "https://localhost:8080/",
          "height": 34
        }
      },
      "source": [
        "len(all_data.text)"
      ],
      "execution_count": 0,
      "outputs": [
        {
          "output_type": "execute_result",
          "data": {
            "text/plain": [
              "8640"
            ]
          },
          "metadata": {
            "tags": []
          },
          "execution_count": 242
        }
      ]
    },
    {
      "cell_type": "markdown",
      "metadata": {
        "id": "AYCdLgNtaFS9",
        "colab_type": "text"
      },
      "source": [
        "# context counting"
      ]
    },
    {
      "cell_type": "code",
      "metadata": {
        "id": "52iLn-D1c8tH",
        "colab_type": "code",
        "colab": {}
      },
      "source": [
        "d2 = {} #cчитаем контексты для слов из второго датасета\n",
        "for row in range(len(sent_df_2.verbs_tok)):\n",
        "  tv = sent_df_2.verbs_tok[row]\n",
        "  tv_norm = sent_df_2.verbs[row]\n",
        "  tv_len = len(tv)\n",
        "  for row in range(len(all_data)):\n",
        "    text_tok = all_data.text_tok[row]\n",
        "    for word_id in range(len(text_tok)):\n",
        "\n",
        "      d2_len = len(d2.keys())\n",
        "      if tv_norm in d2.keys():\n",
        "        tv_clen = len(d2[tv_norm])\n",
        "      else:\n",
        "        tv_clen = 0\n",
        "\n",
        "      if text_tok[word_id] == tv[0]:\n",
        "        if (len(text_tok) - word_id - tv_len) >= 0:\n",
        "          if word_id == 0:\n",
        "            if tv_norm not in d2.keys():\n",
        "              d2[tv_norm] = [all_data.polar[row]]\n",
        "            else:\n",
        "              d2[tv_norm].append(all_data.polar[row])\n",
        "          else:\n",
        "            if text_tok[word_id-1] != 'не':\n",
        "              if word_id == 1:\n",
        "                if tv_norm not in d2.keys():\n",
        "                  d2[tv_norm] = [all_data.polar[row]]\n",
        "                else:\n",
        "                  d2[tv_norm].append(all_data.polar[row])\n",
        "\n",
        "              elif text_tok[word_id-2] != 'не':\n",
        "                if tv_norm not in d2.keys():\n",
        "                  d2[tv_norm] = [all_data.polar[row]]\n",
        "                else:\n",
        "                  d2[tv_norm].append(all_data.polar[row])\n",
        "\n",
        "      if d2_len != len(d2.keys()):\n",
        "        break\n",
        "      if tv_norm in d2.keys():\n",
        "        if tv_clen != len(d2[tv_norm]):\n",
        "          break"
      ],
      "execution_count": 0,
      "outputs": []
    },
    {
      "cell_type": "code",
      "metadata": {
        "id": "AhTAZCOSEmod",
        "colab_type": "code",
        "outputId": "c8fb6fc8-6d5d-49d8-9319-db2da30e5930",
        "colab": {
          "base_uri": "https://localhost:8080/",
          "height": 34
        }
      },
      "source": [
        "len(d2.keys())"
      ],
      "execution_count": 0,
      "outputs": [
        {
          "output_type": "execute_result",
          "data": {
            "text/plain": [
              "3899"
            ]
          },
          "metadata": {
            "tags": []
          },
          "execution_count": 102
        }
      ]
    },
    {
      "cell_type": "code",
      "metadata": {
        "id": "jT3WGRowWGcH",
        "colab_type": "code",
        "colab": {}
      },
      "source": [
        "import json\n",
        "\n",
        "with open('all_contexts_9001.json', 'w') as f:\n",
        "    json.dump(d2, f)"
      ],
      "execution_count": 0,
      "outputs": []
    },
    {
      "cell_type": "code",
      "metadata": {
        "id": "mohUKBOoWLyy",
        "colab_type": "code",
        "colab": {}
      },
      "source": [
        "import json\n",
        "\n",
        "with open('all_contexts_9001.json') as f: # rest + rest + car\n",
        "    d2 = json.load(f)"
      ],
      "execution_count": 0,
      "outputs": []
    },
    {
      "cell_type": "code",
      "metadata": {
        "id": "cdMFPkFtdUvf",
        "colab_type": "code",
        "colab": {}
      },
      "source": [
        "import json #текстовый вариант\n",
        "\n",
        "with open('rest_car_cont_2.json') as f:#урезанный но с both\n",
        "    d2 = json.load(f)"
      ],
      "execution_count": 0,
      "outputs": []
    },
    {
      "cell_type": "code",
      "metadata": {
        "id": "-z72l5gtfn0x",
        "colab_type": "code",
        "colab": {}
      },
      "source": [
        "import json #текстовый вариант\n",
        "\n",
        "with open('rest_car_cont_3.json') as f:#урезанный сбалансированный (250 текстов)\n",
        "    d2 = json.load(f)"
      ],
      "execution_count": 0,
      "outputs": []
    },
    {
      "cell_type": "code",
      "metadata": {
        "id": "Du3Z_WEYg6Pu",
        "colab_type": "code",
        "colab": {}
      },
      "source": [
        "import copy\n",
        "\n",
        "dd2 = copy.deepcopy(d2)"
      ],
      "execution_count": 0,
      "outputs": []
    },
    {
      "cell_type": "code",
      "metadata": {
        "id": "bGimqK4ygwNl",
        "colab_type": "code",
        "colab": {}
      },
      "source": [
        "new_d_2 = {} #подсчет только собственных контекстов основных слов\n",
        "\n",
        "for i in range(len(sent_df.verbs)):\n",
        "  if sent_df.verbs_tok_2[i] in dd2.keys():\n",
        "    new_d_2[sent_df.verbs_tok_2[i]] = dd2[sent_df.verbs_tok_2[i]]\n",
        "  else:\n",
        "    new_d_2[sent_df.verbs_tok_2[i]] = None"
      ],
      "execution_count": 0,
      "outputs": []
    },
    {
      "cell_type": "code",
      "metadata": {
        "id": "Xjsqk56uXcLK",
        "colab_type": "code",
        "colab": {}
      },
      "source": [
        "new_d_2 = {} #подсчет только контекстов основных слов с учетом их вариантов слов\n",
        "\n",
        "for i in range(len(sent_df.verbs)):\n",
        "  if sent_df.verbs_tok_2[i] in dd2.keys():\n",
        "    new_d_2[sent_df.verbs_tok_2[i]] = dd2[sent_df.verbs_tok_2[i]]\n",
        "    if len(dd2[sent_df.verbs_tok_2[i]]) < 100:\n",
        "      if sent_df.verbs[i] in verb_vars.keys():\n",
        "        for var in verb_vars[sent_df.verbs[i]]:\n",
        "          if len(new_d_2[sent_df.verbs_tok_2[i]]) < 100:\n",
        "            if var in dd2.keys() and var != sent_df.verbs_tok_2[i]:\n",
        "              for var_val in dd2[var]:      \n",
        "                new_d_2[sent_df.verbs_tok_2[i]].append(var_val)\n",
        "  else:\n",
        "    if sent_df.verbs[i] in verb_vars.keys():\n",
        "      new_d_2[sent_df.verbs_tok_2[i]] = []\n",
        "      for var in verb_vars[sent_df.verbs[i]]:\n",
        "        if len(new_d_2[sent_df.verbs_tok_2[i]]) < 100:\n",
        "          if var in dd2.keys() and var != sent_df.verbs_tok_2[i]:\n",
        "            for var_val in dd2[var]:\n",
        "              new_d_2[sent_df.verbs_tok_2[i]].append(var_val)"
      ],
      "execution_count": 0,
      "outputs": []
    },
    {
      "cell_type": "code",
      "metadata": {
        "colab_type": "code",
        "id": "PrtkQYLMvNsM",
        "colab": {}
      },
      "source": [
        "import collections\n",
        "\n",
        "pnn_count = {}\n",
        "for i in new_d_2.keys(): \n",
        "  c = collections.Counter()\n",
        "  if new_d_2[i] != None: \n",
        "    for word in new_d_2[i]:\n",
        "      c[word] += 1\n",
        "    total_num = c['pos'] + c['neg'] + c['neut']\n",
        "    pnn_count[i] = {'pos': c['pos'], 'neg': c['neg'], 'neut': c['neut'], 'total': total_num}\n",
        "  else:\n",
        "    pnn_count[i] = {'pos': 0, 'neg': 0, 'neut': 0, 'total': 0}"
      ],
      "execution_count": 0,
      "outputs": []
    },
    {
      "cell_type": "code",
      "metadata": {
        "colab_type": "code",
        "outputId": "d615a105-3078-43e2-c91b-680909f91883",
        "id": "gOGp6IIavNsQ",
        "colab": {
          "base_uri": "https://localhost:8080/",
          "height": 119
        }
      },
      "source": [
        "k=0\n",
        "for i in pnn_count.keys():\n",
        "  print(i, pnn_count[i])\n",
        "  k+=1\n",
        "  if k>5:\n",
        "    break"
      ],
      "execution_count": 0,
      "outputs": [
        {
          "output_type": "stream",
          "text": [
            "надеяться {'pos': 109, 'neg': 87, 'neut': 49, 'total': 245}\n",
            "возлагать надежда {'pos': 2579, 'neg': 3116, 'neut': 1494, 'total': 7189}\n",
            "довериться {'pos': 30, 'neg': 25, 'neut': 18, 'total': 73}\n",
            "положиться {'pos': 54, 'neg': 48, 'neut': 33, 'total': 135}\n",
            "выиграть {'pos': 9, 'neg': 9, 'neut': 7, 'total': 25}\n",
            "получить приз {'pos': 158, 'neg': 259, 'neut': 98, 'total': 515}\n"
          ],
          "name": "stdout"
        }
      ]
    },
    {
      "cell_type": "code",
      "metadata": {
        "colab_type": "code",
        "id": "D27rtQqWvNsv",
        "colab": {}
      },
      "source": [
        "pos_num = []\n",
        "neg_num = []\n",
        "neut_num = []\n",
        "total_num = []\n",
        "\n",
        "for verb in sent_df.verbs_tok_2:\n",
        "  if verb in pnn_count.keys():\n",
        "    pos_num.append(pnn_count[verb]['pos'])\n",
        "    neg_num.append(pnn_count[verb]['neg'])\n",
        "    neut_num.append(pnn_count[verb]['neut'])\n",
        "    total_num.append(pnn_count[verb]['total'])"
      ],
      "execution_count": 0,
      "outputs": []
    },
    {
      "cell_type": "code",
      "metadata": {
        "colab_type": "code",
        "outputId": "b555d98c-180e-4df2-abd1-3b85eb442883",
        "id": "8siNzhQPvNsy",
        "colab": {
          "base_uri": "https://localhost:8080/",
          "height": 34
        }
      },
      "source": [
        "len(sent_df.verbs_tok_2), len(pos_num), len(neg_num), len(neut_num), len(total_num)"
      ],
      "execution_count": 0,
      "outputs": [
        {
          "output_type": "execute_result",
          "data": {
            "text/plain": [
              "(341, 341, 341, 341, 341)"
            ]
          },
          "metadata": {
            "tags": []
          },
          "execution_count": 58
        }
      ]
    },
    {
      "cell_type": "code",
      "metadata": {
        "colab_type": "code",
        "id": "-wL4U795vNs3",
        "colab": {}
      },
      "source": [
        "sent_df['pos_num'] = pos_num\n",
        "sent_df['neg_num'] = neg_num\n",
        "sent_df['neut_num'] = neut_num\n",
        "sent_df['total_num'] = total_num"
      ],
      "execution_count": 0,
      "outputs": []
    },
    {
      "cell_type": "code",
      "metadata": {
        "id": "hK5KKdqmvVk0",
        "colab_type": "code",
        "outputId": "28ca4408-5d6b-4254-d86b-6082019a57c7",
        "colab": {
          "base_uri": "https://localhost:8080/",
          "height": 85
        }
      },
      "source": [
        "np.mean(pos_num), np.mean(neg_num), np.mean(neut_num), np.mean(total_num)"
      ],
      "execution_count": 0,
      "outputs": [
        {
          "output_type": "execute_result",
          "data": {
            "text/plain": [
              "(185.29032258064515,\n",
              " 211.39296187683286,\n",
              " 103.23460410557185,\n",
              " 499.91788856304987)"
            ]
          },
          "metadata": {
            "tags": []
          },
          "execution_count": 66
        }
      ]
    },
    {
      "cell_type": "code",
      "metadata": {
        "colab_type": "code",
        "outputId": "6ae6cf77-7993-4c43-9d6c-d5688dd764d9",
        "id": "eX64EHjvvNs7",
        "colab": {
          "base_uri": "https://localhost:8080/",
          "height": 204
        }
      },
      "source": [
        "sent_df.head()"
      ],
      "execution_count": 0,
      "outputs": [
        {
          "output_type": "execute_result",
          "data": {
            "text/html": [
              "<div>\n",
              "<style scoped>\n",
              "    .dataframe tbody tr th:only-of-type {\n",
              "        vertical-align: middle;\n",
              "    }\n",
              "\n",
              "    .dataframe tbody tr th {\n",
              "        vertical-align: top;\n",
              "    }\n",
              "\n",
              "    .dataframe thead th {\n",
              "        text-align: right;\n",
              "    }\n",
              "</style>\n",
              "<table border=\"1\" class=\"dataframe\">\n",
              "  <thead>\n",
              "    <tr style=\"text-align: right;\">\n",
              "      <th></th>\n",
              "      <th>verbs</th>\n",
              "      <th>polar</th>\n",
              "      <th>verbs_tok</th>\n",
              "      <th>verbs_tok_2</th>\n",
              "      <th>pos_num</th>\n",
              "      <th>neg_num</th>\n",
              "      <th>neut_num</th>\n",
              "      <th>total_num</th>\n",
              "    </tr>\n",
              "  </thead>\n",
              "  <tbody>\n",
              "    <tr>\n",
              "      <th>0</th>\n",
              "      <td>надеяться</td>\n",
              "      <td>pos</td>\n",
              "      <td>[надеяться]</td>\n",
              "      <td>надеяться</td>\n",
              "      <td>109</td>\n",
              "      <td>87</td>\n",
              "      <td>49</td>\n",
              "      <td>245</td>\n",
              "    </tr>\n",
              "    <tr>\n",
              "      <th>1</th>\n",
              "      <td>возлагать надежду</td>\n",
              "      <td>pos</td>\n",
              "      <td>[возлагать, надежда]</td>\n",
              "      <td>возлагать надежда</td>\n",
              "      <td>2579</td>\n",
              "      <td>3116</td>\n",
              "      <td>1494</td>\n",
              "      <td>7189</td>\n",
              "    </tr>\n",
              "    <tr>\n",
              "      <th>2</th>\n",
              "      <td>довериться</td>\n",
              "      <td>pos</td>\n",
              "      <td>[довериться]</td>\n",
              "      <td>довериться</td>\n",
              "      <td>30</td>\n",
              "      <td>25</td>\n",
              "      <td>18</td>\n",
              "      <td>73</td>\n",
              "    </tr>\n",
              "    <tr>\n",
              "      <th>3</th>\n",
              "      <td>положиться</td>\n",
              "      <td>pos</td>\n",
              "      <td>[положиться]</td>\n",
              "      <td>положиться</td>\n",
              "      <td>54</td>\n",
              "      <td>48</td>\n",
              "      <td>33</td>\n",
              "      <td>135</td>\n",
              "    </tr>\n",
              "    <tr>\n",
              "      <th>4</th>\n",
              "      <td>выиграть</td>\n",
              "      <td>pos</td>\n",
              "      <td>[выиграть]</td>\n",
              "      <td>выиграть</td>\n",
              "      <td>9</td>\n",
              "      <td>9</td>\n",
              "      <td>7</td>\n",
              "      <td>25</td>\n",
              "    </tr>\n",
              "  </tbody>\n",
              "</table>\n",
              "</div>"
            ],
            "text/plain": [
              "               verbs polar             verbs_tok  ... neg_num  neut_num  total_num\n",
              "0          надеяться   pos           [надеяться]  ...      87        49        245\n",
              "1  возлагать надежду   pos  [возлагать, надежда]  ...    3116      1494       7189\n",
              "2         довериться   pos          [довериться]  ...      25        18         73\n",
              "3         положиться   pos          [положиться]  ...      48        33        135\n",
              "4           выиграть   pos            [выиграть]  ...       9         7         25\n",
              "\n",
              "[5 rows x 8 columns]"
            ]
          },
          "metadata": {
            "tags": []
          },
          "execution_count": 67
        }
      ]
    },
    {
      "cell_type": "markdown",
      "metadata": {
        "id": "WB6re5MfVKt_",
        "colab_type": "text"
      },
      "source": [
        "# get polar from context test 1 (с долями)"
      ]
    },
    {
      "cell_type": "code",
      "metadata": {
        "colab_type": "code",
        "id": "VFj0nJiAvNt0",
        "colab": {}
      },
      "source": [
        "def get_polar(pos, neg, neut):\n",
        "  sent = None\n",
        "\n",
        "  if pos == 0 and neg == 0 and neut == 0:\n",
        "    sent = 'UNK'\n",
        "\n",
        "  else: \n",
        "    \n",
        "    if pos >= 1.8*neg:\n",
        "      if neut >= 1.8*pos:\n",
        "        sent = 'neut'\n",
        "      elif 0.6*pos <= neut < 1.8*pos:\n",
        "        sent = 'pos_neut'\n",
        "      elif neut < 0.6*pos:\n",
        "        sent = 'pos'\n",
        "\n",
        "    if pos >= neg and pos < 1.8*neg:\n",
        "      sent = 'neut'\n",
        "\n",
        "    if pos <= neg and neg < 1.8*pos:\n",
        "      sent = 'neut'\n",
        "\n",
        "    if neg >= 1.8*pos:\n",
        "      if neut >= 1.8*neg:\n",
        "        sent = 'neut'\n",
        "      elif 0.6*neg <= neut < 1.8*neg:\n",
        "        sent = 'neg_neut'\n",
        "      elif neut < 0.6*neg:\n",
        "        sent = 'neg'\n",
        "\n",
        "\n",
        "  return sent"
      ],
      "execution_count": 0,
      "outputs": []
    },
    {
      "cell_type": "code",
      "metadata": {
        "colab_type": "code",
        "id": "JC18ZWYlvNt4",
        "colab": {}
      },
      "source": [
        "cont_polars = []\n",
        "for i in range(len(sent_df.verbs)):\n",
        "  polar = get_polar(sent_df.pos_num[i], sent_df.neg_num[i], sent_df.neut_num[i])\n",
        "  cont_polars.append(polar)"
      ],
      "execution_count": 0,
      "outputs": []
    },
    {
      "cell_type": "code",
      "metadata": {
        "colab_type": "code",
        "outputId": "36afab14-f716-4b83-d903-a0c6839a3fc5",
        "id": "mT7iD3ZJvNt8",
        "colab": {
          "base_uri": "https://localhost:8080/",
          "height": 34
        }
      },
      "source": [
        "unk = p = ne = nu = nan = pne = nne = 0\n",
        "for i in cont_polars:\n",
        "  if i == 'UNK':\n",
        "    unk+=1\n",
        "  if i == 'pos':\n",
        "    p+=1\n",
        "  if i == 'neg':\n",
        "    ne+=1\n",
        "  if i == 'neut':\n",
        "    nu+=1\n",
        "  if i == 'pos_neut':\n",
        "    pne+=1\n",
        "  if i == 'neg_neut':\n",
        "    nne+=1\n",
        "  if i == None:\n",
        "    nan += 1\n",
        "unk, p, ne, nu, nan, pne, nne"
      ],
      "execution_count": 0,
      "outputs": [
        {
          "output_type": "execute_result",
          "data": {
            "text/plain": [
              "(8, 38, 37, 251, 0, 3, 4)"
            ]
          },
          "metadata": {
            "tags": []
          },
          "execution_count": 75
        }
      ]
    },
    {
      "cell_type": "code",
      "metadata": {
        "id": "KxQO7QeD8eN3",
        "colab_type": "code",
        "colab": {}
      },
      "source": [
        "(8, 38, 37, 251, 0, 3, 4) - и еще на 10 : unk = 8, pos = 41, neg = 41, neut = 251"
      ],
      "execution_count": 0,
      "outputs": []
    },
    {
      "cell_type": "code",
      "metadata": {
        "id": "DmdJhI078Mn1",
        "colab_type": "code",
        "colab": {}
      },
      "source": [
        "(8, 36, 36, 254, 0, 3, 4) - снизили пороги на 10%"
      ],
      "execution_count": 0,
      "outputs": []
    },
    {
      "cell_type": "code",
      "metadata": {
        "id": "e6TqqUNYwsiB",
        "colab_type": "code",
        "colab": {}
      },
      "source": [
        "(8, 36, 36, 257, 0, 1, 3) - все с доп конт 9000"
      ],
      "execution_count": 0,
      "outputs": []
    },
    {
      "cell_type": "code",
      "metadata": {
        "id": "CFrk9e7WwJ2O",
        "colab_type": "code",
        "colab": {}
      },
      "source": [
        "(109, 44, 58, 115, 0, 6, 9) - все с ск 9000"
      ],
      "execution_count": 0,
      "outputs": []
    },
    {
      "cell_type": "code",
      "metadata": {
        "id": "Xut4Nuise3iy",
        "colab_type": "code",
        "colab": {}
      },
      "source": [
        "(147, 0, 16, 177, 0, 1, 0) - все с ск"
      ],
      "execution_count": 0,
      "outputs": []
    },
    {
      "cell_type": "code",
      "metadata": {
        "id": "K0_alm_ptk_V",
        "colab_type": "code",
        "colab": {}
      },
      "source": [
        "(34, 37, 5, 17, 0, 248, 0) - только машинки с доп контекстами"
      ],
      "execution_count": 0,
      "outputs": []
    },
    {
      "cell_type": "code",
      "metadata": {
        "id": "2WELV9DdtBHB",
        "colab_type": "code",
        "colab": {}
      },
      "source": [
        "(166, 38, 18, 2, 0, 117, 0) - только машинки с собственными контекстами"
      ],
      "execution_count": 0,
      "outputs": []
    },
    {
      "cell_type": "code",
      "metadata": {
        "id": "4zM32C1I4Zs1",
        "colab_type": "code",
        "colab": {}
      },
      "source": [
        "#(166, 12, 18, 1, 0, 144, 0) vs (166, 45, 18, 5, 0, 107, 0)\n",
        "# 37 значений из pos и neut перешли в pos_neut"
      ],
      "execution_count": 0,
      "outputs": []
    },
    {
      "cell_type": "markdown",
      "metadata": {
        "id": "WMddSqiqVaJU",
        "colab_type": "text"
      },
      "source": [
        "# get polar test 2,3,4 (pmi, chi2, log-likelihood)"
      ]
    },
    {
      "cell_type": "code",
      "metadata": {
        "id": "LHx-PIpWY5Z8",
        "colab_type": "code",
        "outputId": "c84f1fd7-31b0-416a-c8a1-0ad324000a62",
        "colab": {
          "base_uri": "https://localhost:8080/",
          "height": 34
        }
      },
      "source": [
        "pos_total = sum(pos_num)\n",
        "neg_total = sum(neg_num)\n",
        "neut_total = sum(neut_num)\n",
        "total_total = sum(total_num)\n",
        "\n",
        "pos_total, neg_total, neut_total, total_total"
      ],
      "execution_count": 0,
      "outputs": [
        {
          "output_type": "execute_result",
          "data": {
            "text/plain": [
              "(63184, 72085, 35203, 170472)"
            ]
          },
          "metadata": {
            "tags": []
          },
          "execution_count": 430
        }
      ]
    },
    {
      "cell_type": "code",
      "metadata": {
        "id": "2qY2LdHkbdQS",
        "colab_type": "code",
        "colab": {}
      },
      "source": [
        "def get_polar_pmi(pos, neg, neut, total):\n",
        "  #total = pos+neg\n",
        "  #total_total = pos_total+neg_total\n",
        "\n",
        "  p_pos = pos/total  \n",
        "  pos_pos = pos_total/total_total\n",
        "  p_p = total/total_total\n",
        "\n",
        "  p_neg = neg/total\n",
        "  neg_neg = neg_total/total_total\n",
        "  p_n = total/total_total\n",
        "\n",
        "  p_neut = neut/total\n",
        "  neut_neut = neut_total/total_total\n",
        "  p_ne = total/total_total\n",
        "\n",
        "  pos_log = get_log(p_pos, pos_pos, p_p)\n",
        "  neg_log = get_log(p_neg, neg_neg, p_n)\n",
        "  neut_log = get_log(p_neut, neut_neut, p_ne)\n",
        "\n",
        "  return [pos_log, neg_log, neut_log]"
      ],
      "execution_count": 0,
      "outputs": []
    },
    {
      "cell_type": "code",
      "metadata": {
        "id": "IOQ6aAnfcRyV",
        "colab_type": "code",
        "colab": {}
      },
      "source": [
        "from math import log\n",
        "def get_log(p_polar, pol_pol, p_pol):\n",
        "  try:\n",
        "    res = log(p_polar/(pol_pol*p_pol))\n",
        "  except:\n",
        "    res = 0\n",
        "  return res"
      ],
      "execution_count": 0,
      "outputs": []
    },
    {
      "cell_type": "code",
      "metadata": {
        "id": "2cCBpqVhTb4F",
        "colab_type": "code",
        "colab": {}
      },
      "source": [
        "def get_polar_from_id(idx):\n",
        "  if idx == 0:\n",
        "    return 'pos'\n",
        "  elif idx == 1:\n",
        "    return 'neg'\n",
        "  else:\n",
        "    return 'neut'"
      ],
      "execution_count": 0,
      "outputs": []
    },
    {
      "cell_type": "code",
      "metadata": {
        "id": "lnWEdyiedoLL",
        "colab_type": "code",
        "colab": {}
      },
      "source": [
        "def get_polar_1(pos, neg, neut, total):\n",
        "  mas = get_polar_pmi(pos, neg, neut, total)\n",
        "  pol_id = mas.index(max(mas))\n",
        "\n",
        "  return get_polar_from_id(pol_id)"
      ],
      "execution_count": 0,
      "outputs": []
    },
    {
      "cell_type": "code",
      "metadata": {
        "id": "q7XXNPb1c-dE",
        "colab_type": "code",
        "outputId": "7be527f0-ae37-4ffc-9fe8-7ddcaf395c1b",
        "colab": {
          "base_uri": "https://localhost:8080/",
          "height": 34
        }
      },
      "source": [
        "get_polar_1(2579, 3116, 1494, 7189)"
      ],
      "execution_count": 0,
      "outputs": [
        {
          "output_type": "execute_result",
          "data": {
            "text/plain": [
              "'neg'"
            ]
          },
          "metadata": {
            "tags": []
          },
          "execution_count": 456
        }
      ]
    },
    {
      "cell_type": "code",
      "metadata": {
        "id": "CfkGatkIfu-3",
        "colab_type": "code",
        "colab": {}
      },
      "source": [
        "import scipy\n",
        "from scipy.stats import chi2_contingency"
      ],
      "execution_count": 0,
      "outputs": []
    },
    {
      "cell_type": "code",
      "metadata": {
        "id": "TsKtymU5KIQR",
        "colab_type": "code",
        "colab": {}
      },
      "source": [
        "def get_chi(a,b,c,d, l = None):\n",
        "  table = [[a,b],[c,d]]\n",
        "  output = \"test Statistics: {}\\np-value: {}\\n\"\n",
        "\n",
        "  if l == None:\n",
        "    chi2, prob, df, expected = chi2_contingency(table) #Pearson’s chi-squared statistic\n",
        "    #print(output.format(chi2, prob))\n",
        "    return chi2, prob\n",
        "\n",
        "  if l != None:\n",
        "    chi2_2, prob_2, df_2, expected_2 = chi2_contingency(table, lambda_=\"log-likelihood\") #log-likelihood ratio\n",
        "    #print(output.format(chi2_2, prob_2))\n",
        "    return chi2_2, prob_2"
      ],
      "execution_count": 0,
      "outputs": []
    },
    {
      "cell_type": "code",
      "metadata": {
        "id": "vuDYh0kMMu6m",
        "colab_type": "code",
        "colab": {}
      },
      "source": [
        "def get_polar_chi(pos, neg, neut, total):\n",
        "  chi_res = []\n",
        "  log_res = []\n",
        "  p1_res = []\n",
        "  p2_res = []\n",
        "\n",
        "  a = pos\n",
        "  b = total - pos\n",
        "  c = pos_total - pos\n",
        "  d = neg_total + neut_total - neg - neut\n",
        "  chi1, p1 = get_chi(a,b,c,d)\n",
        "  log1, p2 = get_chi(a,b,c,d, l = 'log')\n",
        "  chi_res.append(chi1)\n",
        "  log_res.append(log1)\n",
        "  p1_res.append(p1)\n",
        "  p2_res.append(p2)\n",
        "  \n",
        "  a = neg\n",
        "  b = total - neg\n",
        "  c = neg_total - neg\n",
        "  d = pos_total + neut_total - pos - neut\n",
        "  chi1, p1 = get_chi(a,b,c,d)\n",
        "  log1, p2 = get_chi(a,b,c,d, l = 'log')\n",
        "  chi_res.append(chi1)\n",
        "  log_res.append(log1)\n",
        "  p1_res.append(p1)\n",
        "  p2_res.append(p2)\n",
        "\n",
        "  a = neut\n",
        "  b = total - neut\n",
        "  c = neut_total - neut\n",
        "  d = neg_total + pos_total - neg - pos\n",
        "  chi1, p1 = get_chi(a,b,c,d)\n",
        "  log1, p2 = get_chi(a,b,c,d, l = 'log')\n",
        "  chi_res.append(chi1)\n",
        "  log_res.append(log1)\n",
        "  p1_res.append(p1)\n",
        "  p2_res.append(p2)\n",
        "\n",
        "  return chi_res, log_res, p1_res, p2_res #убирать пишки"
      ],
      "execution_count": 0,
      "outputs": []
    },
    {
      "cell_type": "code",
      "metadata": {
        "id": "jeTmfFO8Qvyy",
        "colab_type": "code",
        "colab": {}
      },
      "source": [
        "def get_polar_2(pos, neg, neut, total):\n",
        "  chi_res, log_res, p1_res, p2_res = get_polar_chi(pos, neg, neut, total) \n",
        "  pol_id_1 = chi_res.index(max(chi_res))\n",
        "  pol_id_2 = log_res.index(max(log_res))\n",
        "  #pol_id_3 = p1_res.index(min(p1_res))\n",
        "  #pol_id_4 = p2_res.index(min(p2_res))\n",
        "\n",
        "  res1 = get_polar_from_id(pol_id_1)\n",
        "  res2 = get_polar_from_id(pol_id_2)\n",
        "  #res3 = get_polar_from_id(pol_id_3)\n",
        "  #res4 = get_polar_from_id(pol_id_4)\n",
        "  \n",
        "  return res1, res2"
      ],
      "execution_count": 0,
      "outputs": []
    },
    {
      "cell_type": "code",
      "metadata": {
        "id": "REmgTo0SNiYn",
        "colab_type": "code",
        "outputId": "ec2c5466-e0e4-47be-a8f5-41bac995d268",
        "colab": {
          "base_uri": "https://localhost:8080/",
          "height": 34
        }
      },
      "source": [
        "get_polar_2(2579, 3116, 1494, 7189)"
      ],
      "execution_count": 0,
      "outputs": [
        {
          "output_type": "execute_result",
          "data": {
            "text/plain": [
              "('pos', 'pos')"
            ]
          },
          "metadata": {
            "tags": []
          },
          "execution_count": 480
        }
      ]
    },
    {
      "cell_type": "code",
      "metadata": {
        "id": "bbsEZJSMUxn3",
        "colab_type": "code",
        "colab": {}
      },
      "source": [
        "preds = []\n",
        "preds_1 = []\n",
        "preds_2 = []\n",
        "\n",
        "for i in range(len(sent_df.verbs)):\n",
        "  if sent_df.total_num[i] == 0:\n",
        "    pred = pred1 = pred2 ='unk'\n",
        "  else:\n",
        "    pred = get_polar_1(sent_df.pos_num[i], sent_df.neg_num[i], sent_df.neut_num[i], sent_df.total_num[i])\n",
        "    pred1, pred2 = get_polar_2(sent_df.pos_num[i], sent_df.neg_num[i], sent_df.neut_num[i], sent_df.total_num[i])\n",
        "    \n",
        "  preds.append(pred)\n",
        "  preds_1.append(pred1)\n",
        "  preds_2.append(pred2)"
      ],
      "execution_count": 0,
      "outputs": []
    },
    {
      "cell_type": "code",
      "metadata": {
        "id": "fIGP-B_30u2W",
        "colab_type": "code",
        "outputId": "78acd1ce-4d06-44fe-dd60-21afd07c354f",
        "colab": {
          "base_uri": "https://localhost:8080/",
          "height": 119
        }
      },
      "source": [
        "#убрать neut из return, изменить totals\n",
        "preds_bin = []\n",
        "for i in range(len(sent_df.verbs)):\n",
        "  if sent_df.total_num[i] == 0:\n",
        "    pred = 'unk'\n",
        "  else:\n",
        "    pred = get_polar_1(sent_df.pos_num[i], sent_df.neg_num[i], sent_df.neut_num[i], sent_df.total_num[i])\n",
        "  preds_bin.append(pred)"
      ],
      "execution_count": 0,
      "outputs": [
        {
          "output_type": "stream",
          "text": [
            "/usr/local/lib/python3.6/dist-packages/ipykernel_launcher.py:5: RuntimeWarning: invalid value encountered in long_scalars\n",
            "  \"\"\"\n",
            "/usr/local/lib/python3.6/dist-packages/ipykernel_launcher.py:9: RuntimeWarning: invalid value encountered in long_scalars\n",
            "  if __name__ == '__main__':\n",
            "/usr/local/lib/python3.6/dist-packages/ipykernel_launcher.py:13: RuntimeWarning: divide by zero encountered in long_scalars\n",
            "  del sys.path[0]\n"
          ],
          "name": "stderr"
        }
      ]
    },
    {
      "cell_type": "code",
      "metadata": {
        "id": "UQoqkqmxLjjB",
        "colab_type": "code",
        "colab": {}
      },
      "source": [
        "preds_1_bin = [] # для бинарных предсказаний код в черновиках\n",
        "preds_2_bin = []\n",
        "\n",
        "for i in range(len(sent_df.verbs)):\n",
        "  if sent_df.total_num[i] == 0:\n",
        "    pred1 = pred2 ='unk'\n",
        "  else:\n",
        "    pred1, pred2 = get_polar_2(sent_df.pos_num[i], sent_df.neg_num[i], sent_df.neut_num[i], sent_df.total_num[i])\n",
        "\n",
        "  preds_1_bin.append(pred1)\n",
        "  preds_2_bin.append(pred2)"
      ],
      "execution_count": 0,
      "outputs": []
    },
    {
      "cell_type": "code",
      "metadata": {
        "id": "EW1YToE2J3Th",
        "colab_type": "code",
        "colab": {}
      },
      "source": [
        "orig_polar = [] #исключим несовпадения из-за отсутствия контекстов\n",
        "for i in range(len(sent_df.verbs)):\n",
        "  if sent_df.total_num[i] == 0:\n",
        "    orig_polar.append('unk')\n",
        "  else:\n",
        "    orig_polar.append(sent_df.polar[i])"
      ],
      "execution_count": 0,
      "outputs": []
    },
    {
      "cell_type": "code",
      "metadata": {
        "id": "g74A5icBgJRX",
        "colab_type": "code",
        "outputId": "c9d730ed-8ff4-4f6a-ba55-2084df28e2b4",
        "colab": {
          "base_uri": "https://localhost:8080/",
          "height": 34
        }
      },
      "source": [
        "from sklearn.metrics import accuracy_score\n",
        "\n",
        "accuracy_score(sent_df.polar, preds), accuracy_score(sent_df.polar, preds_1), accuracy_score(sent_df.polar, preds_2)"
      ],
      "execution_count": 0,
      "outputs": [
        {
          "output_type": "execute_result",
          "data": {
            "text/plain": [
              "(0.4046920821114369, 0.39882697947214074, 0.3870967741935484)"
            ]
          },
          "metadata": {
            "tags": []
          },
          "execution_count": 482
        }
      ]
    },
    {
      "cell_type": "code",
      "metadata": {
        "id": "t_dwIoK61ctT",
        "colab_type": "code",
        "outputId": "fb360690-7af5-4158-9d8f-8b50913ce752",
        "colab": {
          "base_uri": "https://localhost:8080/",
          "height": 34
        }
      },
      "source": [
        "accuracy_score(orig_polar, preds), accuracy_score(orig_polar, preds_1), accuracy_score(orig_polar, preds_2)"
      ],
      "execution_count": 0,
      "outputs": [
        {
          "output_type": "execute_result",
          "data": {
            "text/plain": [
              "(0.4281524926686217, 0.4222873900293255, 0.41055718475073316)"
            ]
          },
          "metadata": {
            "tags": []
          },
          "execution_count": 483
        }
      ]
    },
    {
      "cell_type": "code",
      "metadata": {
        "id": "a2NeEwQEWumr",
        "colab_type": "code",
        "outputId": "28ef949e-0fd2-4f1b-c632-391dac4a8959",
        "colab": {
          "base_uri": "https://localhost:8080/",
          "height": 34
        }
      },
      "source": [
        "accuracy_score(preds, preds_1), accuracy_score(preds, preds_2), accuracy_score(preds_1, preds_2)"
      ],
      "execution_count": 0,
      "outputs": [
        {
          "output_type": "execute_result",
          "data": {
            "text/plain": [
              "(0.5571847507331378, 0.530791788856305, 0.9736070381231672)"
            ]
          },
          "metadata": {
            "tags": []
          },
          "execution_count": 104
        }
      ]
    },
    {
      "cell_type": "code",
      "metadata": {
        "id": "Q41-nHl81cfP",
        "colab_type": "code",
        "colab": {}
      },
      "source": [
        ""
      ],
      "execution_count": 0,
      "outputs": []
    },
    {
      "cell_type": "markdown",
      "metadata": {
        "id": "7uYHj7j-T5jy",
        "colab_type": "text"
      },
      "source": [
        "Посчитаем точноть бинарных предсказаний"
      ]
    },
    {
      "cell_type": "code",
      "metadata": {
        "id": "kiGvYl9jKQKL",
        "colab_type": "code",
        "outputId": "93b74284-0ea1-4014-d7ff-8407341eacc4",
        "colab": {
          "base_uri": "https://localhost:8080/",
          "height": 34
        }
      },
      "source": [
        "accuracy_score(orig_polar, preds_bin)"
      ],
      "execution_count": 0,
      "outputs": [
        {
          "output_type": "execute_result",
          "data": {
            "text/plain": [
              "0.5865102639296188"
            ]
          },
          "metadata": {
            "tags": []
          },
          "execution_count": 111
        }
      ]
    },
    {
      "cell_type": "code",
      "metadata": {
        "id": "-_GB_bEBKpyR",
        "colab_type": "code",
        "colab": {}
      },
      "source": [
        "def pred_spread(preds):\n",
        "  unk = po = ne = nu = 0\n",
        "  for i in preds:\n",
        "    if i == 'unk':\n",
        "      unk += 1\n",
        "    if i == 'pos':\n",
        "      po += 1\n",
        "    if i == 'neg':\n",
        "      ne += 1\n",
        "    if i == 'neut':\n",
        "      nu += 1\n",
        "  return unk, po, ne, nu"
      ],
      "execution_count": 0,
      "outputs": []
    },
    {
      "cell_type": "code",
      "metadata": {
        "id": "M_ktXFJmf_Sj",
        "colab_type": "code",
        "outputId": "16153c83-739d-492c-ba99-2c9d3863bb06",
        "colab": {
          "base_uri": "https://localhost:8080/",
          "height": 102
        }
      },
      "source": [
        "pred_spread(orig_polar), pred_spread(preds), pred_spread(preds_1), pred_spread(preds_2), pred_spread(preds_bin)"
      ],
      "execution_count": 0,
      "outputs": [
        {
          "output_type": "execute_result",
          "data": {
            "text/plain": [
              "((8, 145, 186, 2),\n",
              " (8, 124, 104, 105),\n",
              " (8, 160, 95, 78),\n",
              " (8, 157, 97, 79),\n",
              " (8, 177, 156, 0))"
            ]
          },
          "metadata": {
            "tags": []
          },
          "execution_count": 115
        }
      ]
    },
    {
      "cell_type": "code",
      "metadata": {
        "id": "EwPsB-53sRz_",
        "colab_type": "code",
        "colab": {}
      },
      "source": [
        ""
      ],
      "execution_count": 0,
      "outputs": []
    },
    {
      "cell_type": "code",
      "metadata": {
        "id": "fV4PbYeeYTDU",
        "colab_type": "code",
        "colab": {}
      },
      "source": [
        "sent_df['pred_1'] = preds\n",
        "sent_df['pred_2'] = preds_1\n",
        "sent_df['pred_3'] = preds_2\n",
        "#sent_df['pred_bin'] = preds_bin"
      ],
      "execution_count": 0,
      "outputs": []
    },
    {
      "cell_type": "code",
      "metadata": {
        "id": "You54fpW2upg",
        "colab_type": "code",
        "colab": {}
      },
      "source": [
        "sent_df['pred_bin'] = preds_bin"
      ],
      "execution_count": 0,
      "outputs": []
    },
    {
      "cell_type": "code",
      "metadata": {
        "id": "xxrJ3w4pYbIR",
        "colab_type": "code",
        "outputId": "639a6b12-f7b2-4bc5-ea4d-98165f75fbd4",
        "colab": {
          "base_uri": "https://localhost:8080/",
          "height": 204
        }
      },
      "source": [
        "sent_df.head()"
      ],
      "execution_count": 0,
      "outputs": [
        {
          "output_type": "execute_result",
          "data": {
            "text/html": [
              "<div>\n",
              "<style scoped>\n",
              "    .dataframe tbody tr th:only-of-type {\n",
              "        vertical-align: middle;\n",
              "    }\n",
              "\n",
              "    .dataframe tbody tr th {\n",
              "        vertical-align: top;\n",
              "    }\n",
              "\n",
              "    .dataframe thead th {\n",
              "        text-align: right;\n",
              "    }\n",
              "</style>\n",
              "<table border=\"1\" class=\"dataframe\">\n",
              "  <thead>\n",
              "    <tr style=\"text-align: right;\">\n",
              "      <th></th>\n",
              "      <th>verbs</th>\n",
              "      <th>polar</th>\n",
              "      <th>verbs_tok</th>\n",
              "      <th>verbs_tok_2</th>\n",
              "      <th>pos_num</th>\n",
              "      <th>neg_num</th>\n",
              "      <th>neut_num</th>\n",
              "      <th>total_num</th>\n",
              "      <th>pred_1</th>\n",
              "      <th>pred_2</th>\n",
              "      <th>pred_3</th>\n",
              "      <th>pred_bin</th>\n",
              "    </tr>\n",
              "  </thead>\n",
              "  <tbody>\n",
              "    <tr>\n",
              "      <th>0</th>\n",
              "      <td>надеяться</td>\n",
              "      <td>pos</td>\n",
              "      <td>[надеяться]</td>\n",
              "      <td>надеяться</td>\n",
              "      <td>109</td>\n",
              "      <td>87</td>\n",
              "      <td>49</td>\n",
              "      <td>245</td>\n",
              "      <td>pos</td>\n",
              "      <td>pos</td>\n",
              "      <td>pos</td>\n",
              "      <td>pos</td>\n",
              "    </tr>\n",
              "    <tr>\n",
              "      <th>1</th>\n",
              "      <td>возлагать надежду</td>\n",
              "      <td>pos</td>\n",
              "      <td>[возлагать, надежда]</td>\n",
              "      <td>возлагать надежда</td>\n",
              "      <td>2579</td>\n",
              "      <td>3116</td>\n",
              "      <td>1494</td>\n",
              "      <td>7189</td>\n",
              "      <td>neg</td>\n",
              "      <td>pos</td>\n",
              "      <td>pos</td>\n",
              "      <td>neg</td>\n",
              "    </tr>\n",
              "    <tr>\n",
              "      <th>2</th>\n",
              "      <td>довериться</td>\n",
              "      <td>pos</td>\n",
              "      <td>[довериться]</td>\n",
              "      <td>довериться</td>\n",
              "      <td>30</td>\n",
              "      <td>25</td>\n",
              "      <td>18</td>\n",
              "      <td>73</td>\n",
              "      <td>neut</td>\n",
              "      <td>neg</td>\n",
              "      <td>neg</td>\n",
              "      <td>pos</td>\n",
              "    </tr>\n",
              "    <tr>\n",
              "      <th>3</th>\n",
              "      <td>положиться</td>\n",
              "      <td>pos</td>\n",
              "      <td>[положиться]</td>\n",
              "      <td>положиться</td>\n",
              "      <td>54</td>\n",
              "      <td>48</td>\n",
              "      <td>33</td>\n",
              "      <td>135</td>\n",
              "      <td>neut</td>\n",
              "      <td>neg</td>\n",
              "      <td>neg</td>\n",
              "      <td>pos</td>\n",
              "    </tr>\n",
              "    <tr>\n",
              "      <th>4</th>\n",
              "      <td>выиграть</td>\n",
              "      <td>pos</td>\n",
              "      <td>[выиграть]</td>\n",
              "      <td>выиграть</td>\n",
              "      <td>9</td>\n",
              "      <td>9</td>\n",
              "      <td>7</td>\n",
              "      <td>25</td>\n",
              "      <td>neut</td>\n",
              "      <td>neut</td>\n",
              "      <td>neut</td>\n",
              "      <td>pos</td>\n",
              "    </tr>\n",
              "  </tbody>\n",
              "</table>\n",
              "</div>"
            ],
            "text/plain": [
              "               verbs polar             verbs_tok  ... pred_2  pred_3  pred_bin\n",
              "0          надеяться   pos           [надеяться]  ...    pos     pos       pos\n",
              "1  возлагать надежду   pos  [возлагать, надежда]  ...    pos     pos       neg\n",
              "2         довериться   pos          [довериться]  ...    neg     neg       pos\n",
              "3         положиться   pos          [положиться]  ...    neg     neg       pos\n",
              "4           выиграть   pos            [выиграть]  ...   neut    neut       pos\n",
              "\n",
              "[5 rows x 12 columns]"
            ]
          },
          "metadata": {
            "tags": []
          },
          "execution_count": 117
        }
      ]
    },
    {
      "cell_type": "markdown",
      "metadata": {
        "id": "53CT49Sl41YT",
        "colab_type": "text"
      },
      "source": [
        "# векторные модели"
      ]
    },
    {
      "cell_type": "code",
      "metadata": {
        "id": "BQzhAsgR4xsZ",
        "colab_type": "code",
        "colab": {}
      },
      "source": [
        "%load_ext autoreload\n",
        "\n",
        "from gensim.models import Word2Vec, KeyedVectors"
      ],
      "execution_count": 0,
      "outputs": []
    },
    {
      "cell_type": "code",
      "metadata": {
        "id": "HmGCLukN40RG",
        "colab_type": "code",
        "outputId": "8a9b856f-cb01-41c1-caa8-15af2911fbc0",
        "colab": {
          "base_uri": "https://localhost:8080/",
          "height": 71
        }
      },
      "source": [
        "from numpy import dot\n",
        "from numpy.linalg import norm\n",
        "\n",
        "def cossim(v1,v2): # функция подсчета косинусного расстояния\n",
        "  return dot(v1, v2)/(norm(v1)*norm(v2))\n",
        "\n",
        "model_file = 'model.model' #ruscorpora\n",
        "model = KeyedVectors.load(model_file)"
      ],
      "execution_count": 0,
      "outputs": [
        {
          "output_type": "stream",
          "text": [
            "/usr/local/lib/python3.6/dist-packages/smart_open/smart_open_lib.py:253: UserWarning: This function is deprecated, use smart_open.open instead. See the migration notes for details: https://github.com/RaRe-Technologies/smart_open/blob/master/README.rst#migrating-to-the-new-open-function\n",
            "  'See the migration notes for details: %s' % _MIGRATION_NOTES_URL\n"
          ],
          "name": "stderr"
        }
      ]
    },
    {
      "cell_type": "code",
      "metadata": {
        "id": "4EfoF24l7IJZ",
        "colab_type": "code",
        "outputId": "cae4f713-cc9e-4f75-e68e-e8c635a01c3b",
        "colab": {
          "base_uri": "https://localhost:8080/",
          "height": 71
        }
      },
      "source": [
        "model_file_2 = '187/model.model' #taiga\n",
        "model_2 = KeyedVectors.load(model_file)"
      ],
      "execution_count": 0,
      "outputs": [
        {
          "output_type": "stream",
          "text": [
            "/usr/local/lib/python3.6/dist-packages/smart_open/smart_open_lib.py:253: UserWarning: This function is deprecated, use smart_open.open instead. See the migration notes for details: https://github.com/RaRe-Technologies/smart_open/blob/master/README.rst#migrating-to-the-new-open-function\n",
            "  'See the migration notes for details: %s' % _MIGRATION_NOTES_URL\n"
          ],
          "name": "stderr"
        }
      ]
    },
    {
      "cell_type": "code",
      "metadata": {
        "id": "bD4Hz_L6-hWi",
        "colab_type": "code",
        "colab": {}
      },
      "source": [
        "from allennlp.commands.elmo import ElmoEmbedder"
      ],
      "execution_count": 0,
      "outputs": []
    },
    {
      "cell_type": "code",
      "metadata": {
        "id": "KnmIjIPD-b5r",
        "colab_type": "code",
        "colab": {}
      },
      "source": [
        "elmo = ElmoEmbedder(options_file='196/options.json', weight_file='196/model.hdf5')"
      ],
      "execution_count": 0,
      "outputs": []
    },
    {
      "cell_type": "code",
      "metadata": {
        "id": "cDiYQyIaCAQU",
        "colab_type": "code",
        "outputId": "ef18039a-5756-431b-899e-b800b93776f0",
        "colab": {
          "base_uri": "https://localhost:8080/",
          "height": 34
        }
      },
      "source": [
        "len(elmo.embed_sentence(['человек'])[2][0])"
      ],
      "execution_count": 0,
      "outputs": [
        {
          "output_type": "execute_result",
          "data": {
            "text/plain": [
              "1024"
            ]
          },
          "metadata": {
            "tags": []
          },
          "execution_count": 122
        }
      ]
    },
    {
      "cell_type": "code",
      "metadata": {
        "id": "s8CRrVLh47O0",
        "colab_type": "code",
        "colab": {}
      },
      "source": [
        "def get_vec(mas, el = None, tai = None):\n",
        "  vec_mas = []\n",
        "  for i in mas:\n",
        "    try:\n",
        "      if el != None:\n",
        "        vec = elmo.embed_sentence([i])\n",
        "        vec = vec[2][0]\n",
        "      elif tai != None:\n",
        "        vec = model_2[i]\n",
        "      else:\n",
        "        vec = model[i]\n",
        "      vec_mas.append([i, vec])\n",
        "    except:\n",
        "      if i in verb_vars.keys():\n",
        "        var_vecs = []\n",
        "        for j in verb_vars[i]:\n",
        "          try:\n",
        "            if el != None:\n",
        "              vec = elmo.embed_sentence([j])\n",
        "              vec = vec[2][0]\n",
        "            elif tai != None:\n",
        "              vec = model_2[j]\n",
        "            else:\n",
        "              vec = model[j]\n",
        "            var_vecs.append(vec)\n",
        "          except:\n",
        "            continue\n",
        "        if len(var_vecs) != 0:\n",
        "          vec_mas.append([i, np.average(var_vecs, axis=0)])\n",
        "  return vec_mas"
      ],
      "execution_count": 0,
      "outputs": []
    },
    {
      "cell_type": "code",
      "metadata": {
        "id": "94Hq24B_479C",
        "colab_type": "code",
        "outputId": "6a1c7abc-b013-4330-d84c-775222ffad01",
        "colab": {
          "base_uri": "https://localhost:8080/",
          "height": 34
        }
      },
      "source": [
        "all_verbs = list(sent_df.verbs)\n",
        "verb_vec = get_vec(all_verbs)\n",
        "len(all_verbs), len(verb_vec)"
      ],
      "execution_count": 0,
      "outputs": [
        {
          "output_type": "execute_result",
          "data": {
            "text/plain": [
              "(341, 339)"
            ]
          },
          "metadata": {
            "tags": []
          },
          "execution_count": 553
        }
      ]
    },
    {
      "cell_type": "code",
      "metadata": {
        "id": "UsrKIgJm47Km",
        "colab_type": "code",
        "outputId": "e2c54224-6923-46e1-8948-d9f2239591e2",
        "colab": {
          "base_uri": "https://localhost:8080/",
          "height": 34
        }
      },
      "source": [
        "verb_vec_2 = get_vec(all_verbs, el = 'go')\n",
        "len(all_verbs), len(verb_vec_2)"
      ],
      "execution_count": 0,
      "outputs": [
        {
          "output_type": "execute_result",
          "data": {
            "text/plain": [
              "(341, 341)"
            ]
          },
          "metadata": {
            "tags": []
          },
          "execution_count": 125
        }
      ]
    },
    {
      "cell_type": "code",
      "metadata": {
        "id": "9f1LbyyT-H2j",
        "colab_type": "code",
        "outputId": "ed963fff-d9e8-41b1-df61-56310bfdb440",
        "colab": {
          "base_uri": "https://localhost:8080/",
          "height": 34
        }
      },
      "source": [
        "verb_vec_3 = get_vec(all_verbs, tai = 'go')\n",
        "len(all_verbs), len(verb_vec_3)"
      ],
      "execution_count": 0,
      "outputs": [
        {
          "output_type": "execute_result",
          "data": {
            "text/plain": [
              "(341, 339)"
            ]
          },
          "metadata": {
            "tags": []
          },
          "execution_count": 496
        }
      ]
    },
    {
      "cell_type": "markdown",
      "metadata": {
        "id": "a0tiuAF74bI2",
        "colab_type": "text"
      },
      "source": [
        "# фреймовые глаголы для разметки"
      ]
    },
    {
      "cell_type": "code",
      "metadata": {
        "id": "oT3424kYoCDp",
        "colab_type": "code",
        "colab": {}
      },
      "source": [
        "false_preds = []\n",
        "for i in range(len(sent_df.verbs)):\n",
        "  if sent_df.pred_1[i] != sent_df.polar[i] and sent_df.pred_2[i] != sent_df.polar[i] and sent_df.pred_1[i] != sent_df.pred_2[i]:\n",
        "    false_preds.append([i, sent_df.pred_1[i]])\n",
        "  elif sent_df.pred_1[i] != sent_df.polar[i] and sent_df.pred_3[i] != sent_df.polar[i] and sent_df.pred_1[i] != sent_df.pred_3[i]:\n",
        "    false_preds.append([i, sent_df.pred_1[i]])"
      ],
      "execution_count": 0,
      "outputs": []
    },
    {
      "cell_type": "code",
      "metadata": {
        "id": "WRpAgBilmWQQ",
        "colab_type": "code",
        "colab": {}
      },
      "source": [
        "for i in range(len(sent_df.verbs)):\n",
        "  if sent_df.total_num[i] == 0:\n",
        "    if i not in [x[0] for x in false_preds]:\n",
        "      false_preds.append([i, 'unk'])"
      ],
      "execution_count": 0,
      "outputs": []
    },
    {
      "cell_type": "code",
      "metadata": {
        "id": "tTTG7pZrnH5-",
        "colab_type": "code",
        "outputId": "51afb215-4c0f-42b1-8622-7b1e0a689e12",
        "colab": {
          "base_uri": "https://localhost:8080/",
          "height": 34
        }
      },
      "source": [
        "len(false_preds)"
      ],
      "execution_count": 0,
      "outputs": [
        {
          "output_type": "execute_result",
          "data": {
            "text/plain": [
              "54"
            ]
          },
          "metadata": {
            "tags": []
          },
          "execution_count": 128
        }
      ]
    },
    {
      "cell_type": "code",
      "metadata": {
        "id": "oOA39dE_nc5m",
        "colab_type": "code",
        "colab": {}
      },
      "source": [
        "test_verbs_0 = []\n",
        "for i in false_preds:\n",
        "  test_verbs_0.append(sent_df.verbs[i[0]])"
      ],
      "execution_count": 0,
      "outputs": []
    },
    {
      "cell_type": "markdown",
      "metadata": {
        "id": "cdwTpztA-kNL",
        "colab_type": "text"
      },
      "source": [
        "Проверим, что вектора есть для всех этих глаголов"
      ]
    },
    {
      "cell_type": "code",
      "metadata": {
        "id": "5cXzM6pkI53C",
        "colab_type": "code",
        "colab": {}
      },
      "source": [
        "test_verbs_2 = []\n",
        "for i in test_verbs_0:\n",
        "  if i in [v[0] for v in verb_vec]:\n",
        "    test_verbs_2.append(i)"
      ],
      "execution_count": 0,
      "outputs": []
    },
    {
      "cell_type": "code",
      "metadata": {
        "id": "QJRPqa5zI_NH",
        "colab_type": "code",
        "outputId": "2e0f0489-c999-4969-bebf-cf97d02954b4",
        "colab": {
          "base_uri": "https://localhost:8080/",
          "height": 34
        }
      },
      "source": [
        "len(test_verbs_2)"
      ],
      "execution_count": 0,
      "outputs": [
        {
          "output_type": "execute_result",
          "data": {
            "text/plain": [
              "54"
            ]
          },
          "metadata": {
            "tags": []
          },
          "execution_count": 109
        }
      ]
    },
    {
      "cell_type": "markdown",
      "metadata": {
        "id": "ISrWmcQeK8tA",
        "colab_type": "text"
      },
      "source": [
        "# true preds, test set, labels"
      ]
    },
    {
      "cell_type": "code",
      "metadata": {
        "id": "vJcSgnPU8a90",
        "colab_type": "code",
        "colab": {}
      },
      "source": [
        "'''f = open('wrong_preds_3.txt', 'w', encoding='utf-8')\n",
        "for i in range(len(sent_df.verbs)):\n",
        "  if sent_df.verbs[i] in true_pverbs or sent_df.total_num[i] == 0:\n",
        "    continue\n",
        "  else:\n",
        "    s = f'{sent_df.verbs[i]}, {sent_df.polar[i]}, {sent_df.pos_num[i]}, {sent_df.neg_num[i]}, {sent_df.neut_num[i]}, {sent_df.pred_1[i]}, {sent_df.pred_2[i]}, {sent_df.pred_3[i]}\\n'\n",
        "    f.write(s)\n",
        "f.close()'''"
      ],
      "execution_count": 0,
      "outputs": []
    },
    {
      "cell_type": "code",
      "metadata": {
        "id": "zqLBhf4laD8V",
        "colab_type": "code",
        "colab": {}
      },
      "source": [
        "same_preds = []\n",
        "for i in range(len(sent_df.verbs)):\n",
        "  if sent_df.pred_1[i] == sent_df.pred_2[i] and sent_df.pred_1[i] == sent_df.pred_3[i]:\n",
        "    same_preds.append([i, sent_df.verbs[i], sent_df.pred_1[i]])"
      ],
      "execution_count": 0,
      "outputs": []
    },
    {
      "cell_type": "code",
      "metadata": {
        "id": "dPGwabf_aiKR",
        "colab_type": "code",
        "outputId": "19abcc27-92e3-432a-89cc-da275884aa7d",
        "colab": {
          "base_uri": "https://localhost:8080/",
          "height": 34
        }
      },
      "source": [
        "len(same_preds)"
      ],
      "execution_count": 0,
      "outputs": [
        {
          "output_type": "execute_result",
          "data": {
            "text/plain": [
              "181"
            ]
          },
          "metadata": {
            "tags": []
          },
          "execution_count": 498
        }
      ]
    },
    {
      "cell_type": "code",
      "metadata": {
        "id": "NIxpXZXdG_ZJ",
        "colab_type": "code",
        "outputId": "a8c9354f-a9c5-44aa-cae1-c4c32632409d",
        "colab": {
          "base_uri": "https://localhost:8080/",
          "height": 34
        }
      },
      "source": [
        "p = ne = nu = unk = 0\n",
        "for i in same_preds:\n",
        "  if i[2] == 'pos':\n",
        "    p+=1\n",
        "  if i[2] == 'neg':\n",
        "    ne+=1\n",
        "  if i[2] == 'neut':\n",
        "    nu+=1 \n",
        "  if i[2] == 'unk':\n",
        "    unk+=1\n",
        "p, ne, nu, unk"
      ],
      "execution_count": 0,
      "outputs": [
        {
          "output_type": "execute_result",
          "data": {
            "text/plain": [
              "(80, 44, 49, 8)"
            ]
          },
          "metadata": {
            "tags": []
          },
          "execution_count": 499
        }
      ]
    },
    {
      "cell_type": "code",
      "metadata": {
        "id": "2gMqkrbdah4U",
        "colab_type": "code",
        "colab": {}
      },
      "source": [
        "true_preds = []\n",
        "for i in range(len(sent_df.verbs)):\n",
        "  for j in same_preds:\n",
        "    if i == j[0]:\n",
        "      if sent_df.polar[i] == j[2]:\n",
        "        true_preds.append([i, sent_df.verbs[i], sent_df.polar[i]])"
      ],
      "execution_count": 0,
      "outputs": []
    },
    {
      "cell_type": "code",
      "metadata": {
        "id": "-fxJ-EOycKx9",
        "colab_type": "code",
        "outputId": "00929814-5fa8-4d35-e551-6b378fb93c38",
        "colab": {
          "base_uri": "https://localhost:8080/",
          "height": 34
        }
      },
      "source": [
        "len(true_preds)"
      ],
      "execution_count": 0,
      "outputs": [
        {
          "output_type": "execute_result",
          "data": {
            "text/plain": [
              "78"
            ]
          },
          "metadata": {
            "tags": []
          },
          "execution_count": 134
        }
      ]
    },
    {
      "cell_type": "code",
      "metadata": {
        "id": "a_buqA7UMPJ3",
        "colab_type": "code",
        "outputId": "2bac710b-998e-4e02-ffe6-e4d1301bb455",
        "colab": {
          "base_uri": "https://localhost:8080/",
          "height": 34
        }
      },
      "source": [
        "true_vecs = get_vec([x[1] for x in true_preds])\n",
        "len(true_vecs)"
      ],
      "execution_count": 0,
      "outputs": [
        {
          "output_type": "execute_result",
          "data": {
            "text/plain": [
              "78"
            ]
          },
          "metadata": {
            "tags": []
          },
          "execution_count": 135
        }
      ]
    },
    {
      "cell_type": "code",
      "metadata": {
        "id": "EkNynVsyfzrm",
        "colab_type": "code",
        "outputId": "49452d4b-b1c5-4f14-9884-dacff0580d58",
        "colab": {
          "base_uri": "https://localhost:8080/",
          "height": 34
        }
      },
      "source": [
        "p = ne = 0\n",
        "for i in true_preds:\n",
        "  if i[2] == 'pos':\n",
        "    p+=1\n",
        "  if i[2] == 'neg':\n",
        "    ne+=1\n",
        "p, ne"
      ],
      "execution_count": 0,
      "outputs": [
        {
          "output_type": "execute_result",
          "data": {
            "text/plain": [
              "(51, 27)"
            ]
          },
          "metadata": {
            "tags": []
          },
          "execution_count": 136
        }
      ]
    },
    {
      "cell_type": "code",
      "metadata": {
        "id": "vino-8MHJbPJ",
        "colab_type": "code",
        "outputId": "ffca5bc7-6690-4743-c0f8-d96aa6bc5962",
        "colab": {
          "base_uri": "https://localhost:8080/",
          "height": 34
        }
      },
      "source": [
        "true_preds[0]"
      ],
      "execution_count": 0,
      "outputs": [
        {
          "output_type": "execute_result",
          "data": {
            "text/plain": [
              "[0, 'надеяться', 'pos']"
            ]
          },
          "metadata": {
            "tags": []
          },
          "execution_count": 137
        }
      ]
    },
    {
      "cell_type": "code",
      "metadata": {
        "id": "_Z37v6Pf81Ij",
        "colab_type": "code",
        "colab": {}
      },
      "source": [
        "test_num = 0\n",
        "novec_num = 0\n",
        "test_set = []\n",
        "true_num = 0\n",
        "labels = []\n",
        "for row in range(len(sent_df.verbs)):\n",
        "  if sent_df.verbs[row] in [x[0] for x in verb_vec]:\n",
        "    if sent_df.verbs[row] not in test_verbs_0:\n",
        "      if sent_df.verbs[row] not in [x[1] for x in true_preds]:\n",
        "        test_set.append(sent_df.verbs[row])\n",
        "        labels.append('test')\n",
        "      else:\n",
        "        true_num += 1\n",
        "        labels.append('seed')\n",
        "    else:\n",
        "      test_num += 1\n",
        "      labels.append('annot')\n",
        "  else:\n",
        "    novec_num += 1\n",
        "    labels.append('no_vec')"
      ],
      "execution_count": 0,
      "outputs": []
    },
    {
      "cell_type": "code",
      "metadata": {
        "id": "OIDmAQ689ptQ",
        "colab_type": "code",
        "outputId": "f555fd12-07f6-44be-8ab5-96bfe035699c",
        "colab": {
          "base_uri": "https://localhost:8080/",
          "height": 34
        }
      },
      "source": [
        "novec_num, test_num, true_num, len(true_preds), len(test_set), novec_num+test_num+len(true_preds)+len(test_set)"
      ],
      "execution_count": 0,
      "outputs": [
        {
          "output_type": "execute_result",
          "data": {
            "text/plain": [
              "(2, 54, 78, 78, 207, 341)"
            ]
          },
          "metadata": {
            "tags": []
          },
          "execution_count": 555
        }
      ]
    },
    {
      "cell_type": "code",
      "metadata": {
        "id": "rV8nQgn_fA5S",
        "colab_type": "code",
        "outputId": "1e0bd125-f5b0-4d88-c7b5-a776a6cf7b4c",
        "colab": {
          "base_uri": "https://localhost:8080/",
          "height": 34
        }
      },
      "source": [
        "len(labels)"
      ],
      "execution_count": 0,
      "outputs": [
        {
          "output_type": "execute_result",
          "data": {
            "text/plain": [
              "341"
            ]
          },
          "metadata": {
            "tags": []
          },
          "execution_count": 556
        }
      ]
    },
    {
      "cell_type": "code",
      "metadata": {
        "id": "SxC1Y1gpfEgp",
        "colab_type": "code",
        "outputId": "a19210f2-71fe-4b6d-ab1f-64c3dcc33c4e",
        "colab": {
          "base_uri": "https://localhost:8080/",
          "height": 142
        }
      },
      "source": [
        "sent_df['labels'] = labels\n",
        "sent_df.head(3)"
      ],
      "execution_count": 0,
      "outputs": [
        {
          "output_type": "execute_result",
          "data": {
            "text/html": [
              "<div>\n",
              "<style scoped>\n",
              "    .dataframe tbody tr th:only-of-type {\n",
              "        vertical-align: middle;\n",
              "    }\n",
              "\n",
              "    .dataframe tbody tr th {\n",
              "        vertical-align: top;\n",
              "    }\n",
              "\n",
              "    .dataframe thead th {\n",
              "        text-align: right;\n",
              "    }\n",
              "</style>\n",
              "<table border=\"1\" class=\"dataframe\">\n",
              "  <thead>\n",
              "    <tr style=\"text-align: right;\">\n",
              "      <th></th>\n",
              "      <th>verbs</th>\n",
              "      <th>polar</th>\n",
              "      <th>verbs_tok</th>\n",
              "      <th>verbs_tok_2</th>\n",
              "      <th>pos_num</th>\n",
              "      <th>neg_num</th>\n",
              "      <th>neut_num</th>\n",
              "      <th>total_num</th>\n",
              "      <th>pred_1</th>\n",
              "      <th>pred_2</th>\n",
              "      <th>pred_3</th>\n",
              "      <th>pred_bin</th>\n",
              "      <th>labels</th>\n",
              "    </tr>\n",
              "  </thead>\n",
              "  <tbody>\n",
              "    <tr>\n",
              "      <th>0</th>\n",
              "      <td>надеяться</td>\n",
              "      <td>pos</td>\n",
              "      <td>[надеяться]</td>\n",
              "      <td>надеяться</td>\n",
              "      <td>109</td>\n",
              "      <td>87</td>\n",
              "      <td>49</td>\n",
              "      <td>245</td>\n",
              "      <td>pos</td>\n",
              "      <td>pos</td>\n",
              "      <td>pos</td>\n",
              "      <td>pos</td>\n",
              "      <td>seed</td>\n",
              "    </tr>\n",
              "    <tr>\n",
              "      <th>1</th>\n",
              "      <td>возлагать надежду</td>\n",
              "      <td>pos</td>\n",
              "      <td>[возлагать, надежда]</td>\n",
              "      <td>возлагать надежда</td>\n",
              "      <td>2579</td>\n",
              "      <td>3116</td>\n",
              "      <td>1494</td>\n",
              "      <td>7189</td>\n",
              "      <td>neg</td>\n",
              "      <td>pos</td>\n",
              "      <td>pos</td>\n",
              "      <td>neg</td>\n",
              "      <td>test</td>\n",
              "    </tr>\n",
              "    <tr>\n",
              "      <th>2</th>\n",
              "      <td>довериться</td>\n",
              "      <td>pos</td>\n",
              "      <td>[довериться]</td>\n",
              "      <td>довериться</td>\n",
              "      <td>30</td>\n",
              "      <td>25</td>\n",
              "      <td>18</td>\n",
              "      <td>73</td>\n",
              "      <td>neut</td>\n",
              "      <td>neg</td>\n",
              "      <td>neg</td>\n",
              "      <td>pos</td>\n",
              "      <td>annot</td>\n",
              "    </tr>\n",
              "  </tbody>\n",
              "</table>\n",
              "</div>"
            ],
            "text/plain": [
              "               verbs polar             verbs_tok  ... pred_3  pred_bin  labels\n",
              "0          надеяться   pos           [надеяться]  ...    pos       pos    seed\n",
              "1  возлагать надежду   pos  [возлагать, надежда]  ...    pos       neg    test\n",
              "2         довериться   pos          [довериться]  ...    neg       pos   annot\n",
              "\n",
              "[3 rows x 13 columns]"
            ]
          },
          "metadata": {
            "tags": []
          },
          "execution_count": 557
        }
      ]
    },
    {
      "cell_type": "markdown",
      "metadata": {
        "id": "OqVekc-OMtQe",
        "colab_type": "text"
      },
      "source": [
        "# сиды"
      ]
    },
    {
      "cell_type": "markdown",
      "metadata": {
        "id": "LxgYx66UUhZa",
        "colab_type": "text"
      },
      "source": [
        "разделим глаголы из true_preds на pos и neg для сидов и сформируем 4 сидовых набора"
      ]
    },
    {
      "cell_type": "code",
      "metadata": {
        "id": "Npx4e_CTLCTP",
        "colab_type": "code",
        "colab": {}
      },
      "source": [
        "pos_seed = []\n",
        "neg_seed = []\n",
        "for i in true_preds:\n",
        "  if i[2] == 'pos':\n",
        "    pos_seed.append(i[1])\n",
        "  else:\n",
        "    neg_seed.append(i[1])"
      ],
      "execution_count": 0,
      "outputs": []
    },
    {
      "cell_type": "code",
      "metadata": {
        "id": "EP3z9o8MLR2H",
        "colab_type": "code",
        "outputId": "a5450003-7547-423e-b974-ff35b1f29b75",
        "colab": {
          "base_uri": "https://localhost:8080/",
          "height": 34
        }
      },
      "source": [
        "len(pos_seed), len(neg_seed)"
      ],
      "execution_count": 0,
      "outputs": [
        {
          "output_type": "execute_result",
          "data": {
            "text/plain": [
              "(51, 27)"
            ]
          },
          "metadata": {
            "tags": []
          },
          "execution_count": 254
        }
      ]
    },
    {
      "cell_type": "code",
      "metadata": {
        "id": "rzr6jOMuLaHR",
        "colab_type": "code",
        "colab": {}
      },
      "source": [
        "import random\n",
        "def get_seed_sample(seed_pos, seed_neg, n):\n",
        "  pos = []\n",
        "  neg = []\n",
        "  while len(pos) != n:\n",
        "    sample = random.choice(seed_pos)\n",
        "    if sample not in pos:\n",
        "      pos.append(sample)\n",
        "\n",
        "  while len(neg) != n:\n",
        "    sample = random.choice(seed_neg)\n",
        "    if sample not in neg:\n",
        "      neg.append(sample)\n",
        "\n",
        "  return pos, neg"
      ],
      "execution_count": 0,
      "outputs": []
    },
    {
      "cell_type": "code",
      "metadata": {
        "id": "kpjggsRUk58J",
        "colab_type": "code",
        "colab": {}
      },
      "source": [
        "pos_0, neg_0 = get_seed_sample(pos_seed, neg_seed, 10)\n",
        "pos_1, neg_1 = get_seed_sample(pos_seed, neg_seed, 10)\n",
        "pos_2, neg_2 = get_seed_sample(pos_seed, neg_seed, 10)\n",
        "pos_3, neg_3 = get_seed_sample(pos_seed, neg_seed, 10)\n",
        "pos_4, neg_4 = get_seed_sample(pos_seed, neg_seed, 10)"
      ],
      "execution_count": 0,
      "outputs": []
    },
    {
      "cell_type": "code",
      "metadata": {
        "id": "VVDMI52sNGse",
        "colab_type": "code",
        "colab": {}
      },
      "source": [
        "seed_dict_0 = {'pos_0': pos_0, 'pos_1': pos_1, 'pos_2': pos_2, 'pos_3': pos_3, 'pos_4': pos_4, \\\n",
        "               'neg_0': neg_0, 'neg_1': neg_1, 'neg_2': neg_2, 'neg_3': neg_3, 'neg_4': neg_4}"
      ],
      "execution_count": 0,
      "outputs": []
    },
    {
      "cell_type": "code",
      "metadata": {
        "id": "YvPVPNJI4RE-",
        "colab_type": "code",
        "colab": {}
      },
      "source": [
        "import json\n",
        "\n",
        "with open('seed_dict_0.json', 'w') as f:\n",
        "    json.dump(seed_dict_0, f)"
      ],
      "execution_count": 0,
      "outputs": []
    },
    {
      "cell_type": "code",
      "metadata": {
        "id": "V0eJM9KJ4z5a",
        "colab_type": "code",
        "colab": {}
      },
      "source": [
        "import json\n",
        "\n",
        "with open('seed_dict_0.json') as f:\n",
        "    seed_dict_0 = json.load(f)"
      ],
      "execution_count": 0,
      "outputs": []
    },
    {
      "cell_type": "code",
      "metadata": {
        "id": "xmZreBSR-89l",
        "colab_type": "code",
        "colab": {}
      },
      "source": [
        "def get_all_vecs(seed_dict, n=None):\n",
        "  if n!=None:\n",
        "    vecs = []\n",
        "    for i in range(int(len(seed_dict.keys())/2)):\n",
        "      pkey = f'pos_{n}{i}'\n",
        "      pvec = get_vec(seed_dict[pkey]) #tai='go' or el='go'\n",
        "      nkey = f'neg_{n}{i}'\n",
        "      nvec = get_vec(seed_dict[nkey])\n",
        "      vecs.append([pvec, nvec])\n",
        "  else:\n",
        "    vecs = []\n",
        "    for i in range(int(len(seed_dict.keys())/2)):\n",
        "      pkey = f'pos_{i}'\n",
        "      pvec = get_vec(seed_dict[pkey])\n",
        "      nkey = f'neg_{i}'\n",
        "      nvec = get_vec(seed_dict[nkey])\n",
        "      vecs.append([pvec, nvec])\n",
        "  return vecs"
      ],
      "execution_count": 0,
      "outputs": []
    },
    {
      "cell_type": "code",
      "metadata": {
        "id": "zg1Doz1cWnmC",
        "colab_type": "code",
        "colab": {}
      },
      "source": [
        "def seed_set(q, n):\n",
        "  ss = []\n",
        "  for i in range(q):\n",
        "    sp, sn = get_seed_sample(pos_seed, neg_seed, n)\n",
        "    ss.append([sp,sn])\n",
        "  return ss"
      ],
      "execution_count": 0,
      "outputs": []
    },
    {
      "cell_type": "code",
      "metadata": {
        "id": "knvy9GzuW0vi",
        "colab_type": "code",
        "colab": {}
      },
      "source": [
        "def get_pole(seed): #формируем полюс из сида\n",
        "  vecs = [i[1] for i in seed]\n",
        "  return np.average(vecs, axis=0)\n",
        "\n",
        "def get_axis(pos_vecs, neg_vecs): #создаем ось из двух полюсов\n",
        "  p_pole = get_pole(pos_vecs)\n",
        "  n_pole = get_pole(neg_vecs)\n",
        "\n",
        "  return p_pole - n_pole\n",
        "\n",
        "def get_axis_mas(seed_vecs): #создаем оси для наборов сидов\n",
        "  axises = []\n",
        "  for i in seed_vecs:\n",
        "    axis = get_axis(i[0],i[1])\n",
        "    axises.append(axis)\n",
        "  return(axises)"
      ],
      "execution_count": 0,
      "outputs": []
    },
    {
      "cell_type": "code",
      "metadata": {
        "id": "B1UhH8ON_ay_",
        "colab_type": "code",
        "colab": {}
      },
      "source": [
        "seed_vecs_1 = get_all_vecs(seed_dict_0)"
      ],
      "execution_count": 0,
      "outputs": []
    },
    {
      "cell_type": "code",
      "metadata": {
        "id": "GUINf5-cAE-M",
        "colab_type": "code",
        "colab": {}
      },
      "source": [
        "axises_1 = get_axis_mas(seed_vecs_1)"
      ],
      "execution_count": 0,
      "outputs": []
    },
    {
      "cell_type": "code",
      "metadata": {
        "id": "8U0MiaalZmFq",
        "colab_type": "code",
        "colab": {}
      },
      "source": [
        ""
      ],
      "execution_count": 0,
      "outputs": []
    },
    {
      "cell_type": "code",
      "metadata": {
        "id": "18lb430O5uQS",
        "colab_type": "code",
        "colab": {}
      },
      "source": [
        "import json\n",
        "\n",
        "with open('seed_dict_20.json', 'w') as f:\n",
        "    json.dump(seed_dict_20, f)"
      ],
      "execution_count": 0,
      "outputs": []
    },
    {
      "cell_type": "code",
      "metadata": {
        "id": "mITTMJT35zTp",
        "colab_type": "code",
        "colab": {}
      },
      "source": [
        "import json\n",
        "\n",
        "with open('seed_dict_20.json') as f:\n",
        "    seed_dict_20 = json.load(f)"
      ],
      "execution_count": 0,
      "outputs": []
    },
    {
      "cell_type": "code",
      "metadata": {
        "id": "eIAmoZnbAh5G",
        "colab_type": "code",
        "colab": {}
      },
      "source": [
        "seed_vecs_2 = get_all_vecs(seed_dict_20, 2)\n",
        "axises_2 = get_axis_mas(seed_vecs_2)"
      ],
      "execution_count": 0,
      "outputs": []
    },
    {
      "cell_type": "code",
      "metadata": {
        "id": "WfwepkR1B04y",
        "colab_type": "code",
        "colab": {}
      },
      "source": [
        ""
      ],
      "execution_count": 0,
      "outputs": []
    },
    {
      "cell_type": "code",
      "metadata": {
        "id": "2z8IcR6F8Jny",
        "colab_type": "code",
        "colab": {}
      },
      "source": [
        "seed_mas_3 = seed_set(5, 25)"
      ],
      "execution_count": 0,
      "outputs": []
    },
    {
      "cell_type": "code",
      "metadata": {
        "id": "8uS6E1SW8d_c",
        "colab_type": "code",
        "colab": {}
      },
      "source": [
        "seed_dict_30 = {}\n",
        "for i in range(len(seed_mas_3)):\n",
        "  pos_key = f'pos_3{i}'\n",
        "  seed_dict_30[pos_key] = seed_mas_3[i][0]\n",
        "\n",
        "  neg_key = f'neg_3{i}'\n",
        "  seed_dict_30[neg_key] = seed_mas_3[i][1]"
      ],
      "execution_count": 0,
      "outputs": []
    },
    {
      "cell_type": "code",
      "metadata": {
        "id": "zzWjLN9T9U3u",
        "colab_type": "code",
        "colab": {}
      },
      "source": [
        "import json\n",
        "\n",
        "with open('seed_dict_30.json', 'w') as f:\n",
        "    json.dump(seed_dict_30, f)"
      ],
      "execution_count": 0,
      "outputs": []
    },
    {
      "cell_type": "code",
      "metadata": {
        "id": "V6ZY7_xE9anN",
        "colab_type": "code",
        "colab": {}
      },
      "source": [
        "import json\n",
        "\n",
        "with open('seed_dict_30.json') as f:\n",
        "    seed_dict_30 = json.load(f)"
      ],
      "execution_count": 0,
      "outputs": []
    },
    {
      "cell_type": "code",
      "metadata": {
        "id": "41v8jgF_A0Kk",
        "colab_type": "code",
        "colab": {}
      },
      "source": [
        "seed_vecs_3 = get_all_vecs(seed_dict_30, 3)\n",
        "axises_3 = get_axis_mas(seed_vecs_3)"
      ],
      "execution_count": 0,
      "outputs": []
    },
    {
      "cell_type": "code",
      "metadata": {
        "id": "a3tPe27yAzuu",
        "colab_type": "code",
        "colab": {}
      },
      "source": [
        ""
      ],
      "execution_count": 0,
      "outputs": []
    },
    {
      "cell_type": "code",
      "metadata": {
        "id": "enfZUy9sYI9E",
        "colab_type": "code",
        "colab": {}
      },
      "source": [
        "seed_mas_4 = seed_set(10, 5)"
      ],
      "execution_count": 0,
      "outputs": []
    },
    {
      "cell_type": "code",
      "metadata": {
        "id": "Y_3gViOMYNqF",
        "colab_type": "code",
        "colab": {}
      },
      "source": [
        "seed_dict_40 = {}\n",
        "for i in range(len(seed_mas_4)):\n",
        "  pos_key = f'pos_4{i}'\n",
        "  seed_dict_40[pos_key] = seed_mas_4[i][0]\n",
        "\n",
        "  neg_key = f'neg_4{i}'\n",
        "  seed_dict_40[neg_key] = seed_mas_4[i][1]"
      ],
      "execution_count": 0,
      "outputs": []
    },
    {
      "cell_type": "code",
      "metadata": {
        "id": "V6PY75zpYN_E",
        "colab_type": "code",
        "colab": {}
      },
      "source": [
        "import json\n",
        "\n",
        "with open('seed_dict_40.json', 'w') as f:\n",
        "    json.dump(seed_dict_40, f)"
      ],
      "execution_count": 0,
      "outputs": []
    },
    {
      "cell_type": "code",
      "metadata": {
        "id": "oTvoO-O1YZMH",
        "colab_type": "code",
        "colab": {}
      },
      "source": [
        "import json\n",
        "\n",
        "with open('seed_dict_40.json') as f:\n",
        "    seed_dict_40 = json.load(f)"
      ],
      "execution_count": 0,
      "outputs": []
    },
    {
      "cell_type": "code",
      "metadata": {
        "id": "QLYrUwFRZvbU",
        "colab_type": "code",
        "colab": {}
      },
      "source": [
        "seed_vecs_4 = get_all_vecs(seed_dict_40, 4)"
      ],
      "execution_count": 0,
      "outputs": []
    },
    {
      "cell_type": "code",
      "metadata": {
        "id": "9lle73LFYzJ7",
        "colab_type": "code",
        "colab": {}
      },
      "source": [
        "axises_4 = get_axis_mas(seed_vecs_4)"
      ],
      "execution_count": 0,
      "outputs": []
    },
    {
      "cell_type": "markdown",
      "metadata": {
        "id": "mmPL09kxgogw",
        "colab_type": "text"
      },
      "source": [
        "# test set"
      ]
    },
    {
      "cell_type": "code",
      "metadata": {
        "id": "Iz6bS3VgfZYY",
        "colab_type": "code",
        "outputId": "7e86ee77-8f6c-4abd-bf34-045f027f6f7c",
        "colab": {
          "base_uri": "https://localhost:8080/",
          "height": 204
        }
      },
      "source": [
        "test_verbs = sent_df[sent_df.labels == 'test'].reset_index(drop=True)\n",
        "test_verbs.head()"
      ],
      "execution_count": 0,
      "outputs": [
        {
          "output_type": "execute_result",
          "data": {
            "text/html": [
              "<div>\n",
              "<style scoped>\n",
              "    .dataframe tbody tr th:only-of-type {\n",
              "        vertical-align: middle;\n",
              "    }\n",
              "\n",
              "    .dataframe tbody tr th {\n",
              "        vertical-align: top;\n",
              "    }\n",
              "\n",
              "    .dataframe thead th {\n",
              "        text-align: right;\n",
              "    }\n",
              "</style>\n",
              "<table border=\"1\" class=\"dataframe\">\n",
              "  <thead>\n",
              "    <tr style=\"text-align: right;\">\n",
              "      <th></th>\n",
              "      <th>verbs</th>\n",
              "      <th>polar</th>\n",
              "      <th>verbs_tok</th>\n",
              "      <th>verbs_tok_2</th>\n",
              "      <th>pos_num</th>\n",
              "      <th>neg_num</th>\n",
              "      <th>neut_num</th>\n",
              "      <th>total_num</th>\n",
              "      <th>pred_1</th>\n",
              "      <th>pred_2</th>\n",
              "      <th>pred_3</th>\n",
              "      <th>pred_bin</th>\n",
              "      <th>labels</th>\n",
              "    </tr>\n",
              "  </thead>\n",
              "  <tbody>\n",
              "    <tr>\n",
              "      <th>0</th>\n",
              "      <td>возлагать надежду</td>\n",
              "      <td>pos</td>\n",
              "      <td>[возлагать, надежда]</td>\n",
              "      <td>возлагать надежда</td>\n",
              "      <td>2579</td>\n",
              "      <td>3116</td>\n",
              "      <td>1494</td>\n",
              "      <td>7189</td>\n",
              "      <td>neg</td>\n",
              "      <td>pos</td>\n",
              "      <td>pos</td>\n",
              "      <td>neg</td>\n",
              "      <td>test</td>\n",
              "    </tr>\n",
              "    <tr>\n",
              "      <th>1</th>\n",
              "      <td>выиграть</td>\n",
              "      <td>pos</td>\n",
              "      <td>[выиграть]</td>\n",
              "      <td>выиграть</td>\n",
              "      <td>9</td>\n",
              "      <td>9</td>\n",
              "      <td>7</td>\n",
              "      <td>25</td>\n",
              "      <td>neut</td>\n",
              "      <td>neut</td>\n",
              "      <td>neut</td>\n",
              "      <td>pos</td>\n",
              "      <td>test</td>\n",
              "    </tr>\n",
              "    <tr>\n",
              "      <th>2</th>\n",
              "      <td>получить приз</td>\n",
              "      <td>pos</td>\n",
              "      <td>[получить, приз]</td>\n",
              "      <td>получить приз</td>\n",
              "      <td>158</td>\n",
              "      <td>259</td>\n",
              "      <td>98</td>\n",
              "      <td>515</td>\n",
              "      <td>neg</td>\n",
              "      <td>neg</td>\n",
              "      <td>neg</td>\n",
              "      <td>neg</td>\n",
              "      <td>test</td>\n",
              "    </tr>\n",
              "    <tr>\n",
              "      <th>3</th>\n",
              "      <td>удаться</td>\n",
              "      <td>pos</td>\n",
              "      <td>[удаться]</td>\n",
              "      <td>удаться</td>\n",
              "      <td>103</td>\n",
              "      <td>79</td>\n",
              "      <td>49</td>\n",
              "      <td>231</td>\n",
              "      <td>pos</td>\n",
              "      <td>neg</td>\n",
              "      <td>neg</td>\n",
              "      <td>pos</td>\n",
              "      <td>test</td>\n",
              "    </tr>\n",
              "    <tr>\n",
              "      <th>4</th>\n",
              "      <td>понять</td>\n",
              "      <td>pos</td>\n",
              "      <td>[понять]</td>\n",
              "      <td>понять</td>\n",
              "      <td>152</td>\n",
              "      <td>175</td>\n",
              "      <td>101</td>\n",
              "      <td>428</td>\n",
              "      <td>neut</td>\n",
              "      <td>neut</td>\n",
              "      <td>neut</td>\n",
              "      <td>neg</td>\n",
              "      <td>test</td>\n",
              "    </tr>\n",
              "  </tbody>\n",
              "</table>\n",
              "</div>"
            ],
            "text/plain": [
              "               verbs polar             verbs_tok  ... pred_3  pred_bin  labels\n",
              "0  возлагать надежду   pos  [возлагать, надежда]  ...    pos       neg    test\n",
              "1           выиграть   pos            [выиграть]  ...   neut       pos    test\n",
              "2      получить приз   pos      [получить, приз]  ...    neg       neg    test\n",
              "3            удаться   pos             [удаться]  ...    neg       pos    test\n",
              "4             понять   pos              [понять]  ...   neut       neg    test\n",
              "\n",
              "[5 rows x 13 columns]"
            ]
          },
          "metadata": {
            "tags": []
          },
          "execution_count": 565
        }
      ]
    },
    {
      "cell_type": "code",
      "metadata": {
        "id": "Lru0rJa4be4o",
        "colab_type": "code",
        "colab": {}
      },
      "source": [
        "test_vecs = get_vec(test_set) #tai='go' or el='go'"
      ],
      "execution_count": 0,
      "outputs": []
    },
    {
      "cell_type": "code",
      "metadata": {
        "id": "PmJ1V6ezD31v",
        "colab_type": "code",
        "outputId": "206a7349-b769-4eee-b0d5-0e889f6ace5b",
        "colab": {
          "base_uri": "https://localhost:8080/",
          "height": 34
        }
      },
      "source": [
        "len(test_verbs.verbs), len(test_vecs)"
      ],
      "execution_count": 0,
      "outputs": [
        {
          "output_type": "execute_result",
          "data": {
            "text/plain": [
              "(207, 207)"
            ]
          },
          "metadata": {
            "tags": []
          },
          "execution_count": 567
        }
      ]
    },
    {
      "cell_type": "code",
      "metadata": {
        "id": "163LQBF7ctFn",
        "colab_type": "code",
        "colab": {}
      },
      "source": [
        "def get_sims_to_axis(axis_vec, test_mas):\n",
        "  sims = []\n",
        "  for i in range(len([x[1] for x in test_mas])): #для каждого глагола в тест-сете\n",
        "    v1 = test_mas[i][1]\n",
        "    sim = cossim(v1,axis_vec) #считаем близость к оси\n",
        "    sims.append(sim)\n",
        "\n",
        "  return sims"
      ],
      "execution_count": 0,
      "outputs": []
    },
    {
      "cell_type": "code",
      "metadata": {
        "id": "VxQ32oEsh45T",
        "colab_type": "code",
        "colab": {}
      },
      "source": [
        "def get_sim_preds(axis, test_data):\n",
        "  sims = get_sims_to_axis(axis, test_data)\n",
        "  threshold = np.std(sims)\n",
        "  mean = np.mean(sims)\n",
        "\n",
        "  sims_preds_15 = diff_params(sims, mean, 1.5*threshold)\n",
        "  sims_preds_12 = diff_params(sims, mean, 1.2*threshold)\n",
        "  sims_preds_th = diff_params(sims, mean, threshold)\n",
        "  sims_preds_08 = diff_params(sims, mean, 0.8*threshold)\n",
        "  sims_preds_02 = diff_params(sims, mean, 0.2*threshold)\n",
        "  sims_preds_00 = diff_params(sims, mean, 0*threshold)\n",
        "   \n",
        "  return [sims_preds_15, sims_preds_12, sims_preds_th, sims_preds_08, sims_preds_02, sims_preds_00]"
      ],
      "execution_count": 0,
      "outputs": []
    },
    {
      "cell_type": "code",
      "metadata": {
        "id": "QFmdy9jHWdIQ",
        "colab_type": "code",
        "colab": {}
      },
      "source": [
        "def diff_params(sims, mean, threshold):\n",
        "  sim_preds = []\n",
        "  for i in range(len(sims)):\n",
        "    if sims[i] >= mean + threshold:\n",
        "      sim_preds.append('pos')\n",
        "    elif sims[i] < mean - threshold:\n",
        "      sim_preds.append('neg')\n",
        "    else:\n",
        "      sim_preds.append('neut')\n",
        "\n",
        "  return sim_preds"
      ],
      "execution_count": 0,
      "outputs": []
    },
    {
      "cell_type": "code",
      "metadata": {
        "id": "EMy1hpRFlcNr",
        "colab_type": "code",
        "colab": {}
      },
      "source": [
        "def get_acc(spreds):\n",
        "  return [accuracy_score(spreds, list(test_verbs.polar)), accuracy_score(spreds, list(test_verbs.pred_1)), accuracy_score(spreds, list(test_verbs.pred_2)), accuracy_score(spreds, list(test_verbs.pred_3))]"
      ],
      "execution_count": 0,
      "outputs": []
    },
    {
      "cell_type": "code",
      "metadata": {
        "id": "K6fJdRMW_fWS",
        "colab_type": "code",
        "colab": {}
      },
      "source": [
        "def preds_by_ax(axis_mas):\n",
        "  simis = []\n",
        "  for i in axis_mas: #для каждой оси считаем предсказания для test_vecs\n",
        "    pred = get_sim_preds(i, test_vecs) #получаем 5 массивов с предсказаниями (разные параметры)\n",
        "    simis.append(pred)\n",
        "  return simis"
      ],
      "execution_count": 0,
      "outputs": []
    },
    {
      "cell_type": "code",
      "metadata": {
        "id": "JODbosX7bJyj",
        "colab_type": "code",
        "colab": {}
      },
      "source": [
        "def mean_accs(preds):\n",
        "  res = [[[],[],[],[]],[[],[],[],[]],[[],[],[],[]],[[],[],[],[]],[[],[],[],[]],[[],[],[],[]]]\n",
        "\n",
        "  seed_acs = []\n",
        "  for i in range(len(preds)): # для каждого сида (5 штук)\n",
        "    acs = []\n",
        "    for j in preds[i]: # для каждого параметра (6 штук)\n",
        "      acs.append(get_acc(j)) #по 4 accuraacy_score\n",
        "    seed_acs.append(acs)\n",
        "  \n",
        "  for i in seed_acs:\n",
        "    for j in range(len(i)): # для параметра в сиде\n",
        "      for q in range(len(i[j])):\n",
        "        res[j][q].append(i[j][q])\n",
        "  #all_res = {}\n",
        "  for i in range(len(res)):\n",
        "    print(f'for param #{i}')\n",
        "    #mean_res = []\n",
        "    for j in res[i]:\n",
        "      mean_res.append(np.mean(j)) #считаем среднее по сидам\n",
        "    #all_res[i] = mean_res\n",
        "    print(mean_res, '\\n')\n",
        "  #return all_res"
      ],
      "execution_count": 0,
      "outputs": []
    },
    {
      "cell_type": "code",
      "metadata": {
        "id": "nTKdiS6W_-NJ",
        "colab_type": "code",
        "colab": {}
      },
      "source": [
        "def show_acc(preds):\n",
        "  for i in range(len(preds)): # для каждого сида\n",
        "    print(f'For seed #{i}')\n",
        "    acs = []\n",
        "    for j in preds[i]:\n",
        "      acs.append(get_acc(j))\n",
        "    for q in acs:\n",
        "      print(q)\n",
        "    print('\\n')\n",
        "    #print(accuracy_score(i, test_verbs.pred_bin)) #для бинарных предсказаний"
      ],
      "execution_count": 0,
      "outputs": []
    },
    {
      "cell_type": "code",
      "metadata": {
        "id": "fBrCXM9nCQOs",
        "colab_type": "code",
        "colab": {}
      },
      "source": [
        "# предсказания для четырех сидовых наборов\n",
        "\n",
        "sims_preds_1 = preds_by_ax(axises_1)\n",
        "sims_preds_2 = preds_by_ax(axises_2)\n",
        "sims_preds_3 = preds_by_ax(axises_3)\n",
        "sims_preds_4 = preds_by_ax(axises_4)"
      ],
      "execution_count": 0,
      "outputs": []
    },
    {
      "cell_type": "markdown",
      "metadata": {
        "colab_type": "text",
        "id": "X45gKmUCkR04"
      },
      "source": [
        "# main mean accuracies with ruscorpora vectors"
      ]
    },
    {
      "cell_type": "code",
      "metadata": {
        "colab_type": "code",
        "outputId": "355b38f7-631b-4d07-e08d-1b4a1b76cb01",
        "id": "Q6wo9tBVkR06",
        "colab": {
          "base_uri": "https://localhost:8080/",
          "height": 323
        }
      },
      "source": [
        "mean_accs(sims_preds_1)"
      ],
      "execution_count": 0,
      "outputs": [
        {
          "output_type": "stream",
          "text": [
            "for param #0\n",
            "[0.12077294685990339, 0.3681159420289855, 0.30241545893719807, 0.2985507246376812] \n",
            "\n",
            "for param #1\n",
            "[0.18840579710144928, 0.38067632850241545, 0.3159420289855073, 0.3120772946859903] \n",
            "\n",
            "for param #2\n",
            "[0.2608695652173913, 0.37487922705314014, 0.3169082125603865, 0.3091787439613526] \n",
            "\n",
            "for param #3\n",
            "[0.3265700483091788, 0.3719806763285024, 0.3159420289855072, 0.30531400966183575] \n",
            "\n",
            "for param #4\n",
            "[0.5526570048309178, 0.33816425120772947, 0.3381642512077295, 0.3265700483091788] \n",
            "\n",
            "for param #5\n",
            "[0.6280193236714975, 0.336231884057971, 0.3429951690821257, 0.33623188405797105] \n",
            "\n"
          ],
          "name": "stdout"
        }
      ]
    },
    {
      "cell_type": "code",
      "metadata": {
        "colab_type": "code",
        "outputId": "b8e6afa6-5afa-46fa-9347-5f3f2177f7d7",
        "id": "v8Q5FRRmkR0_",
        "colab": {
          "base_uri": "https://localhost:8080/",
          "height": 323
        }
      },
      "source": [
        "mean_accs(sims_preds_2)"
      ],
      "execution_count": 0,
      "outputs": [
        {
          "output_type": "stream",
          "text": [
            "for param #0\n",
            "[0.12173913043478261, 0.36328502415458935, 0.2995169082125604, 0.2975845410628019] \n",
            "\n",
            "for param #1\n",
            "[0.221256038647343, 0.3681159420289855, 0.29661835748792276, 0.2917874396135266] \n",
            "\n",
            "for param #2\n",
            "[0.27729468599033813, 0.37681159420289856, 0.30338164251207733, 0.2985507246376812] \n",
            "\n",
            "for param #3\n",
            "[0.36038647342995167, 0.3652173913043478, 0.3159420289855072, 0.31111111111111117] \n",
            "\n",
            "for param #4\n",
            "[0.5922705314009662, 0.36425120772946856, 0.3342995169082126, 0.3246376811594203] \n",
            "\n",
            "for param #5\n",
            "[0.6734299516908213, 0.34492753623188405, 0.3256038647342995, 0.3159420289855072] \n",
            "\n"
          ],
          "name": "stdout"
        }
      ]
    },
    {
      "cell_type": "code",
      "metadata": {
        "colab_type": "code",
        "outputId": "bd65555f-f1d1-4261-fe44-f1d42090c3ee",
        "id": "wUtAqQ8HkR1G",
        "colab": {
          "base_uri": "https://localhost:8080/",
          "height": 323
        }
      },
      "source": [
        "mean_accs(sims_preds_3)"
      ],
      "execution_count": 0,
      "outputs": [
        {
          "output_type": "stream",
          "text": [
            "for param #0\n",
            "[0.1285024154589372, 0.3748792270531401, 0.3130434782608696, 0.3130434782608696] \n",
            "\n",
            "for param #1\n",
            "[0.221256038647343, 0.36521739130434777, 0.30338164251207733, 0.3004830917874396] \n",
            "\n",
            "for param #2\n",
            "[0.3004830917874396, 0.3594202898550725, 0.30241545893719807, 0.2946859903381642] \n",
            "\n",
            "for param #3\n",
            "[0.36231884057971014, 0.370048309178744, 0.3043478260869565, 0.2946859903381642] \n",
            "\n",
            "for param #4\n",
            "[0.5932367149758454, 0.3565217391304348, 0.3227053140096618, 0.3111111111111111] \n",
            "\n",
            "for param #5\n",
            "[0.6618357487922706, 0.3661835748792271, 0.3227053140096618, 0.3072463768115942] \n",
            "\n"
          ],
          "name": "stdout"
        }
      ]
    },
    {
      "cell_type": "code",
      "metadata": {
        "colab_type": "code",
        "outputId": "c3072ec9-87c3-4e05-af28-f1ac27561f12",
        "id": "sw6SScBlkR1K",
        "colab": {
          "base_uri": "https://localhost:8080/",
          "height": 323
        }
      },
      "source": [
        "mean_accs(sims_preds_4)"
      ],
      "execution_count": 0,
      "outputs": [
        {
          "output_type": "stream",
          "text": [
            "for param #0\n",
            "[0.1067632850241546, 0.37101449275362314, 0.3, 0.2975845410628019] \n",
            "\n",
            "for param #1\n",
            "[0.1826086956521739, 0.3657004830917875, 0.30193236714975846, 0.3] \n",
            "\n",
            "for param #2\n",
            "[0.24492753623188407, 0.36038647342995167, 0.30676328502415456, 0.30483091787439615] \n",
            "\n",
            "for param #3\n",
            "[0.3178743961352657, 0.3536231884057971, 0.30531400966183575, 0.3004830917874396] \n",
            "\n",
            "for param #4\n",
            "[0.5608695652173912, 0.35024154589371975, 0.32270531400966185, 0.31835748792270535] \n",
            "\n",
            "for param #5\n",
            "[0.6371980676328504, 0.3391304347826087, 0.3246376811594203, 0.32173913043478264] \n",
            "\n"
          ],
          "name": "stdout"
        }
      ]
    },
    {
      "cell_type": "markdown",
      "metadata": {
        "id": "rnB0oooS4tAo",
        "colab_type": "text"
      },
      "source": [
        "# main mean accuracies with elmo vectors"
      ]
    },
    {
      "cell_type": "code",
      "metadata": {
        "id": "VRxektTkY35l",
        "colab_type": "code",
        "outputId": "73ded5a2-b310-40d2-dfd1-fe7f2957e0d4",
        "colab": {
          "base_uri": "https://localhost:8080/",
          "height": 323
        }
      },
      "source": [
        "mean_accs(sims_preds_1)"
      ],
      "execution_count": 0,
      "outputs": [
        {
          "output_type": "stream",
          "text": [
            "for param #0\n",
            "[0.21148325358851672, 0.35311004784688993, 0.308133971291866, 0.3014354066985646] \n",
            "\n",
            "for param #1\n",
            "[0.07751196172248803, 0.35598086124401906, 0.29186602870813394, 0.2909090909090909] \n",
            "\n",
            "for param #2\n",
            "[0.16076555023923444, 0.3521531100478469, 0.3033492822966507, 0.3004784688995215] \n",
            "\n",
            "for param #3\n",
            "[0.2909090909090909, 0.36172248803827756, 0.31387559808612436, 0.30143540669856456] \n",
            "\n",
            "for param #4\n",
            "[0.5559808612440192, 0.29665071770334933, 0.3167464114832536, 0.30047846889952157] \n",
            "\n",
            "for param #5\n",
            "[0.6267942583732057, 0.29473684210526313, 0.3349282296650718, 0.32344497607655504] \n",
            "\n"
          ],
          "name": "stdout"
        }
      ]
    },
    {
      "cell_type": "code",
      "metadata": {
        "id": "CwcVuU3XfUDR",
        "colab_type": "code",
        "outputId": "b2b2789a-b91c-4928-b4c8-560b5aa44a6f",
        "colab": {
          "base_uri": "https://localhost:8080/",
          "height": 323
        }
      },
      "source": [
        "mean_accs(sims_preds_2)"
      ],
      "execution_count": 0,
      "outputs": [
        {
          "output_type": "stream",
          "text": [
            "for param #0\n",
            "[0.25645933014354066, 0.35119617224880384, 0.3167464114832536, 0.31004784688995213] \n",
            "\n",
            "for param #1\n",
            "[0.11004784688995214, 0.36650717703349284, 0.31100478468899523, 0.30622009569377995] \n",
            "\n",
            "for param #2\n",
            "[0.1875598086124402, 0.36650717703349284, 0.3129186602870814, 0.307177033492823] \n",
            "\n",
            "for param #3\n",
            "[0.3454545454545454, 0.33492822966507174, 0.3129186602870814, 0.30047846889952157] \n",
            "\n",
            "for param #4\n",
            "[0.5990430622009569, 0.2937799043062201, 0.31100478468899523, 0.29569377990430623] \n",
            "\n",
            "for param #5\n",
            "[0.675598086124402, 0.2956937799043062, 0.31674641148325355, 0.30239234449760766] \n",
            "\n"
          ],
          "name": "stdout"
        }
      ]
    },
    {
      "cell_type": "code",
      "metadata": {
        "id": "onLvCYjFfYDr",
        "colab_type": "code",
        "outputId": "0cde47a2-4e62-4c36-86f5-a4449222b85e",
        "colab": {
          "base_uri": "https://localhost:8080/",
          "height": 323
        }
      },
      "source": [
        "mean_accs(sims_preds_3)"
      ],
      "execution_count": 0,
      "outputs": [
        {
          "output_type": "stream",
          "text": [
            "for param #0\n",
            "[0.2449760765550239, 0.36172248803827756, 0.31004784688995213, 0.3033492822966507] \n",
            "\n",
            "for param #1\n",
            "[0.09760765550239234, 0.3770334928229665, 0.30526315789473685, 0.30334928229665076] \n",
            "\n",
            "for param #2\n",
            "[0.1770334928229665, 0.3722488038277512, 0.3052631578947369, 0.3014354066985646] \n",
            "\n",
            "for param #3\n",
            "[0.34449760765550236, 0.3244019138755981, 0.3215311004784689, 0.31100478468899523] \n",
            "\n",
            "for param #4\n",
            "[0.6009569377990431, 0.31770334928229665, 0.3397129186602871, 0.31674641148325355] \n",
            "\n",
            "for param #5\n",
            "[0.6736842105263158, 0.3196172248803828, 0.31961722488038274, 0.2985645933014355] \n",
            "\n"
          ],
          "name": "stdout"
        }
      ]
    },
    {
      "cell_type": "code",
      "metadata": {
        "id": "vEow1JsafaF3",
        "colab_type": "code",
        "outputId": "2b09c13b-ed12-493f-96b4-4e9e0d8daec7",
        "colab": {
          "base_uri": "https://localhost:8080/",
          "height": 323
        }
      },
      "source": [
        "mean_accs(sims_preds_4)"
      ],
      "execution_count": 0,
      "outputs": [
        {
          "output_type": "stream",
          "text": [
            "for param #0\n",
            "[0.21531100478468898, 0.35311004784688993, 0.3062200956937799, 0.3014354066985646] \n",
            "\n",
            "for param #1\n",
            "[0.08851674641148324, 0.3526315789473684, 0.30095693779904303, 0.2985645933014354] \n",
            "\n",
            "for param #2\n",
            "[0.14593301435406697, 0.3564593301435407, 0.3100478468899522, 0.30574162679425837] \n",
            "\n",
            "for param #3\n",
            "[0.27942583732057413, 0.3473684210526316, 0.31004784688995213, 0.3038277511961723] \n",
            "\n",
            "for param #4\n",
            "[0.5392344497607656, 0.32727272727272727, 0.3349282296650718, 0.3277511961722488] \n",
            "\n",
            "for param #5\n",
            "[0.6253588516746411, 0.3095693779904306, 0.337799043062201, 0.3315789473684211] \n",
            "\n"
          ],
          "name": "stdout"
        }
      ]
    },
    {
      "cell_type": "markdown",
      "metadata": {
        "colab_type": "text",
        "id": "Qa80h2ZokUk-"
      },
      "source": [
        "# main mean accuracies with taiga vectors"
      ]
    },
    {
      "cell_type": "code",
      "metadata": {
        "colab_type": "code",
        "outputId": "00784a3c-4fc4-44ad-cabe-02a2f5215641",
        "id": "0cB3Cfn3kUk_",
        "colab": {
          "base_uri": "https://localhost:8080/",
          "height": 323
        }
      },
      "source": [
        "mean_accs(sims_preds_1)"
      ],
      "execution_count": 0,
      "outputs": [
        {
          "output_type": "stream",
          "text": [
            "for param #0\n",
            "[0.12077294685990339, 0.3681159420289855, 0.30241545893719807, 0.2985507246376812] \n",
            "\n",
            "for param #1\n",
            "[0.18840579710144928, 0.38067632850241545, 0.3159420289855073, 0.3120772946859903] \n",
            "\n",
            "for param #2\n",
            "[0.2608695652173913, 0.37487922705314014, 0.3169082125603865, 0.3091787439613526] \n",
            "\n",
            "for param #3\n",
            "[0.3265700483091788, 0.3719806763285024, 0.3159420289855072, 0.30531400966183575] \n",
            "\n",
            "for param #4\n",
            "[0.5526570048309178, 0.33816425120772947, 0.3381642512077295, 0.3265700483091788] \n",
            "\n",
            "for param #5\n",
            "[0.6280193236714975, 0.336231884057971, 0.3429951690821257, 0.33623188405797105] \n",
            "\n"
          ],
          "name": "stdout"
        }
      ]
    },
    {
      "cell_type": "code",
      "metadata": {
        "id": "XhCOqTC8iIMm",
        "colab_type": "code",
        "outputId": "62eab395-4561-4142-b507-713aabf53f17",
        "colab": {
          "base_uri": "https://localhost:8080/",
          "height": 782
        }
      },
      "source": [
        "show_acc(sims_preds_1)"
      ],
      "execution_count": 0,
      "outputs": [
        {
          "output_type": "stream",
          "text": [
            "For seed #0\n",
            "[0.1497584541062802, 0.3526570048309179, 0.2898550724637681, 0.28019323671497587]\n",
            "[0.18357487922705315, 0.37681159420289856, 0.3285024154589372, 0.32367149758454106]\n",
            "[0.21739130434782608, 0.38164251207729466, 0.3285024154589372, 0.3188405797101449]\n",
            "[0.2946859903381642, 0.40096618357487923, 0.34299516908212563, 0.3333333333333333]\n",
            "[0.5314009661835749, 0.36231884057971014, 0.3719806763285024, 0.36231884057971014]\n",
            "[0.6231884057971014, 0.34782608695652173, 0.3719806763285024, 0.36231884057971014]\n",
            "\n",
            "\n",
            "For seed #1\n",
            "[0.13526570048309178, 0.357487922705314, 0.28502415458937197, 0.28019323671497587]\n",
            "[0.19806763285024154, 0.3719806763285024, 0.2898550724637681, 0.28502415458937197]\n",
            "[0.28502415458937197, 0.34299516908212563, 0.28502415458937197, 0.27053140096618356]\n",
            "[0.34299516908212563, 0.3188405797101449, 0.26570048309178745, 0.25120772946859904]\n",
            "[0.5603864734299517, 0.30917874396135264, 0.33816425120772947, 0.34299516908212563]\n",
            "[0.6328502415458938, 0.30434782608695654, 0.33816425120772947, 0.34782608695652173]\n",
            "\n",
            "\n",
            "For seed #2\n",
            "[0.0966183574879227, 0.3864734299516908, 0.30917874396135264, 0.30917874396135264]\n",
            "[0.1642512077294686, 0.391304347826087, 0.32367149758454106, 0.3188405797101449]\n",
            "[0.2608695652173913, 0.41545893719806765, 0.33816425120772947, 0.3333333333333333]\n",
            "[0.3140096618357488, 0.37681159420289856, 0.32367149758454106, 0.3188405797101449]\n",
            "[0.5217391304347826, 0.30917874396135264, 0.3140096618357488, 0.2946859903381642]\n",
            "[0.5893719806763285, 0.33816425120772947, 0.32367149758454106, 0.3140096618357488]\n",
            "\n",
            "\n",
            "For seed #3\n",
            "[0.12560386473429952, 0.37681159420289856, 0.3285024154589372, 0.32367149758454106]\n",
            "[0.1642512077294686, 0.3864734299516908, 0.33816425120772947, 0.3333333333333333]\n",
            "[0.23671497584541062, 0.3671497584541063, 0.33816425120772947, 0.3333333333333333]\n",
            "[0.30917874396135264, 0.38164251207729466, 0.30917874396135264, 0.30434782608695654]\n",
            "[0.5652173913043478, 0.38164251207729466, 0.3285024154589372, 0.30917874396135264]\n",
            "[0.6183574879227053, 0.3526570048309179, 0.3285024154589372, 0.3140096618357488]\n",
            "\n",
            "\n",
            "For seed #4\n",
            "[0.0966183574879227, 0.3671497584541063, 0.2995169082125604, 0.2995169082125604]\n",
            "[0.2318840579710145, 0.37681159420289856, 0.2995169082125604, 0.2995169082125604]\n",
            "[0.30434782608695654, 0.3671497584541063, 0.2946859903381642, 0.2898550724637681]\n",
            "[0.3719806763285024, 0.38164251207729466, 0.33816425120772947, 0.3188405797101449]\n",
            "[0.5845410628019324, 0.3285024154589372, 0.33816425120772947, 0.32367149758454106]\n",
            "[0.6763285024154589, 0.33816425120772947, 0.3526570048309179, 0.34299516908212563]\n",
            "\n",
            "\n"
          ],
          "name": "stdout"
        }
      ]
    },
    {
      "cell_type": "code",
      "metadata": {
        "colab_type": "code",
        "outputId": "76161059-ecc3-445c-ea39-2f78156c45c3",
        "id": "bxF8T1gPkUlE",
        "colab": {
          "base_uri": "https://localhost:8080/",
          "height": 323
        }
      },
      "source": [
        "mean_accs(sims_preds_2)"
      ],
      "execution_count": 0,
      "outputs": [
        {
          "output_type": "stream",
          "text": [
            "for param #0\n",
            "[0.12173913043478261, 0.36328502415458935, 0.2995169082125604, 0.2975845410628019] \n",
            "\n",
            "for param #1\n",
            "[0.221256038647343, 0.3681159420289855, 0.29661835748792276, 0.2917874396135266] \n",
            "\n",
            "for param #2\n",
            "[0.27729468599033813, 0.37681159420289856, 0.30338164251207733, 0.2985507246376812] \n",
            "\n",
            "for param #3\n",
            "[0.36038647342995167, 0.3652173913043478, 0.3159420289855072, 0.31111111111111117] \n",
            "\n",
            "for param #4\n",
            "[0.5922705314009662, 0.36425120772946856, 0.3342995169082126, 0.3246376811594203] \n",
            "\n",
            "for param #5\n",
            "[0.6734299516908213, 0.34492753623188405, 0.3256038647342995, 0.3159420289855072] \n",
            "\n"
          ],
          "name": "stdout"
        }
      ]
    },
    {
      "cell_type": "code",
      "metadata": {
        "colab_type": "code",
        "outputId": "9b8a0911-3827-40b9-9220-517321a51212",
        "id": "fdB6dtbAkUlH",
        "colab": {
          "base_uri": "https://localhost:8080/",
          "height": 323
        }
      },
      "source": [
        "mean_accs(sims_preds_3)"
      ],
      "execution_count": 0,
      "outputs": [
        {
          "output_type": "stream",
          "text": [
            "for param #0\n",
            "[0.1285024154589372, 0.3748792270531401, 0.3130434782608696, 0.3130434782608696] \n",
            "\n",
            "for param #1\n",
            "[0.221256038647343, 0.36521739130434777, 0.30338164251207733, 0.3004830917874396] \n",
            "\n",
            "for param #2\n",
            "[0.3004830917874396, 0.3594202898550725, 0.30241545893719807, 0.2946859903381642] \n",
            "\n",
            "for param #3\n",
            "[0.36231884057971014, 0.370048309178744, 0.3043478260869565, 0.2946859903381642] \n",
            "\n",
            "for param #4\n",
            "[0.5932367149758454, 0.3565217391304348, 0.3227053140096618, 0.3111111111111111] \n",
            "\n",
            "for param #5\n",
            "[0.6618357487922706, 0.3661835748792271, 0.3227053140096618, 0.3072463768115942] \n",
            "\n"
          ],
          "name": "stdout"
        }
      ]
    },
    {
      "cell_type": "code",
      "metadata": {
        "colab_type": "code",
        "outputId": "d096fb03-4dbb-4948-b31f-01068eca37cc",
        "id": "zqta0hAhkUlN",
        "colab": {
          "base_uri": "https://localhost:8080/",
          "height": 323
        }
      },
      "source": [
        "mean_accs(sims_preds_4)"
      ],
      "execution_count": 0,
      "outputs": [
        {
          "output_type": "stream",
          "text": [
            "for param #0\n",
            "[0.1067632850241546, 0.37101449275362314, 0.3, 0.2975845410628019] \n",
            "\n",
            "for param #1\n",
            "[0.1826086956521739, 0.3657004830917875, 0.30193236714975846, 0.3] \n",
            "\n",
            "for param #2\n",
            "[0.24492753623188407, 0.36038647342995167, 0.30676328502415456, 0.30483091787439615] \n",
            "\n",
            "for param #3\n",
            "[0.3178743961352657, 0.3536231884057971, 0.30531400966183575, 0.3004830917874396] \n",
            "\n",
            "for param #4\n",
            "[0.5608695652173912, 0.35024154589371975, 0.32270531400966185, 0.31835748792270535] \n",
            "\n",
            "for param #5\n",
            "[0.6371980676328504, 0.3391304347826087, 0.3246376811594203, 0.32173913043478264] \n",
            "\n"
          ],
          "name": "stdout"
        }
      ]
    },
    {
      "cell_type": "markdown",
      "metadata": {
        "id": "s-9bej1ZY5Lw",
        "colab_type": "text"
      },
      "source": [
        "# первые варианты предсказаний"
      ]
    },
    {
      "cell_type": "code",
      "metadata": {
        "id": "0j9ANzeSCWPW",
        "colab_type": "code",
        "outputId": "4764dd0c-11e9-42ac-c27b-4f874043932b",
        "colab": {
          "base_uri": "https://localhost:8080/",
          "height": 102
        }
      },
      "source": [
        "show_acc(sims_preds_1)"
      ],
      "execution_count": 0,
      "outputs": [
        {
          "output_type": "stream",
          "text": [
            "[0.21739130434782608, 0.38164251207729466, 0.3285024154589372, 0.3188405797101449]\n",
            "[0.28502415458937197, 0.34299516908212563, 0.28502415458937197, 0.27053140096618356]\n",
            "[0.2608695652173913, 0.41545893719806765, 0.33816425120772947, 0.3333333333333333]\n",
            "[0.23671497584541062, 0.3671497584541063, 0.33816425120772947, 0.3333333333333333]\n",
            "[0.30434782608695654, 0.3671497584541063, 0.2946859903381642, 0.2898550724637681]\n"
          ],
          "name": "stdout"
        }
      ]
    },
    {
      "cell_type": "code",
      "metadata": {
        "id": "CeDu-L4TCZT4",
        "colab_type": "code",
        "outputId": "3696e37d-d1b3-4293-81cb-fbe806874fda",
        "colab": {
          "base_uri": "https://localhost:8080/",
          "height": 102
        }
      },
      "source": [
        "show_acc(sims_preds_2)"
      ],
      "execution_count": 0,
      "outputs": [
        {
          "output_type": "stream",
          "text": [
            "[0.2946859903381642, 0.357487922705314, 0.28019323671497587, 0.2753623188405797]\n",
            "[0.2753623188405797, 0.3961352657004831, 0.30434782608695654, 0.2995169082125604]\n",
            "[0.2995169082125604, 0.3719806763285024, 0.30434782608695654, 0.2995169082125604]\n",
            "[0.2463768115942029, 0.3961352657004831, 0.30917874396135264, 0.30434782608695654]\n",
            "[0.27053140096618356, 0.36231884057971014, 0.3188405797101449, 0.3140096618357488]\n"
          ],
          "name": "stdout"
        }
      ]
    },
    {
      "cell_type": "code",
      "metadata": {
        "id": "cxxluIQsAT4B",
        "colab_type": "code",
        "outputId": "53acdd5e-3f97-4db3-9788-5ad862084d17",
        "colab": {
          "base_uri": "https://localhost:8080/",
          "height": 102
        }
      },
      "source": [
        "show_acc(sims_preds_3)"
      ],
      "execution_count": 0,
      "outputs": [
        {
          "output_type": "stream",
          "text": [
            "[0.30434782608695654, 0.3719806763285024, 0.2995169082125604, 0.2946859903381642]\n",
            "[0.3188405797101449, 0.3526570048309179, 0.3188405797101449, 0.30917874396135264]\n",
            "[0.2995169082125604, 0.34299516908212563, 0.28019323671497587, 0.2753623188405797]\n",
            "[0.26570048309178745, 0.3671497584541063, 0.30917874396135264, 0.2946859903381642]\n",
            "[0.3140096618357488, 0.36231884057971014, 0.30434782608695654, 0.2995169082125604]\n"
          ],
          "name": "stdout"
        }
      ]
    },
    {
      "cell_type": "code",
      "metadata": {
        "id": "E9a6Uux7c5To",
        "colab_type": "code",
        "outputId": "b5c46a42-1422-4c55-d63c-96e6af412a69",
        "colab": {
          "base_uri": "https://localhost:8080/",
          "height": 187
        }
      },
      "source": [
        "show_acc(sims_preds_4)"
      ],
      "execution_count": 0,
      "outputs": [
        {
          "output_type": "stream",
          "text": [
            "[0.2560386473429952, 0.3719806763285024, 0.2898550724637681, 0.28502415458937197]\n",
            "[0.2318840579710145, 0.36231884057971014, 0.30917874396135264, 0.2995169082125604]\n",
            "[0.2318840579710145, 0.3719806763285024, 0.3188405797101449, 0.3140096618357488]\n",
            "[0.23671497584541062, 0.33816425120772947, 0.2995169082125604, 0.2995169082125604]\n",
            "[0.22705314009661837, 0.36231884057971014, 0.3285024154589372, 0.3285024154589372]\n",
            "[0.30917874396135264, 0.3671497584541063, 0.357487922705314, 0.34299516908212563]\n",
            "[0.24154589371980675, 0.34299516908212563, 0.30434782608695654, 0.2995169082125604]\n",
            "[0.26570048309178745, 0.3333333333333333, 0.2946859903381642, 0.30434782608695654]\n",
            "[0.2560386473429952, 0.36231884057971014, 0.28502415458937197, 0.2898550724637681]\n",
            "[0.1932367149758454, 0.391304347826087, 0.28019323671497587, 0.28502415458937197]\n"
          ],
          "name": "stdout"
        }
      ]
    },
    {
      "cell_type": "code",
      "metadata": {
        "id": "7MbRa_YAEHIl",
        "colab_type": "code",
        "colab": {}
      },
      "source": [
        ""
      ],
      "execution_count": 0,
      "outputs": []
    },
    {
      "cell_type": "code",
      "metadata": {
        "id": "w4ccOtR0EHTg",
        "colab_type": "code",
        "outputId": "ca4b364b-1334-48e1-cb11-dbabbb6235ee",
        "colab": {
          "base_uri": "https://localhost:8080/",
          "height": 102
        }
      },
      "source": [
        "show_acc(sims_preds_1)"
      ],
      "execution_count": 0,
      "outputs": [
        {
          "output_type": "stream",
          "text": [
            "[0.2679425837320574, 0.3827751196172249, 0.3014354066985646, 0.2822966507177033]\n",
            "[0.3349282296650718, 0.3492822966507177, 0.3014354066985646, 0.28708133971291866]\n",
            "[0.2583732057416268, 0.37799043062200954, 0.3253588516746411, 0.31100478468899523]\n",
            "[0.2535885167464115, 0.35406698564593303, 0.3157894736842105, 0.31100478468899523]\n",
            "[0.3397129186602871, 0.3444976076555024, 0.3253588516746411, 0.3157894736842105]\n"
          ],
          "name": "stdout"
        }
      ]
    },
    {
      "cell_type": "code",
      "metadata": {
        "id": "mMn4OSaJLzZ9",
        "colab_type": "code",
        "outputId": "43abd5ae-0244-46a9-ac4f-6bf4dc536ded",
        "colab": {
          "base_uri": "https://localhost:8080/",
          "height": 102
        }
      },
      "source": [
        "show_acc(sims_preds_1)"
      ],
      "execution_count": 0,
      "outputs": [
        {
          "output_type": "stream",
          "text": [
            "[0.19617224880382775, 0.3492822966507177, 0.2966507177033493, 0.291866028708134]\n",
            "[0.2822966507177033, 0.3492822966507177, 0.31100478468899523, 0.2966507177033493]\n",
            "[0.18660287081339713, 0.35406698564593303, 0.3253588516746411, 0.32057416267942584]\n",
            "[0.15789473684210525, 0.3588516746411483, 0.3062200956937799, 0.3062200956937799]\n",
            "[0.23444976076555024, 0.35406698564593303, 0.3014354066985646, 0.291866028708134]\n"
          ],
          "name": "stdout"
        }
      ]
    },
    {
      "cell_type": "code",
      "metadata": {
        "id": "AWDusqLmEKCv",
        "colab_type": "code",
        "outputId": "2b712f32-aa80-480f-bc38-9c6dec8eca10",
        "colab": {
          "base_uri": "https://localhost:8080/",
          "height": 102
        }
      },
      "source": [
        "show_acc(sims_preds_2) #высокое согласие со словарем"
      ],
      "execution_count": 0,
      "outputs": [
        {
          "output_type": "stream",
          "text": [
            "[0.6363636363636364, 0.2822966507177033, 0.32057416267942584, 0.3157894736842105]\n",
            "[0.5502392344497608, 0.3014354066985646, 0.3444976076555024, 0.32057416267942584]\n",
            "[0.5980861244019139, 0.291866028708134, 0.3253588516746411, 0.3014354066985646]\n",
            "[0.5789473684210527, 0.2966507177033493, 0.2966507177033493, 0.2822966507177033]\n",
            "[0.631578947368421, 0.2966507177033493, 0.2679425837320574, 0.2583732057416268]\n"
          ],
          "name": "stdout"
        }
      ]
    },
    {
      "cell_type": "code",
      "metadata": {
        "id": "fU9ZJDTCELNx",
        "colab_type": "code",
        "outputId": "4a3262ea-d8e6-4abe-d1a2-f2453ac573df",
        "colab": {
          "base_uri": "https://localhost:8080/",
          "height": 102
        }
      },
      "source": [
        "show_acc(sims_preds_3)"
      ],
      "execution_count": 0,
      "outputs": [
        {
          "output_type": "stream",
          "text": [
            "[0.2679425837320574, 0.3492822966507177, 0.3014354066985646, 0.291866028708134]\n",
            "[0.22009569377990432, 0.35406698564593303, 0.3014354066985646, 0.2966507177033493]\n",
            "[0.24880382775119617, 0.3492822966507177, 0.28708133971291866, 0.2822966507177033]\n",
            "[0.2535885167464115, 0.3875598086124402, 0.3397129186602871, 0.33014354066985646]\n",
            "[0.23444976076555024, 0.3684210526315789, 0.32057416267942584, 0.3157894736842105]\n"
          ],
          "name": "stdout"
        }
      ]
    },
    {
      "cell_type": "code",
      "metadata": {
        "id": "jJ5aGuMzEMP9",
        "colab_type": "code",
        "outputId": "5c7d4f71-312d-49b1-d537-3e8ee7e296ef",
        "colab": {
          "base_uri": "https://localhost:8080/",
          "height": 187
        }
      },
      "source": [
        "show_acc(sims_preds_4)"
      ],
      "execution_count": 0,
      "outputs": [
        {
          "output_type": "stream",
          "text": [
            "[0.27751196172248804, 0.39712918660287083, 0.3397129186602871, 0.32057416267942584]\n",
            "[0.19617224880382775, 0.3349282296650718, 0.31100478468899523, 0.3062200956937799]\n",
            "[0.14832535885167464, 0.35406698564593303, 0.3062200956937799, 0.3062200956937799]\n",
            "[0.24401913875598086, 0.37799043062200954, 0.3062200956937799, 0.3062200956937799]\n",
            "[0.23444976076555024, 0.35406698564593303, 0.3014354066985646, 0.2966507177033493]\n",
            "[0.2535885167464115, 0.32057416267942584, 0.3492822966507177, 0.3444976076555024]\n",
            "[0.22488038277511962, 0.31100478468899523, 0.2679425837320574, 0.2631578947368421]\n",
            "[0.2583732057416268, 0.3923444976076555, 0.2966507177033493, 0.3014354066985646]\n",
            "[0.16267942583732056, 0.35406698564593303, 0.291866028708134, 0.27751196172248804]\n",
            "[0.15311004784688995, 0.3349282296650718, 0.291866028708134, 0.291866028708134]\n"
          ],
          "name": "stdout"
        }
      ]
    },
    {
      "cell_type": "code",
      "metadata": {
        "id": "2GnQnHXP5AWG",
        "colab_type": "code",
        "colab": {}
      },
      "source": [
        ""
      ],
      "execution_count": 0,
      "outputs": []
    },
    {
      "cell_type": "markdown",
      "metadata": {
        "id": "b7z3ShHD4i3o",
        "colab_type": "text"
      },
      "source": [
        "# accuracies of bin preds for good seeds"
      ]
    },
    {
      "cell_type": "code",
      "metadata": {
        "id": "o0NeBS7CYs55",
        "colab_type": "code",
        "outputId": "b8441d7a-ed5a-45ae-e917-46ad4aad1f57",
        "colab": {
          "base_uri": "https://localhost:8080/",
          "height": 102
        }
      },
      "source": [
        "show_acc(sims_preds_1)"
      ],
      "execution_count": 0,
      "outputs": [
        {
          "output_type": "stream",
          "text": [
            "0.5215311004784688\n",
            "0.45933014354066987\n",
            "0.5023923444976076\n",
            "0.5167464114832536\n",
            "0.47368421052631576\n"
          ],
          "name": "stdout"
        }
      ]
    },
    {
      "cell_type": "code",
      "metadata": {
        "id": "5b511v80XcAr",
        "colab_type": "code",
        "outputId": "7aa31efc-21be-41f7-dcdf-f7df0cd684e1",
        "colab": {
          "base_uri": "https://localhost:8080/",
          "height": 102
        }
      },
      "source": [
        "show_acc(sims_preds_2)"
      ],
      "execution_count": 0,
      "outputs": [
        {
          "output_type": "stream",
          "text": [
            "0.46411483253588515\n",
            "0.49760765550239233\n",
            "0.47368421052631576\n",
            "0.507177033492823\n",
            "0.507177033492823\n"
          ],
          "name": "stdout"
        }
      ]
    },
    {
      "cell_type": "code",
      "metadata": {
        "id": "iTHjhE-jXdCY",
        "colab_type": "code",
        "outputId": "40e1c831-c7a3-4495-d0d6-3bc5628f62ec",
        "colab": {
          "base_uri": "https://localhost:8080/",
          "height": 102
        }
      },
      "source": [
        "show_acc(sims_preds_3)"
      ],
      "execution_count": 0,
      "outputs": [
        {
          "output_type": "stream",
          "text": [
            "0.5358851674641149\n",
            "0.5311004784688995\n",
            "0.5215311004784688\n",
            "0.5263157894736842\n",
            "0.507177033492823\n"
          ],
          "name": "stdout"
        }
      ]
    },
    {
      "cell_type": "code",
      "metadata": {
        "id": "J_TN7jAdXd1K",
        "colab_type": "code",
        "outputId": "d5bfbbc3-cd77-4b3a-aa80-11019d44787e",
        "colab": {
          "base_uri": "https://localhost:8080/",
          "height": 187
        }
      },
      "source": [
        "show_acc(sims_preds_4)"
      ],
      "execution_count": 0,
      "outputs": [
        {
          "output_type": "stream",
          "text": [
            "0.4688995215311005\n",
            "0.5598086124401914\n",
            "0.5358851674641149\n",
            "0.47368421052631576\n",
            "0.5119617224880383\n",
            "0.41626794258373206\n",
            "0.5119617224880383\n",
            "0.4449760765550239\n",
            "0.48325358851674644\n",
            "0.5502392344497608\n"
          ],
          "name": "stdout"
        }
      ]
    },
    {
      "cell_type": "code",
      "metadata": {
        "id": "4Kv6_X-RcxGK",
        "colab_type": "code",
        "colab": {}
      },
      "source": [
        ""
      ],
      "execution_count": 0,
      "outputs": []
    },
    {
      "cell_type": "markdown",
      "metadata": {
        "id": "Lvghy-UJ5BY_",
        "colab_type": "text"
      },
      "source": [
        "# accuracies of bin preds for bad seeds"
      ]
    },
    {
      "cell_type": "code",
      "metadata": {
        "id": "nfxt2_Wt-WgQ",
        "colab_type": "code",
        "colab": {}
      },
      "source": [
        "pos_seed_2 = []\n",
        "neg_seed_2 = []\n",
        "for i in range(len(test_verbs.verbs[:100])):\n",
        "  if test_verbs.polar[i] == 'pos':\n",
        "    pos_seed_2.append(test_verbs.verbs[i])\n",
        "  else:\n",
        "    neg_seed_2.append(test_verbs.verbs[i])"
      ],
      "execution_count": 0,
      "outputs": []
    },
    {
      "cell_type": "code",
      "metadata": {
        "id": "hL7Fo0qY-95R",
        "colab_type": "code",
        "colab": {}
      },
      "source": [
        "def seed_set_2(q, n):\n",
        "  ss = []\n",
        "  for i in range(q):\n",
        "    sp, sn = get_seed_sample(pos_seed_2, neg_seed_2, n)\n",
        "    ss.append([sp,sn])\n",
        "  return ss\n",
        "\n",
        "seed_mas_5 = seed_set_2(5, 20)\n",
        "\n",
        "seed_dict_50 = {}\n",
        "for i in range(len(seed_mas_5)):\n",
        "  pos_key = f'pos_5{i}'\n",
        "  seed_dict_50[pos_key] = seed_mas_5[i][0]\n",
        "\n",
        "  neg_key = f'neg_5{i}'\n",
        "  seed_dict_50[neg_key] = seed_mas_5[i][1]"
      ],
      "execution_count": 0,
      "outputs": []
    },
    {
      "cell_type": "code",
      "metadata": {
        "id": "QUlNH3PIBmXK",
        "colab_type": "code",
        "colab": {}
      },
      "source": [
        "import json\n",
        "\n",
        "with open('seed_dict_50.json', 'w') as f:\n",
        "    json.dump(seed_dict_50, f)"
      ],
      "execution_count": 0,
      "outputs": []
    },
    {
      "cell_type": "code",
      "metadata": {
        "id": "9WmmeHZvB2ZZ",
        "colab_type": "code",
        "colab": {}
      },
      "source": [
        "import json\n",
        "\n",
        "with open('seed_dict_50.json') as f:\n",
        "    seed_dict_50 = json.load(f)"
      ],
      "execution_count": 0,
      "outputs": []
    },
    {
      "cell_type": "code",
      "metadata": {
        "id": "Fzjeq_m5B7HR",
        "colab_type": "code",
        "colab": {}
      },
      "source": [
        "def get_all_vecs(seed_dict):\n",
        "  vecs = []\n",
        "  for i in range(int(len(seed_dict.keys())/2)):\n",
        "    pkey = f'pos_5{i}'\n",
        "    pvec = get_vec(seed_dict[pkey], el='go')\n",
        "    nkey = f'neg_5{i}'\n",
        "    nvec = get_vec(seed_dict[nkey], el='go')\n",
        "    vecs.append([pvec, nvec])\n",
        "  return vecs\n",
        "\n",
        "seed_vecs_5 = get_all_vecs(seed_dict_50)\n",
        "axises_5 = get_axis_mas(seed_vecs_5)"
      ],
      "execution_count": 0,
      "outputs": []
    },
    {
      "cell_type": "code",
      "metadata": {
        "id": "18dJ9vheDLci",
        "colab_type": "code",
        "colab": {}
      },
      "source": [
        "test_vecs_2 = []\n",
        "for i in test_vecs:\n",
        "  tnum = 0\n",
        "  for key in seed_dict_50.keys():\n",
        "    if i[0] in seed_dict_50[key]:\n",
        "      tnum+=1\n",
        "  if tnum == 0:\n",
        "    test_vecs_2.append(i)"
      ],
      "execution_count": 0,
      "outputs": []
    },
    {
      "cell_type": "code",
      "metadata": {
        "id": "sFy1wxb9GFs1",
        "colab_type": "code",
        "colab": {}
      },
      "source": [
        "test_bin_preds = []\n",
        "for i in range(len(test_verbs.verbs)):\n",
        "  if test_verbs.verbs[i] in [x[0] for x in test_vecs_2]:\n",
        "    test_bin_preds.append(test_verbs.pred_bin[i])"
      ],
      "execution_count": 0,
      "outputs": []
    },
    {
      "cell_type": "code",
      "metadata": {
        "id": "mv5xxoesDA5y",
        "colab_type": "code",
        "colab": {}
      },
      "source": [
        "def preds_by_ax_2(axis_mas):\n",
        "  simis = []\n",
        "  for i in axis_mas:\n",
        "    pred = get_sim_preds(i, test_vecs_2)\n",
        "    simis.append(pred)\n",
        "  return simis"
      ],
      "execution_count": 0,
      "outputs": []
    },
    {
      "cell_type": "code",
      "metadata": {
        "id": "nKJmWlTtCW4a",
        "colab_type": "code",
        "colab": {}
      },
      "source": [
        "sims_preds_5 = preds_by_ax_2(axises_5)"
      ],
      "execution_count": 0,
      "outputs": []
    },
    {
      "cell_type": "code",
      "metadata": {
        "id": "vm1cTcTHC0Z1",
        "colab_type": "code",
        "colab": {}
      },
      "source": [
        "def show_acc_2(preds):\n",
        "  for i in preds:\n",
        "    #ac = get_acc(i)\n",
        "    #print(ac)\n",
        "    print(accuracy_score(i, test_bin_preds))"
      ],
      "execution_count": 0,
      "outputs": []
    },
    {
      "cell_type": "code",
      "metadata": {
        "id": "RjEl_nrVCmAK",
        "colab_type": "code",
        "outputId": "a068ff4a-b02c-4f5a-df8f-cac00a074822",
        "colab": {
          "base_uri": "https://localhost:8080/",
          "height": 102
        }
      },
      "source": [
        "show_acc_2(sims_preds_5)"
      ],
      "execution_count": 0,
      "outputs": [
        {
          "output_type": "stream",
          "text": [
            "0.4094488188976378\n",
            "0.44881889763779526\n",
            "0.4409448818897638\n",
            "0.44881889763779526\n",
            "0.3779527559055118\n"
          ],
          "name": "stdout"
        }
      ]
    },
    {
      "cell_type": "markdown",
      "metadata": {
        "id": "ruPFwWHaH6yp",
        "colab_type": "text"
      },
      "source": [
        "# тестирование с разметкой"
      ]
    },
    {
      "cell_type": "code",
      "metadata": {
        "id": "-7EBMTN-H6Am",
        "colab_type": "code",
        "colab": {}
      },
      "source": [
        "import csv\n",
        "\n",
        "ann_verbs = []\n",
        "ann_polars = []\n",
        "\n",
        "with open('test_verbs_ann.csv', encoding='utf-8') as f:\n",
        "    reader = csv.reader(f)\n",
        "    for row in reader:\n",
        "      ann_verbs.append(row[0].split(';')[0])\n",
        "      ann_polars.append(row[0].split(';')[9])"
      ],
      "execution_count": 0,
      "outputs": []
    },
    {
      "cell_type": "code",
      "metadata": {
        "id": "16lkb5dkNZ91",
        "colab_type": "code",
        "colab": {}
      },
      "source": [
        "ann_verbs = ann_verbs[1:]\n",
        "ann_polars = ann_polars[1:]"
      ],
      "execution_count": 0,
      "outputs": []
    },
    {
      "cell_type": "code",
      "metadata": {
        "id": "4WU3UvipM8Vv",
        "colab_type": "code",
        "colab": {}
      },
      "source": [
        "ann_sents = []\n",
        "for i in ann_polars:\n",
        "  if i == '1':\n",
        "    ann_sents.append('pos')\n",
        "  if i == '0':\n",
        "    ann_sents.append('neut')\n",
        "  if i == '-1':\n",
        "    ann_sents.append('neg')"
      ],
      "execution_count": 0,
      "outputs": []
    },
    {
      "cell_type": "code",
      "metadata": {
        "id": "564e7UHDKosb",
        "colab_type": "code",
        "colab": {}
      },
      "source": [
        "ann_vecs = get_vec(ann_verbs, el='go')"
      ],
      "execution_count": 0,
      "outputs": []
    },
    {
      "cell_type": "code",
      "metadata": {
        "id": "N8HmZ7psK414",
        "colab_type": "code",
        "outputId": "996b9b03-6fda-4c62-e342-7d4dc7482423",
        "colab": {
          "base_uri": "https://localhost:8080/",
          "height": 34
        }
      },
      "source": [
        "len(ann_verbs), len(ann_vecs), len(ann_polars), len(ann_sents)"
      ],
      "execution_count": 0,
      "outputs": [
        {
          "output_type": "execute_result",
          "data": {
            "text/plain": [
              "(250, 250, 250, 250)"
            ]
          },
          "metadata": {
            "tags": []
          },
          "execution_count": 574
        }
      ]
    },
    {
      "cell_type": "code",
      "metadata": {
        "id": "6ZGhCEuIK5E7",
        "colab_type": "code",
        "colab": {}
      },
      "source": [
        "def preds_by_ax_ann(axis_mas):\n",
        "  simis = []\n",
        "  for i in axis_mas:\n",
        "    pred = get_sim_preds(i, ann_vecs)\n",
        "    simis.append(pred)\n",
        "  return simis"
      ],
      "execution_count": 0,
      "outputs": []
    },
    {
      "cell_type": "code",
      "metadata": {
        "id": "F5YXf4M4L9GO",
        "colab_type": "code",
        "colab": {}
      },
      "source": [
        "def show_acc_ann(preds):\n",
        "  for i in preds:\n",
        "    #ac = get_acc(i)\n",
        "    #print(ac)\n",
        "    print(accuracy_score(i, ann_sents))"
      ],
      "execution_count": 0,
      "outputs": []
    },
    {
      "cell_type": "code",
      "metadata": {
        "id": "LrqP8CAAK4vV",
        "colab_type": "code",
        "colab": {}
      },
      "source": [
        "sims_preds_ann1 = preds_by_ax_ann(axises_1)\n",
        "sims_preds_ann2 = preds_by_ax_ann(axises_2)\n",
        "sims_preds_ann3 = preds_by_ax_ann(axises_3)\n",
        "sims_preds_ann4 = preds_by_ax_ann(axises_4)"
      ],
      "execution_count": 0,
      "outputs": []
    },
    {
      "cell_type": "markdown",
      "metadata": {
        "id": "M3ahCgwiOJiR",
        "colab_type": "text"
      },
      "source": [
        "# accuracies on ann data (threshold)"
      ]
    },
    {
      "cell_type": "code",
      "metadata": {
        "id": "CvZZxhmhMhYM",
        "colab_type": "code",
        "outputId": "354b361a-3461-4011-9708-cedd01638219",
        "colab": {
          "base_uri": "https://localhost:8080/",
          "height": 102
        }
      },
      "source": [
        "show_acc_ann(sims_preds_ann1)"
      ],
      "execution_count": 0,
      "outputs": [
        {
          "output_type": "stream",
          "text": [
            "0.416\n",
            "0.44\n",
            "0.416\n",
            "0.46\n",
            "0.468\n"
          ],
          "name": "stdout"
        }
      ]
    },
    {
      "cell_type": "code",
      "metadata": {
        "id": "jIb9ihxDMrWm",
        "colab_type": "code",
        "outputId": "9d9780b1-d81c-4874-ea5d-bd741436d599",
        "colab": {
          "base_uri": "https://localhost:8080/",
          "height": 102
        }
      },
      "source": [
        "show_acc_ann(sims_preds_ann2)"
      ],
      "execution_count": 0,
      "outputs": [
        {
          "output_type": "stream",
          "text": [
            "0.468\n",
            "0.448\n",
            "0.44\n",
            "0.492\n",
            "0.464\n"
          ],
          "name": "stdout"
        }
      ]
    },
    {
      "cell_type": "code",
      "metadata": {
        "id": "ucUQ2xwGMrOL",
        "colab_type": "code",
        "outputId": "591d7a26-80c9-4c59-a448-1b5c2dfe549f",
        "colab": {
          "base_uri": "https://localhost:8080/",
          "height": 102
        }
      },
      "source": [
        "show_acc_ann(sims_preds_ann3)"
      ],
      "execution_count": 0,
      "outputs": [
        {
          "output_type": "stream",
          "text": [
            "0.472\n",
            "0.468\n",
            "0.464\n",
            "0.456\n",
            "0.48\n"
          ],
          "name": "stdout"
        }
      ]
    },
    {
      "cell_type": "code",
      "metadata": {
        "id": "7ObQwcKqMrF8",
        "colab_type": "code",
        "outputId": "53d30ccd-fd89-40b1-e5b4-9f94d254507a",
        "colab": {
          "base_uri": "https://localhost:8080/",
          "height": 187
        }
      },
      "source": [
        "show_acc_ann(sims_preds_ann4)"
      ],
      "execution_count": 0,
      "outputs": [
        {
          "output_type": "stream",
          "text": [
            "0.42\n",
            "0.436\n",
            "0.48\n",
            "0.424\n",
            "0.452\n",
            "0.456\n",
            "0.44\n",
            "0.44\n",
            "0.456\n",
            "0.444\n"
          ],
          "name": "stdout"
        }
      ]
    },
    {
      "cell_type": "markdown",
      "metadata": {
        "colab_type": "text",
        "id": "Iz5MYJF0Py-o"
      },
      "source": [
        "# accuracies on ann data (1.2*threshold)"
      ]
    },
    {
      "cell_type": "code",
      "metadata": {
        "colab_type": "code",
        "outputId": "646f7bb1-afb2-4748-bfd5-215faa0795c4",
        "id": "UYiB6juBPy-q",
        "colab": {
          "base_uri": "https://localhost:8080/",
          "height": 102
        }
      },
      "source": [
        "show_acc_ann(sims_preds_ann1)"
      ],
      "execution_count": 0,
      "outputs": [
        {
          "output_type": "stream",
          "text": [
            "0.452\n",
            "0.452\n",
            "0.408\n",
            "0.464\n",
            "0.456\n"
          ],
          "name": "stdout"
        }
      ]
    },
    {
      "cell_type": "code",
      "metadata": {
        "colab_type": "code",
        "outputId": "7fe4534b-fb91-4487-c059-5122b75ffbf4",
        "id": "G2dZUrmdPy_F",
        "colab": {
          "base_uri": "https://localhost:8080/",
          "height": 102
        }
      },
      "source": [
        "show_acc_ann(sims_preds_ann2)"
      ],
      "execution_count": 0,
      "outputs": [
        {
          "output_type": "stream",
          "text": [
            "0.464\n",
            "0.452\n",
            "0.46\n",
            "0.484\n",
            "0.508\n"
          ],
          "name": "stdout"
        }
      ]
    },
    {
      "cell_type": "code",
      "metadata": {
        "colab_type": "code",
        "outputId": "4567a5d7-ea69-4343-8497-c9fbea4ea917",
        "id": "BjjVCTvYPy_J",
        "colab": {
          "base_uri": "https://localhost:8080/",
          "height": 102
        }
      },
      "source": [
        "show_acc_ann(sims_preds_ann3) #тут стало чуть лучше"
      ],
      "execution_count": 0,
      "outputs": [
        {
          "output_type": "stream",
          "text": [
            "0.488\n",
            "0.468\n",
            "0.456\n",
            "0.472\n",
            "0.484\n"
          ],
          "name": "stdout"
        }
      ]
    },
    {
      "cell_type": "code",
      "metadata": {
        "colab_type": "code",
        "outputId": "e73b62cd-bfb1-4273-9b27-0ef5ce4e8a6f",
        "id": "YESy2uUFPy_N",
        "colab": {
          "base_uri": "https://localhost:8080/",
          "height": 187
        }
      },
      "source": [
        "show_acc_ann(sims_preds_ann4)"
      ],
      "execution_count": 0,
      "outputs": [
        {
          "output_type": "stream",
          "text": [
            "0.424\n",
            "0.444\n",
            "0.46\n",
            "0.448\n",
            "0.448\n",
            "0.46\n",
            "0.44\n",
            "0.428\n",
            "0.456\n",
            "0.468\n"
          ],
          "name": "stdout"
        }
      ]
    },
    {
      "cell_type": "markdown",
      "metadata": {
        "colab_type": "text",
        "id": "AFgfFM9SUlv1"
      },
      "source": [
        "# accuracies on ann data (1.5*threshold)"
      ]
    },
    {
      "cell_type": "code",
      "metadata": {
        "colab_type": "code",
        "outputId": "c05535ce-79bd-42d0-de60-269a480e318b",
        "id": "kcTwgTvQUlzd",
        "colab": {
          "base_uri": "https://localhost:8080/",
          "height": 102
        }
      },
      "source": [
        "show_acc_ann(sims_preds_ann1)"
      ],
      "execution_count": 0,
      "outputs": [
        {
          "output_type": "stream",
          "text": [
            "0.46\n",
            "0.46\n",
            "0.456\n",
            "0.464\n",
            "0.472\n"
          ],
          "name": "stdout"
        }
      ]
    },
    {
      "cell_type": "code",
      "metadata": {
        "colab_type": "code",
        "outputId": "75bd349f-3bc9-49cb-94a0-02d8178247f8",
        "id": "EvphJAxqUl18",
        "colab": {
          "base_uri": "https://localhost:8080/",
          "height": 102
        }
      },
      "source": [
        "show_acc_ann(sims_preds_ann2)"
      ],
      "execution_count": 0,
      "outputs": [
        {
          "output_type": "stream",
          "text": [
            "0.452\n",
            "0.46\n",
            "0.452\n",
            "0.468\n",
            "0.504\n"
          ],
          "name": "stdout"
        }
      ]
    },
    {
      "cell_type": "code",
      "metadata": {
        "colab_type": "code",
        "outputId": "4af36543-5a61-45c0-f3e8-0d5d9dada523",
        "id": "sjDT8QqvUl3U",
        "colab": {
          "base_uri": "https://localhost:8080/",
          "height": 102
        }
      },
      "source": [
        "show_acc_ann(sims_preds_ann3)"
      ],
      "execution_count": 0,
      "outputs": [
        {
          "output_type": "stream",
          "text": [
            "0.488\n",
            "0.476\n",
            "0.472\n",
            "0.464\n",
            "0.488\n"
          ],
          "name": "stdout"
        }
      ]
    },
    {
      "cell_type": "code",
      "metadata": {
        "colab_type": "code",
        "outputId": "1c7ecad2-095c-435f-a1cb-1b6f15039863",
        "id": "g-34lXqdUl-R",
        "colab": {
          "base_uri": "https://localhost:8080/",
          "height": 187
        }
      },
      "source": [
        "show_acc_ann(sims_preds_ann4)"
      ],
      "execution_count": 0,
      "outputs": [
        {
          "output_type": "stream",
          "text": [
            "0.42\n",
            "0.432\n",
            "0.448\n",
            "0.428\n",
            "0.448\n",
            "0.464\n",
            "0.456\n",
            "0.468\n",
            "0.464\n",
            "0.464\n"
          ],
          "name": "stdout"
        }
      ]
    },
    {
      "cell_type": "markdown",
      "metadata": {
        "colab_type": "text",
        "id": "-TOboXFQOh8x"
      },
      "source": [
        "# accuracies on ann data (0.8*threshold)"
      ]
    },
    {
      "cell_type": "code",
      "metadata": {
        "colab_type": "code",
        "outputId": "acc9a1c5-f4e9-4836-ae34-b3f38baa9df7",
        "id": "C4s7IVOLOh8z",
        "colab": {
          "base_uri": "https://localhost:8080/",
          "height": 102
        }
      },
      "source": [
        "show_acc_ann(sims_preds_ann1)"
      ],
      "execution_count": 0,
      "outputs": [
        {
          "output_type": "stream",
          "text": [
            "0.424\n",
            "0.468\n",
            "0.444\n",
            "0.432\n",
            "0.444\n"
          ],
          "name": "stdout"
        }
      ]
    },
    {
      "cell_type": "code",
      "metadata": {
        "colab_type": "code",
        "outputId": "9d475b70-652a-41df-e2de-3bbc2b63ff1d",
        "id": "1LeXDNp5Oh87",
        "colab": {
          "base_uri": "https://localhost:8080/",
          "height": 102
        }
      },
      "source": [
        "show_acc_ann(sims_preds_ann2)"
      ],
      "execution_count": 0,
      "outputs": [
        {
          "output_type": "stream",
          "text": [
            "0.48\n",
            "0.432\n",
            "0.436\n",
            "0.476\n",
            "0.476\n"
          ],
          "name": "stdout"
        }
      ]
    },
    {
      "cell_type": "code",
      "metadata": {
        "colab_type": "code",
        "outputId": "502f0444-7fd4-48d6-e0f2-3927282e175d",
        "id": "yPzsitv7Oh9A",
        "colab": {
          "base_uri": "https://localhost:8080/",
          "height": 102
        }
      },
      "source": [
        "show_acc_ann(sims_preds_ann3)"
      ],
      "execution_count": 0,
      "outputs": [
        {
          "output_type": "stream",
          "text": [
            "0.452\n",
            "0.432\n",
            "0.456\n",
            "0.44\n",
            "0.456\n"
          ],
          "name": "stdout"
        }
      ]
    },
    {
      "cell_type": "code",
      "metadata": {
        "colab_type": "code",
        "outputId": "4d316ca1-709d-45a0-a76c-f671b7fccf47",
        "id": "rfE5GNYaOh9E",
        "colab": {
          "base_uri": "https://localhost:8080/",
          "height": 187
        }
      },
      "source": [
        "show_acc_ann(sims_preds_ann4)"
      ],
      "execution_count": 0,
      "outputs": [
        {
          "output_type": "stream",
          "text": [
            "0.404\n",
            "0.42\n",
            "0.472\n",
            "0.416\n",
            "0.428\n",
            "0.46\n",
            "0.436\n",
            "0.424\n",
            "0.448\n",
            "0.432\n"
          ],
          "name": "stdout"
        }
      ]
    },
    {
      "cell_type": "markdown",
      "metadata": {
        "colab_type": "text",
        "id": "GfIcBCDKPcIC"
      },
      "source": [
        "# accuracies on ann data (0.2*threshold)"
      ]
    },
    {
      "cell_type": "code",
      "metadata": {
        "colab_type": "code",
        "outputId": "f9bd92e2-844d-47f0-9624-1888669f17b0",
        "id": "uZWGAz5KPcID",
        "colab": {
          "base_uri": "https://localhost:8080/",
          "height": 102
        }
      },
      "source": [
        "show_acc_ann(sims_preds_ann1)"
      ],
      "execution_count": 0,
      "outputs": [
        {
          "output_type": "stream",
          "text": [
            "0.336\n",
            "0.416\n",
            "0.38\n",
            "0.364\n",
            "0.408\n"
          ],
          "name": "stdout"
        }
      ]
    },
    {
      "cell_type": "code",
      "metadata": {
        "colab_type": "code",
        "outputId": "7e2ce212-5300-4cdc-b333-355de32bbc55",
        "id": "asFiKvMyPcIH",
        "colab": {
          "base_uri": "https://localhost:8080/",
          "height": 102
        }
      },
      "source": [
        "show_acc_ann(sims_preds_ann2)"
      ],
      "execution_count": 0,
      "outputs": [
        {
          "output_type": "stream",
          "text": [
            "0.444\n",
            "0.38\n",
            "0.372\n",
            "0.388\n",
            "0.428\n"
          ],
          "name": "stdout"
        }
      ]
    },
    {
      "cell_type": "code",
      "metadata": {
        "colab_type": "code",
        "outputId": "c2be7bde-4d73-4870-a0de-1bfb2764b0e4",
        "id": "Q0sp9QMCPcIL",
        "colab": {
          "base_uri": "https://localhost:8080/",
          "height": 102
        }
      },
      "source": [
        "show_acc_ann(sims_preds_ann3)"
      ],
      "execution_count": 0,
      "outputs": [
        {
          "output_type": "stream",
          "text": [
            "0.38\n",
            "0.36\n",
            "0.404\n",
            "0.408\n",
            "0.4\n"
          ],
          "name": "stdout"
        }
      ]
    },
    {
      "cell_type": "code",
      "metadata": {
        "colab_type": "code",
        "outputId": "9239a09f-9a22-40a7-d922-456d7b5fd9d3",
        "id": "RPoplAxCPcIO",
        "colab": {
          "base_uri": "https://localhost:8080/",
          "height": 187
        }
      },
      "source": [
        "show_acc_ann(sims_preds_ann4)"
      ],
      "execution_count": 0,
      "outputs": [
        {
          "output_type": "stream",
          "text": [
            "0.364\n",
            "0.34\n",
            "0.396\n",
            "0.356\n",
            "0.336\n",
            "0.388\n",
            "0.396\n",
            "0.408\n",
            "0.384\n",
            "0.348\n"
          ],
          "name": "stdout"
        }
      ]
    },
    {
      "cell_type": "markdown",
      "metadata": {
        "id": "---npD3Hq5Fl",
        "colab_type": "text"
      },
      "source": [
        "# набор глаголов из текстового датасета для разметки"
      ]
    },
    {
      "cell_type": "code",
      "metadata": {
        "id": "PxOzzacivdtQ",
        "colab_type": "code",
        "outputId": "d4c74f48-e433-4beb-b8f1-3d4c32751fa4",
        "colab": {
          "base_uri": "https://localhost:8080/",
          "height": 68
        }
      },
      "source": [
        "import nltk\n",
        "nltk.download('stopwords')"
      ],
      "execution_count": 0,
      "outputs": [
        {
          "output_type": "stream",
          "text": [
            "[nltk_data] Downloading package stopwords to /root/nltk_data...\n",
            "[nltk_data]   Unzipping corpora/stopwords.zip.\n"
          ],
          "name": "stdout"
        },
        {
          "output_type": "execute_result",
          "data": {
            "text/plain": [
              "True"
            ]
          },
          "metadata": {
            "tags": []
          },
          "execution_count": 135
        }
      ]
    },
    {
      "cell_type": "code",
      "metadata": {
        "id": "IaCgIdKaDMI8",
        "colab_type": "code",
        "colab": {}
      },
      "source": [
        "stop_words= nltk.corpus.stopwords.words('russian')"
      ],
      "execution_count": 0,
      "outputs": []
    },
    {
      "cell_type": "code",
      "metadata": {
        "id": "TblO4rW40PCO",
        "colab_type": "code",
        "colab": {}
      },
      "source": [
        "from sklearn.feature_extraction.text import CountVectorizer, TfidfVectorizer"
      ],
      "execution_count": 0,
      "outputs": []
    },
    {
      "cell_type": "code",
      "metadata": {
        "id": "eXz6meR-1UWb",
        "colab_type": "code",
        "colab": {}
      },
      "source": [
        "test_texts = list(all_data.text_tok_2[:3000]) #брались различные части датасета по отдельности\n",
        "test_texts_2 = []\n",
        "for text in test_texts:\n",
        "  new_text = []\n",
        "  for word in text.split():\n",
        "    if word not in stop_words:\n",
        "      new_text.append(word)\n",
        "  test_texts_2.append(' '.join(new_text))"
      ],
      "execution_count": 0,
      "outputs": []
    },
    {
      "cell_type": "code",
      "metadata": {
        "id": "-lnypQTG0Ra-",
        "colab_type": "code",
        "colab": {}
      },
      "source": [
        "tfidf_vectorizer = TfidfVectorizer()\n",
        "X = tfidf_vectorizer.fit_transform(test_texts_2)\n",
        "\n",
        "all_words = np.array(tfidf_vectorizer.get_feature_names())\n",
        "matrix = X.toarray()"
      ],
      "execution_count": 0,
      "outputs": []
    },
    {
      "cell_type": "code",
      "metadata": {
        "id": "NWYUDPYU0RXF",
        "colab_type": "code",
        "colab": {}
      },
      "source": [
        "idx = []\n",
        "for row in matrix:\n",
        "    idx_sort = np.argsort(list(row))\n",
        "    idx.append(idx_sort[::-1][:40])"
      ],
      "execution_count": 0,
      "outputs": []
    },
    {
      "cell_type": "code",
      "metadata": {
        "id": "QKCAgTvQ0dqw",
        "colab_type": "code",
        "colab": {}
      },
      "source": [
        "keywords = []\n",
        "for i in idx:\n",
        "    res = []\n",
        "    for j in i:\n",
        "        res.append(all_words[j])\n",
        "    keywords.append(res)"
      ],
      "execution_count": 0,
      "outputs": []
    },
    {
      "cell_type": "code",
      "metadata": {
        "id": "dttS4RlP6CUM",
        "colab_type": "code",
        "colab": {}
      },
      "source": [
        "test_data = {}\n",
        "for text in keywords:\n",
        "  for word in text:\n",
        "    p = morph.parse(word)[0]\n",
        "    if 'INFN' in p.tag:\n",
        "      if word not in list(sent_df_2.verbs_tok_2) and word not in all_test_verbs and word not in [x[0] for x in dop_vec]:\n",
        "        if word not in test_data.keys():\n",
        "          test_data[word] = 1\n",
        "        else:\n",
        "          test_data[word] += 1"
      ],
      "execution_count": 0,
      "outputs": []
    },
    {
      "cell_type": "code",
      "metadata": {
        "id": "9Un1-I8a6MLF",
        "colab_type": "code",
        "outputId": "1826475d-5781-41b2-9e8f-682fa0fd740a",
        "colab": {
          "base_uri": "https://localhost:8080/",
          "height": 34
        }
      },
      "source": [
        "len(test_data.keys())"
      ],
      "execution_count": 0,
      "outputs": [
        {
          "output_type": "execute_result",
          "data": {
            "text/plain": [
              "5145"
            ]
          },
          "metadata": {
            "tags": []
          },
          "execution_count": 363
        }
      ]
    },
    {
      "cell_type": "code",
      "metadata": {
        "id": "Fy9CeBd4UM5k",
        "colab_type": "code",
        "colab": {}
      },
      "source": [
        "test_list = list(test_data.items())\n",
        "test_list.sort(key=lambda i: i[1], reverse = True)\n",
        "#test_list[:10]"
      ],
      "execution_count": 0,
      "outputs": []
    },
    {
      "cell_type": "code",
      "metadata": {
        "id": "Tlic_1qFNsQ8",
        "colab_type": "code",
        "colab": {}
      },
      "source": [
        "dop_list = []\n",
        "for i in test_list[:200]:\n",
        "  if i[0] not in all_test_verbs:\n",
        "    dop_list.append(i[0])"
      ],
      "execution_count": 0,
      "outputs": []
    },
    {
      "cell_type": "code",
      "metadata": {
        "id": "I8sc0jHKANoG",
        "colab_type": "code",
        "colab": {}
      },
      "source": [
        "def check_vec(mas):\n",
        "  vec_mas = []\n",
        "  for i in mas:\n",
        "    try:\n",
        "      vec_mas.append([i, model[i]])\n",
        "    except:\n",
        "      continue\n",
        "  return vec_mas"
      ],
      "execution_count": 0,
      "outputs": []
    },
    {
      "cell_type": "code",
      "metadata": {
        "id": "-PlUKWZIBBbx",
        "colab_type": "code",
        "colab": {}
      },
      "source": [
        "test_verbs = [i[0] for i in test_list]"
      ],
      "execution_count": 0,
      "outputs": []
    },
    {
      "cell_type": "code",
      "metadata": {
        "id": "pv1K6fJ4BRSN",
        "colab_type": "code",
        "colab": {}
      },
      "source": [
        "test_vecs = check_vec(test_verbs)"
      ],
      "execution_count": 0,
      "outputs": []
    },
    {
      "cell_type": "code",
      "metadata": {
        "id": "32t-Ysc7BYjA",
        "colab_type": "code",
        "outputId": "af3fd767-b51a-4de2-f0d6-f0ec63d37f4a",
        "colab": {
          "base_uri": "https://localhost:8080/",
          "height": 34
        }
      },
      "source": [
        "len(test_verbs), len(test_vecs)"
      ],
      "execution_count": 0,
      "outputs": [
        {
          "output_type": "execute_result",
          "data": {
            "text/plain": [
              "(5145, 3195)"
            ]
          },
          "metadata": {
            "tags": []
          },
          "execution_count": 367
        }
      ]
    },
    {
      "cell_type": "code",
      "metadata": {
        "id": "W6umhNDi3SHG",
        "colab_type": "code",
        "colab": {}
      },
      "source": [
        "tverbs = [x[0] for x in test_vecs] #[x[0]]"
      ],
      "execution_count": 0,
      "outputs": []
    },
    {
      "cell_type": "code",
      "metadata": {
        "id": "wCJ0Dwce3bz-",
        "colab_type": "code",
        "outputId": "9d845a3c-aab5-43ae-c7f5-d3575599956f",
        "colab": {
          "base_uri": "https://localhost:8080/",
          "height": 34
        }
      },
      "source": [
        "len(tverbs)"
      ],
      "execution_count": 0,
      "outputs": [
        {
          "output_type": "execute_result",
          "data": {
            "text/plain": [
              "3195"
            ]
          },
          "metadata": {
            "tags": []
          },
          "execution_count": 376
        }
      ]
    },
    {
      "cell_type": "code",
      "metadata": {
        "id": "i1KMM2JNZz02",
        "colab_type": "code",
        "colab": {}
      },
      "source": [
        "f = open('dop_test_verb_3.txt', 'w', encoding='utf-8')\n",
        "for verb in tverbs[:300]:\n",
        "  f.write(verb)\n",
        "  f.write('\\n')\n",
        "f.close()"
      ],
      "execution_count": 0,
      "outputs": []
    },
    {
      "cell_type": "code",
      "metadata": {
        "id": "7HjNkQlvPxeN",
        "colab_type": "code",
        "colab": {}
      },
      "source": [
        "dop_vec = check_vec(dop_list)"
      ],
      "execution_count": 0,
      "outputs": []
    },
    {
      "cell_type": "code",
      "metadata": {
        "id": "8O8qObcFQIPV",
        "colab_type": "code",
        "outputId": "c39b7033-972b-40f3-c5b8-2bb9d359b060",
        "colab": {
          "base_uri": "https://localhost:8080/",
          "height": 34
        }
      },
      "source": [
        "len(dop_vec)"
      ],
      "execution_count": 0,
      "outputs": [
        {
          "output_type": "execute_result",
          "data": {
            "text/plain": [
              "35"
            ]
          },
          "metadata": {
            "tags": []
          },
          "execution_count": 323
        }
      ]
    },
    {
      "cell_type": "code",
      "metadata": {
        "id": "LHGxvFMiMqG6",
        "colab_type": "code",
        "colab": {}
      },
      "source": [
        "f = open('test_verb_dop_2.txt', 'w', encoding='utf-8')\n",
        "for verb in dop_vec:\n",
        "  f.write(verb[0])\n",
        "  f.write('\\n')\n",
        "f.close()"
      ],
      "execution_count": 0,
      "outputs": []
    },
    {
      "cell_type": "code",
      "metadata": {
        "id": "mncvmWLPJe9p",
        "colab_type": "code",
        "colab": {}
      },
      "source": [
        ""
      ],
      "execution_count": 0,
      "outputs": []
    },
    {
      "cell_type": "code",
      "metadata": {
        "id": "U781f6MA-6ht",
        "colab_type": "code",
        "colab": {}
      },
      "source": [
        "all_test_verbs = []\n",
        "for verb in test_verbs_2:\n",
        "  all_test_verbs.append(verb)\n",
        "for verb in tverbs[:300]:\n",
        "  if verb[0] not in all_test_verbs:\n",
        "    all_test_verbs.append(verb[0])"
      ],
      "execution_count": 0,
      "outputs": []
    },
    {
      "cell_type": "code",
      "metadata": {
        "id": "1cRvvtFg-Rr3",
        "colab_type": "code",
        "outputId": "93c8f391-0c74-452b-b77c-cc20ec5a3dbc",
        "colab": {
          "base_uri": "https://localhost:8080/",
          "height": 34
        }
      },
      "source": [
        "len(all_test_verbs)"
      ],
      "execution_count": 0,
      "outputs": [
        {
          "output_type": "execute_result",
          "data": {
            "text/plain": [
              "354"
            ]
          },
          "metadata": {
            "tags": []
          },
          "execution_count": 282
        }
      ]
    },
    {
      "cell_type": "code",
      "metadata": {
        "id": "q5jsSE6L7-TP",
        "colab_type": "code",
        "colab": {}
      },
      "source": [
        "f = open('test_verb.txt', 'w', encoding='utf-8')\n",
        "for verb in all_test_verbs:\n",
        "  f.write(verb)\n",
        "  f.write('\\n')\n",
        "\n",
        "f.close()"
      ],
      "execution_count": 0,
      "outputs": []
    },
    {
      "cell_type": "markdown",
      "metadata": {
        "id": "diLq8tLo4CQt",
        "colab_type": "text"
      },
      "source": [
        "попробуем просто посмотреть на частотные глаголы (без учета тех которые мы уже отобрали в all_test_verbs и dop_vec)"
      ]
    },
    {
      "cell_type": "code",
      "metadata": {
        "id": "FF7XdsvxS5I3",
        "colab_type": "code",
        "colab": {}
      },
      "source": [
        "test_data_2 = {}\n",
        "for text in all_data.text_tok[:4000]:\n",
        "  for word in text:\n",
        "    p = morph.parse(word)[0]\n",
        "    if 'INFN' in p.tag:\n",
        "      if word not in list(sent_df_2.verbs_tok_2):\n",
        "        if word not in all_test_verbs and word not in [x[0] for x in dop_vec]:\n",
        "          if word not in test_data_2.keys():\n",
        "            test_data_2[word] = 1\n",
        "          else:\n",
        "            test_data_2[word] += 1"
      ],
      "execution_count": 0,
      "outputs": []
    },
    {
      "cell_type": "code",
      "metadata": {
        "id": "Jke6ybJ8S9Oc",
        "colab_type": "code",
        "colab": {}
      },
      "source": [
        "test_list_2 = list(test_data_2.items())\n",
        "test_list_2.sort(key=lambda i: i[1], reverse = True)"
      ],
      "execution_count": 0,
      "outputs": []
    },
    {
      "cell_type": "markdown",
      "metadata": {
        "id": "ZFvPa1zDXhul",
        "colab_type": "text"
      },
      "source": [
        "# дополнительная проверка для семантической оси"
      ]
    },
    {
      "cell_type": "code",
      "metadata": {
        "id": "mTGnx6Nl-UcY",
        "colab_type": "code",
        "colab": {}
      },
      "source": [
        "pt = get_pole(pos_vec_0)\n",
        "nt = get_pole(neg_vec_0)"
      ],
      "execution_count": 0,
      "outputs": []
    },
    {
      "cell_type": "code",
      "metadata": {
        "id": "k7W6fypESw8Q",
        "colab_type": "code",
        "colab": {}
      },
      "source": [
        "tsimsp = get_sims_to_axis(pt, test_vecs)\n",
        "tsimsn = get_sims_to_axis(nt, test_vecs)"
      ],
      "execution_count": 0,
      "outputs": []
    },
    {
      "cell_type": "code",
      "metadata": {
        "id": "xNlGfKFwVmGF",
        "colab_type": "code",
        "colab": {}
      },
      "source": [
        "thresholdp = np.std(tsimsp)\n",
        "thresholdn = np.std(tsimsn)\n",
        "meanp = np.mean(tsimsp)\n",
        "meann = np.mean(tsimsn)"
      ],
      "execution_count": 0,
      "outputs": []
    },
    {
      "cell_type": "code",
      "metadata": {
        "id": "F5BTYBaCV4PM",
        "colab_type": "code",
        "colab": {}
      },
      "source": [
        "sim_preds_p = []\n",
        "for i in range(len(tsimsp)):\n",
        "  if tsimsp[i] >= meanp + thresholdp:\n",
        "    sim_preds_p.append('pos')\n",
        "  elif tsimsp[i] <= meanp - thresholdp:\n",
        "    sim_preds_p.append('neut')\n",
        "  else:\n",
        "    sim_preds_p.append('pneut')"
      ],
      "execution_count": 0,
      "outputs": []
    },
    {
      "cell_type": "code",
      "metadata": {
        "id": "mtR0BMi7W1sQ",
        "colab_type": "code",
        "colab": {}
      },
      "source": [
        "sim_preds_n = []\n",
        "for i in range(len(tsimsp)):\n",
        "  if tsimsn[i] >= meann + thresholdn:\n",
        "    sim_preds_n.append('neg')\n",
        "  elif tsimsn[i] <= meann - thresholdn:\n",
        "    sim_preds_n.append('neut')\n",
        "  else:\n",
        "    sim_preds_n.append('nneut')"
      ],
      "execution_count": 0,
      "outputs": []
    },
    {
      "cell_type": "code",
      "metadata": {
        "id": "0TLfjB-vXBh7",
        "colab_type": "code",
        "outputId": "5375e091-5960-4ede-d6ba-341a5dfd31d8",
        "colab": {
          "base_uri": "https://localhost:8080/"
        }
      },
      "source": [
        "for i in range(10):\n",
        "  print(sim_preds_p[i], sim_preds_n[i], sims_preds_1[0][i])"
      ],
      "execution_count": 0,
      "outputs": [
        {
          "output_type": "stream",
          "text": [
            "pos neg neut\n",
            "pneut neut pos\n",
            "pneut neut pos\n",
            "pos nneut neut\n",
            "pneut nneut neut\n",
            "pneut nneut neut\n",
            "pos neg pos\n",
            "pneut nneut neut\n",
            "pos nneut neut\n",
            "pos nneut neut\n"
          ],
          "name": "stdout"
        }
      ]
    },
    {
      "cell_type": "code",
      "metadata": {
        "colab_type": "code",
        "outputId": "acc9a1c5-f4e9-4836-ae34-b3f38baa9df7",
        "id": "gcZVCxYcPTl2",
        "colab": {
          "base_uri": "https://localhost:8080/",
          "height": 102
        }
      },
      "source": [
        "show_acc_ann(sims_preds_ann1)"
      ],
      "execution_count": 0,
      "outputs": [
        {
          "output_type": "stream",
          "text": [
            "0.424\n",
            "0.468\n",
            "0.444\n",
            "0.432\n",
            "0.444\n"
          ],
          "name": "stdout"
        }
      ]
    },
    {
      "cell_type": "code",
      "metadata": {
        "colab_type": "code",
        "outputId": "9d475b70-652a-41df-e2de-3bbc2b63ff1d",
        "id": "Ma4Dyr-KPTl_",
        "colab": {
          "base_uri": "https://localhost:8080/",
          "height": 102
        }
      },
      "source": [
        "show_acc_ann(sims_preds_ann2)"
      ],
      "execution_count": 0,
      "outputs": [
        {
          "output_type": "stream",
          "text": [
            "0.48\n",
            "0.432\n",
            "0.436\n",
            "0.476\n",
            "0.476\n"
          ],
          "name": "stdout"
        }
      ]
    },
    {
      "cell_type": "code",
      "metadata": {
        "colab_type": "code",
        "outputId": "502f0444-7fd4-48d6-e0f2-3927282e175d",
        "id": "_GBZzXkNPTmD",
        "colab": {
          "base_uri": "https://localhost:8080/",
          "height": 102
        }
      },
      "source": [
        "show_acc_ann(sims_preds_ann3)"
      ],
      "execution_count": 0,
      "outputs": [
        {
          "output_type": "stream",
          "text": [
            "0.452\n",
            "0.432\n",
            "0.456\n",
            "0.44\n",
            "0.456\n"
          ],
          "name": "stdout"
        }
      ]
    },
    {
      "cell_type": "code",
      "metadata": {
        "colab_type": "code",
        "outputId": "4d316ca1-709d-45a0-a76c-f671b7fccf47",
        "id": "2MLTnKOkPTmG",
        "colab": {
          "base_uri": "https://localhost:8080/",
          "height": 187
        }
      },
      "source": [
        "show_acc_ann(sims_preds_ann4)"
      ],
      "execution_count": 0,
      "outputs": [
        {
          "output_type": "stream",
          "text": [
            "0.404\n",
            "0.42\n",
            "0.472\n",
            "0.416\n",
            "0.428\n",
            "0.46\n",
            "0.436\n",
            "0.424\n",
            "0.448\n",
            "0.432\n"
          ],
          "name": "stdout"
        }
      ]
    },
    {
      "cell_type": "markdown",
      "metadata": {
        "id": "JPyeNRKtAsXK",
        "colab_type": "text"
      },
      "source": [
        "# old predictions"
      ]
    },
    {
      "cell_type": "code",
      "metadata": {
        "id": "uZJ0txHcC6GB",
        "colab_type": "code",
        "colab": {}
      },
      "source": [
        "for i in range(5):\n",
        "  print(f'Predictions for {test_verbs.verbs[i]:20}', sim_preds_0[i], sim_preds_1[i], sim_preds_2[i], sim_preds_3[i], sim_preds_4[i])"
      ],
      "execution_count": 0,
      "outputs": []
    },
    {
      "cell_type": "code",
      "metadata": {
        "id": "7jEN8Qfn2YYB",
        "colab_type": "code",
        "colab": {}
      },
      "source": [
        "# threshold"
      ],
      "execution_count": 0,
      "outputs": []
    },
    {
      "cell_type": "code",
      "metadata": {
        "id": "r5CdZJIpl4fX",
        "colab_type": "code",
        "outputId": "d51c8baf-f50c-4eab-8c4a-95822e09ee0f",
        "colab": {
          "base_uri": "https://localhost:8080/",
          "height": 102
        }
      },
      "source": [
        "print(get_acc(sim_preds_0))\n",
        "print(get_acc(sim_preds_1))\n",
        "print(get_acc(sim_preds_2))\n",
        "print(get_acc(sim_preds_3))\n",
        "print(get_acc(sim_preds_4))"
      ],
      "execution_count": 0,
      "outputs": [
        {
          "output_type": "stream",
          "text": [
            "[0.6859903381642513, 0.3526570048309179, 0.28019323671497587, 0.28019323671497587]\n",
            "[0.6570048309178744, 0.3526570048309179, 0.28019323671497587, 0.2898550724637681]\n",
            "[0.642512077294686, 0.3671497584541063, 0.2753623188405797, 0.28502415458937197]\n",
            "[0.6618357487922706, 0.34782608695652173, 0.26570048309178745, 0.2753623188405797]\n",
            "[0.6521739130434783, 0.357487922705314, 0.27053140096618356, 0.28019323671497587]\n"
          ],
          "name": "stdout"
        }
      ]
    },
    {
      "cell_type": "code",
      "metadata": {
        "id": "AUEbIVGGyeDH",
        "colab_type": "code",
        "outputId": "0ad9b955-5b2a-4b36-b000-6f3e4f9dc780",
        "colab": {
          "base_uri": "https://localhost:8080/",
          "height": 102
        }
      },
      "source": [
        "# threshold +- 0.1\n",
        "\n",
        "print(get_acc(sim_preds_0))\n",
        "print(get_acc(sim_preds_1))\n",
        "print(get_acc(sim_preds_2))\n",
        "print(get_acc(sim_preds_3))\n",
        "print(get_acc(sim_preds_4))"
      ],
      "execution_count": 0,
      "outputs": [
        {
          "output_type": "stream",
          "text": [
            "[0.6666666666666666, 0.357487922705314, 0.28019323671497587, 0.28019323671497587]\n",
            "[0.6570048309178744, 0.34782608695652173, 0.28019323671497587, 0.2898550724637681]\n",
            "[0.6376811594202898, 0.3719806763285024, 0.2753623188405797, 0.28502415458937197]\n",
            "[0.6473429951690821, 0.3526570048309179, 0.27053140096618356, 0.28019323671497587]\n",
            "[0.642512077294686, 0.36231884057971014, 0.2608695652173913, 0.27053140096618356]\n"
          ],
          "name": "stdout"
        }
      ]
    },
    {
      "cell_type": "code",
      "metadata": {
        "id": "FzlTNVONMPa6",
        "colab_type": "code",
        "outputId": "e77fc9e3-bd54-4b32-c755-48842f3ce9aa",
        "colab": {
          "base_uri": "https://localhost:8080/",
          "height": 102
        }
      },
      "source": [
        "# threshold +- 0.2\n",
        "\n",
        "print(get_acc(sim_preds_0))\n",
        "print(get_acc(sim_preds_1))\n",
        "print(get_acc(sim_preds_2))\n",
        "print(get_acc(sim_preds_3))\n",
        "print(get_acc(sim_preds_4))"
      ],
      "execution_count": 0,
      "outputs": [
        {
          "output_type": "stream",
          "text": [
            "[0.6473429951690821, 0.357487922705314, 0.28019323671497587, 0.28019323671497587]\n",
            "[0.6521739130434783, 0.3526570048309179, 0.28019323671497587, 0.2898550724637681]\n",
            "[0.6328502415458938, 0.3719806763285024, 0.2753623188405797, 0.28502415458937197]\n",
            "[0.6376811594202898, 0.34299516908212563, 0.26570048309178745, 0.2753623188405797]\n",
            "[0.642512077294686, 0.357487922705314, 0.26570048309178745, 0.2753623188405797]\n"
          ],
          "name": "stdout"
        }
      ]
    },
    {
      "cell_type": "code",
      "metadata": {
        "id": "rh8nzVOb6vYV",
        "colab_type": "code",
        "outputId": "1530c007-26c2-4942-a357-7e5276169384",
        "colab": {
          "base_uri": "https://localhost:8080/",
          "height": 102
        }
      },
      "source": [
        "# mean +- threshold\n",
        "\n",
        "print(get_acc(sim_preds_0))\n",
        "print(get_acc(sim_preds_1))\n",
        "print(get_acc(sim_preds_2))\n",
        "print(get_acc(sim_preds_3))\n",
        "print(get_acc(sim_preds_4))"
      ],
      "execution_count": 0,
      "outputs": [
        {
          "output_type": "stream",
          "text": [
            "[0.21739130434782608, 0.38164251207729466, 0.3285024154589372, 0.3188405797101449]\n",
            "[0.28502415458937197, 0.34299516908212563, 0.28502415458937197, 0.27053140096618356]\n",
            "[0.2608695652173913, 0.41545893719806765, 0.33816425120772947, 0.3333333333333333]\n",
            "[0.23671497584541062, 0.3671497584541063, 0.33816425120772947, 0.3333333333333333]\n",
            "[0.30434782608695654, 0.3671497584541063, 0.2946859903381642, 0.2898550724637681]\n"
          ],
          "name": "stdout"
        }
      ]
    },
    {
      "cell_type": "code",
      "metadata": {
        "id": "qmF_30atR6UM",
        "colab_type": "code",
        "colab": {}
      },
      "source": [
        ""
      ],
      "execution_count": 0,
      "outputs": []
    },
    {
      "cell_type": "code",
      "metadata": {
        "id": "-OE0yCHYR6iP",
        "colab_type": "code",
        "colab": {}
      },
      "source": [
        "sim_preds_20 = get_sim_preds(axis_20, test_vecs)\n",
        "sim_preds_21 = get_sim_preds(axis_21, test_vecs)\n",
        "sim_preds_22 = get_sim_preds(axis_22, test_vecs)\n",
        "sim_preds_23 = get_sim_preds(axis_23, test_vecs)\n",
        "sim_preds_24 = get_sim_preds(axis_24, test_vecs)"
      ],
      "execution_count": 0,
      "outputs": []
    },
    {
      "cell_type": "code",
      "metadata": {
        "id": "0KlRpYZPSDmi",
        "colab_type": "code",
        "outputId": "1fd0f7e2-689b-43e4-84a1-4943945ab21f",
        "colab": {
          "base_uri": "https://localhost:8080/",
          "height": 102
        }
      },
      "source": [
        "# threshold\n",
        "\n",
        "print(get_acc(sim_preds_20))\n",
        "print(get_acc(sim_preds_21))\n",
        "print(get_acc(sim_preds_22))\n",
        "print(get_acc(sim_preds_23))\n",
        "print(get_acc(sim_preds_24))"
      ],
      "execution_count": 0,
      "outputs": [
        {
          "output_type": "stream",
          "text": [
            "[0.6376811594202898, 0.33816425120772947, 0.2898550724637681, 0.2995169082125604]\n",
            "[0.6618357487922706, 0.34299516908212563, 0.2898550724637681, 0.2995169082125604]\n",
            "[0.6714975845410628, 0.33816425120772947, 0.2898550724637681, 0.2898550724637681]\n",
            "[0.6666666666666666, 0.34299516908212563, 0.2608695652173913, 0.2608695652173913]\n",
            "[0.642512077294686, 0.33816425120772947, 0.2898550724637681, 0.2995169082125604]\n"
          ],
          "name": "stdout"
        }
      ]
    },
    {
      "cell_type": "code",
      "metadata": {
        "id": "r8lbrd8rSDyZ",
        "colab_type": "code",
        "outputId": "3a101b60-9eba-4e83-ad33-2a32411cd6f4",
        "colab": {
          "base_uri": "https://localhost:8080/",
          "height": 102
        }
      },
      "source": [
        "# threshold +- 0.1\n",
        "\n",
        "print(get_acc(sim_preds_20))\n",
        "print(get_acc(sim_preds_21))\n",
        "print(get_acc(sim_preds_22))\n",
        "print(get_acc(sim_preds_23))\n",
        "print(get_acc(sim_preds_24))"
      ],
      "execution_count": 0,
      "outputs": [
        {
          "output_type": "stream",
          "text": [
            "[0.6231884057971014, 0.3526570048309179, 0.2898550724637681, 0.2995169082125604]\n",
            "[0.6473429951690821, 0.34782608695652173, 0.28502415458937197, 0.2946859903381642]\n",
            "[0.6618357487922706, 0.3333333333333333, 0.2753623188405797, 0.2753623188405797]\n",
            "[0.6473429951690821, 0.34782608695652173, 0.2608695652173913, 0.26570048309178745]\n",
            "[0.6280193236714976, 0.3526570048309179, 0.28019323671497587, 0.2898550724637681]\n"
          ],
          "name": "stdout"
        }
      ]
    },
    {
      "cell_type": "code",
      "metadata": {
        "id": "cuVVbd_ISfHy",
        "colab_type": "code",
        "outputId": "044ae210-1452-48b7-90b1-f0e4551158a8",
        "colab": {
          "base_uri": "https://localhost:8080/",
          "height": 102
        }
      },
      "source": [
        "# threshold +- 0.2\n",
        "\n",
        "print(get_acc(sim_preds_20))\n",
        "print(get_acc(sim_preds_21))\n",
        "print(get_acc(sim_preds_22))\n",
        "print(get_acc(sim_preds_23))\n",
        "print(get_acc(sim_preds_24))"
      ],
      "execution_count": 0,
      "outputs": [
        {
          "output_type": "stream",
          "text": [
            "[0.6183574879227053, 0.3526570048309179, 0.28502415458937197, 0.2946859903381642]\n",
            "[0.6328502415458938, 0.3526570048309179, 0.28019323671497587, 0.2898550724637681]\n",
            "[0.6376811594202898, 0.33816425120772947, 0.28502415458937197, 0.28502415458937197]\n",
            "[0.6328502415458938, 0.3333333333333333, 0.2608695652173913, 0.26570048309178745]\n",
            "[0.6280193236714976, 0.3526570048309179, 0.28019323671497587, 0.2898550724637681]\n"
          ],
          "name": "stdout"
        }
      ]
    },
    {
      "cell_type": "code",
      "metadata": {
        "id": "ETXiTg6t63xg",
        "colab_type": "code",
        "outputId": "7aa310de-708e-4211-96df-f67ca5ae2714",
        "colab": {
          "base_uri": "https://localhost:8080/",
          "height": 102
        }
      },
      "source": [
        "# mean +- threshold\n",
        "\n",
        "print(get_acc(sim_preds_20))\n",
        "print(get_acc(sim_preds_21))\n",
        "print(get_acc(sim_preds_22))\n",
        "print(get_acc(sim_preds_23))\n",
        "print(get_acc(sim_preds_24))"
      ],
      "execution_count": 0,
      "outputs": [
        {
          "output_type": "stream",
          "text": [
            "[0.2946859903381642, 0.357487922705314, 0.28019323671497587, 0.2753623188405797]\n",
            "[0.2753623188405797, 0.3961352657004831, 0.30434782608695654, 0.2995169082125604]\n",
            "[0.2995169082125604, 0.3719806763285024, 0.30434782608695654, 0.2995169082125604]\n",
            "[0.2463768115942029, 0.3961352657004831, 0.30917874396135264, 0.30434782608695654]\n",
            "[0.27053140096618356, 0.36231884057971014, 0.3188405797101449, 0.3140096618357488]\n"
          ],
          "name": "stdout"
        }
      ]
    },
    {
      "cell_type": "markdown",
      "metadata": {
        "id": "iJNmtf_B2fqF",
        "colab_type": "text"
      },
      "source": [
        "# немного статистики с семантической близостью между словами (модель 1)"
      ]
    },
    {
      "cell_type": "code",
      "metadata": {
        "id": "Ae-tUuAPaNN8",
        "colab_type": "code",
        "colab": {}
      },
      "source": [
        "def get_sims(seed_mas, test_mas):\n",
        "  sims_all = {}\n",
        "  for i in range(len([x[1] for x in test_mas])): #для каждого глагола в тест-сете\n",
        "    sims = []\n",
        "    v1 = test_mas[i][1]\n",
        "\n",
        "    for j in range(len(seed_mas)): #считаем близости к глаголам с сиде\n",
        "      #if test_mas[i][0] != seed_mas[j][0]:\n",
        "       v2 = seed_mas[j][1]\n",
        "       sim = cossim(v1,v2)\n",
        "       sims.append(sim)\n",
        "\n",
        "    sims_all[test_mas[i][0]] = sims #все близости для одного глагола\n",
        "\n",
        "  return sims_all"
      ],
      "execution_count": 0,
      "outputs": []
    },
    {
      "cell_type": "code",
      "metadata": {
        "id": "SfXSVY3D3HbI",
        "colab_type": "code",
        "outputId": "96f51f2e-0cab-49f0-9da1-e20a1782ba52",
        "colab": {
          "base_uri": "https://localhost:8080/",
          "height": 102
        }
      },
      "source": [
        "get_sims(verb_vec[:5], verb_vec[:5])"
      ],
      "execution_count": 0,
      "outputs": [
        {
          "output_type": "execute_result",
          "data": {
            "text/plain": [
              "{'возлагать надежду': [0.77645373, 1.0, 0.53674537, 0.592523, 0.3536769],\n",
              " 'выиграть': [0.24394466, 0.3536769, 0.2674522, 0.3199151, 1.0000001],\n",
              " 'довериться': [0.47599834, 0.53674537, 0.9999999, 0.5360465, 0.2674522],\n",
              " 'надеяться': [1.0, 0.77645373, 0.47599834, 0.45851263, 0.24394466],\n",
              " 'положиться': [0.45851263, 0.592523, 0.5360465, 1.0, 0.3199151]}"
            ]
          },
          "metadata": {
            "tags": []
          },
          "execution_count": 179
        }
      ]
    },
    {
      "cell_type": "code",
      "metadata": {
        "id": "GooRb-P23W4W",
        "colab_type": "code",
        "colab": {}
      },
      "source": [
        "all_sims = get_sims(verb_vec, verb_vec)"
      ],
      "execution_count": 0,
      "outputs": []
    },
    {
      "cell_type": "code",
      "metadata": {
        "id": "Bo2mc4hX3b67",
        "colab_type": "code",
        "colab": {}
      },
      "source": [
        "max_val = []\n",
        "av_val = []\n",
        "min_val = []\n",
        "for i in all_sims.keys():\n",
        "  max_val.append(max(all_sims[i]))\n",
        "  av_val.append(np.average(all_sims[i]))\n",
        "  min_val.append(min(all_sims[i]))"
      ],
      "execution_count": 0,
      "outputs": []
    },
    {
      "cell_type": "code",
      "metadata": {
        "id": "p_QOYVi449A9",
        "colab_type": "code",
        "outputId": "2b9dcbb6-4710-4e48-f406-001cac68af8d",
        "colab": {
          "base_uri": "https://localhost:8080/",
          "height": 34
        }
      },
      "source": [
        "max(max_val), np.average(av_val), min(min_val)"
      ],
      "execution_count": 0,
      "outputs": [
        {
          "output_type": "execute_result",
          "data": {
            "text/plain": [
              "(0.9740852, 0.28601798, -0.017372958)"
            ]
          },
          "metadata": {
            "tags": []
          },
          "execution_count": 165
        }
      ]
    },
    {
      "cell_type": "code",
      "metadata": {
        "id": "rt2utYiB6pBH",
        "colab_type": "code",
        "colab": {}
      },
      "source": [
        "sims = pd.DataFrame(all_sims)"
      ],
      "execution_count": 0,
      "outputs": []
    },
    {
      "cell_type": "code",
      "metadata": {
        "id": "NE0xHHOC6vs3",
        "colab_type": "code",
        "outputId": "e6765903-d99d-47b7-aaf7-f173d1500b81",
        "colab": {
          "base_uri": "https://localhost:8080/",
          "height": 287
        }
      },
      "source": [
        "sims.head()"
      ],
      "execution_count": 0,
      "outputs": [
        {
          "output_type": "execute_result",
          "data": {
            "text/html": [
              "<div>\n",
              "<style scoped>\n",
              "    .dataframe tbody tr th:only-of-type {\n",
              "        vertical-align: middle;\n",
              "    }\n",
              "\n",
              "    .dataframe tbody tr th {\n",
              "        vertical-align: top;\n",
              "    }\n",
              "\n",
              "    .dataframe thead th {\n",
              "        text-align: right;\n",
              "    }\n",
              "</style>\n",
              "<table border=\"1\" class=\"dataframe\">\n",
              "  <thead>\n",
              "    <tr style=\"text-align: right;\">\n",
              "      <th></th>\n",
              "      <th>надеяться</th>\n",
              "      <th>возлагать надежду</th>\n",
              "      <th>довериться</th>\n",
              "      <th>положиться</th>\n",
              "      <th>выиграть</th>\n",
              "      <th>получить приз</th>\n",
              "      <th>удаться</th>\n",
              "      <th>помочь</th>\n",
              "      <th>понять</th>\n",
              "      <th>любить</th>\n",
              "      <th>оценить</th>\n",
              "      <th>признать ценность</th>\n",
              "      <th>верить</th>\n",
              "      <th>нуждаться</th>\n",
              "      <th>испытывать потребность</th>\n",
              "      <th>поощрить</th>\n",
              "      <th>похвалить</th>\n",
              "      <th>одобрить</th>\n",
              "      <th>улучшить</th>\n",
              "      <th>привыкнуть</th>\n",
              "      <th>прикипеть душой</th>\n",
              "      <th>приветствовать</th>\n",
              "      <th>повезти</th>\n",
              "      <th>везение</th>\n",
              "      <th>интересоваться</th>\n",
              "      <th>рисковать</th>\n",
              "      <th>радовать</th>\n",
              "      <th>радоваться</th>\n",
              "      <th>гордиться</th>\n",
              "      <th>волновать</th>\n",
              "      <th>беспокоиться</th>\n",
              "      <th>волноваться</th>\n",
              "      <th>упустить</th>\n",
              "      <th>потерпеть неудачу</th>\n",
              "      <th>благодарить</th>\n",
              "      <th>потерять</th>\n",
              "      <th>печалиться</th>\n",
              "      <th>испытывать печаль</th>\n",
              "      <th>отбить</th>\n",
              "      <th>отвоевать</th>\n",
              "      <th>...</th>\n",
              "      <th>завидовать</th>\n",
              "      <th>досадовать</th>\n",
              "      <th>сердиться</th>\n",
              "      <th>испытывать раздражение</th>\n",
              "      <th>досаждать</th>\n",
              "      <th>унижаться</th>\n",
              "      <th>опустошить</th>\n",
              "      <th>осквернить</th>\n",
              "      <th>заминировать</th>\n",
              "      <th>демонизировать</th>\n",
              "      <th>насиловать</th>\n",
              "      <th>враждовать</th>\n",
              "      <th>сеять вражду</th>\n",
              "      <th>ненавидеть</th>\n",
              "      <th>отразить удар</th>\n",
              "      <th>надоесть</th>\n",
              "      <th>свергнуть</th>\n",
              "      <th>вмешаться</th>\n",
              "      <th>встрять</th>\n",
              "      <th>быть замешанным</th>\n",
              "      <th>лениться</th>\n",
              "      <th>предать</th>\n",
              "      <th>спорить</th>\n",
              "      <th>разгласить</th>\n",
              "      <th>презирать</th>\n",
              "      <th>стесняться</th>\n",
              "      <th>мошенничать</th>\n",
              "      <th>заразить</th>\n",
              "      <th>заразиться</th>\n",
              "      <th>выдать</th>\n",
              "      <th>затрудниться</th>\n",
              "      <th>изолировать</th>\n",
              "      <th>нейтрализовать</th>\n",
              "      <th>вывести из строя</th>\n",
              "      <th>испортить</th>\n",
              "      <th>испоганить</th>\n",
              "      <th>почить</th>\n",
              "      <th>полечь</th>\n",
              "      <th>уничтожить</th>\n",
              "      <th>казнить</th>\n",
              "    </tr>\n",
              "  </thead>\n",
              "  <tbody>\n",
              "    <tr>\n",
              "      <th>0</th>\n",
              "      <td>1.000000</td>\n",
              "      <td>0.776454</td>\n",
              "      <td>0.475998</td>\n",
              "      <td>0.458513</td>\n",
              "      <td>0.243945</td>\n",
              "      <td>0.257219</td>\n",
              "      <td>0.492314</td>\n",
              "      <td>0.426489</td>\n",
              "      <td>0.342076</td>\n",
              "      <td>0.263458</td>\n",
              "      <td>0.270405</td>\n",
              "      <td>0.433085</td>\n",
              "      <td>0.512762</td>\n",
              "      <td>0.357671</td>\n",
              "      <td>0.327622</td>\n",
              "      <td>0.311651</td>\n",
              "      <td>0.380071</td>\n",
              "      <td>0.304433</td>\n",
              "      <td>0.170699</td>\n",
              "      <td>0.253492</td>\n",
              "      <td>0.268871</td>\n",
              "      <td>0.311268</td>\n",
              "      <td>0.204474</td>\n",
              "      <td>0.317412</td>\n",
              "      <td>0.311491</td>\n",
              "      <td>0.430611</td>\n",
              "      <td>0.425988</td>\n",
              "      <td>0.508550</td>\n",
              "      <td>0.403445</td>\n",
              "      <td>0.314467</td>\n",
              "      <td>0.545140</td>\n",
              "      <td>0.388962</td>\n",
              "      <td>0.344349</td>\n",
              "      <td>0.322629</td>\n",
              "      <td>0.442887</td>\n",
              "      <td>0.269172</td>\n",
              "      <td>0.383218</td>\n",
              "      <td>0.445343</td>\n",
              "      <td>0.193026</td>\n",
              "      <td>0.251242</td>\n",
              "      <td>...</td>\n",
              "      <td>0.388086</td>\n",
              "      <td>0.445520</td>\n",
              "      <td>0.390255</td>\n",
              "      <td>0.383001</td>\n",
              "      <td>0.324605</td>\n",
              "      <td>0.327676</td>\n",
              "      <td>0.127570</td>\n",
              "      <td>0.175109</td>\n",
              "      <td>0.206986</td>\n",
              "      <td>0.272531</td>\n",
              "      <td>0.233390</td>\n",
              "      <td>0.265919</td>\n",
              "      <td>0.279962</td>\n",
              "      <td>0.281020</td>\n",
              "      <td>0.300129</td>\n",
              "      <td>0.251052</td>\n",
              "      <td>0.266033</td>\n",
              "      <td>0.305855</td>\n",
              "      <td>0.281063</td>\n",
              "      <td>0.335989</td>\n",
              "      <td>0.303194</td>\n",
              "      <td>0.271461</td>\n",
              "      <td>0.317909</td>\n",
              "      <td>0.269512</td>\n",
              "      <td>0.269608</td>\n",
              "      <td>0.283836</td>\n",
              "      <td>0.203053</td>\n",
              "      <td>0.092278</td>\n",
              "      <td>0.170030</td>\n",
              "      <td>0.263957</td>\n",
              "      <td>0.323087</td>\n",
              "      <td>0.117787</td>\n",
              "      <td>0.212487</td>\n",
              "      <td>0.347056</td>\n",
              "      <td>0.166010</td>\n",
              "      <td>0.161407</td>\n",
              "      <td>0.236665</td>\n",
              "      <td>0.293391</td>\n",
              "      <td>0.186515</td>\n",
              "      <td>0.201930</td>\n",
              "    </tr>\n",
              "    <tr>\n",
              "      <th>1</th>\n",
              "      <td>0.776454</td>\n",
              "      <td>1.000000</td>\n",
              "      <td>0.536745</td>\n",
              "      <td>0.592523</td>\n",
              "      <td>0.353677</td>\n",
              "      <td>0.373528</td>\n",
              "      <td>0.539690</td>\n",
              "      <td>0.395988</td>\n",
              "      <td>0.413244</td>\n",
              "      <td>0.330466</td>\n",
              "      <td>0.342946</td>\n",
              "      <td>0.555438</td>\n",
              "      <td>0.535104</td>\n",
              "      <td>0.455999</td>\n",
              "      <td>0.496729</td>\n",
              "      <td>0.415443</td>\n",
              "      <td>0.423342</td>\n",
              "      <td>0.373180</td>\n",
              "      <td>0.257435</td>\n",
              "      <td>0.339019</td>\n",
              "      <td>0.411514</td>\n",
              "      <td>0.385204</td>\n",
              "      <td>0.295494</td>\n",
              "      <td>0.368268</td>\n",
              "      <td>0.387290</td>\n",
              "      <td>0.469306</td>\n",
              "      <td>0.442029</td>\n",
              "      <td>0.511761</td>\n",
              "      <td>0.409631</td>\n",
              "      <td>0.369653</td>\n",
              "      <td>0.526706</td>\n",
              "      <td>0.434707</td>\n",
              "      <td>0.441230</td>\n",
              "      <td>0.494279</td>\n",
              "      <td>0.457068</td>\n",
              "      <td>0.364390</td>\n",
              "      <td>0.445245</td>\n",
              "      <td>0.556098</td>\n",
              "      <td>0.334168</td>\n",
              "      <td>0.377306</td>\n",
              "      <td>...</td>\n",
              "      <td>0.422867</td>\n",
              "      <td>0.459039</td>\n",
              "      <td>0.403734</td>\n",
              "      <td>0.508557</td>\n",
              "      <td>0.377838</td>\n",
              "      <td>0.418767</td>\n",
              "      <td>0.291193</td>\n",
              "      <td>0.229383</td>\n",
              "      <td>0.376031</td>\n",
              "      <td>0.398793</td>\n",
              "      <td>0.336289</td>\n",
              "      <td>0.350527</td>\n",
              "      <td>0.430724</td>\n",
              "      <td>0.344192</td>\n",
              "      <td>0.451989</td>\n",
              "      <td>0.280747</td>\n",
              "      <td>0.401645</td>\n",
              "      <td>0.339570</td>\n",
              "      <td>0.351082</td>\n",
              "      <td>0.481334</td>\n",
              "      <td>0.416999</td>\n",
              "      <td>0.379042</td>\n",
              "      <td>0.406440</td>\n",
              "      <td>0.397114</td>\n",
              "      <td>0.374002</td>\n",
              "      <td>0.363712</td>\n",
              "      <td>0.334424</td>\n",
              "      <td>0.220889</td>\n",
              "      <td>0.288356</td>\n",
              "      <td>0.391384</td>\n",
              "      <td>0.391581</td>\n",
              "      <td>0.234290</td>\n",
              "      <td>0.332788</td>\n",
              "      <td>0.567500</td>\n",
              "      <td>0.251395</td>\n",
              "      <td>0.309916</td>\n",
              "      <td>0.337261</td>\n",
              "      <td>0.384177</td>\n",
              "      <td>0.288842</td>\n",
              "      <td>0.312484</td>\n",
              "    </tr>\n",
              "    <tr>\n",
              "      <th>2</th>\n",
              "      <td>0.475998</td>\n",
              "      <td>0.536745</td>\n",
              "      <td>1.000000</td>\n",
              "      <td>0.536047</td>\n",
              "      <td>0.267452</td>\n",
              "      <td>0.277114</td>\n",
              "      <td>0.428523</td>\n",
              "      <td>0.350990</td>\n",
              "      <td>0.411950</td>\n",
              "      <td>0.365842</td>\n",
              "      <td>0.385495</td>\n",
              "      <td>0.536302</td>\n",
              "      <td>0.673133</td>\n",
              "      <td>0.275761</td>\n",
              "      <td>0.300969</td>\n",
              "      <td>0.266231</td>\n",
              "      <td>0.400549</td>\n",
              "      <td>0.310188</td>\n",
              "      <td>0.160707</td>\n",
              "      <td>0.344256</td>\n",
              "      <td>0.388437</td>\n",
              "      <td>0.279583</td>\n",
              "      <td>0.225988</td>\n",
              "      <td>0.328322</td>\n",
              "      <td>0.374528</td>\n",
              "      <td>0.380220</td>\n",
              "      <td>0.307671</td>\n",
              "      <td>0.374770</td>\n",
              "      <td>0.340131</td>\n",
              "      <td>0.316415</td>\n",
              "      <td>0.471396</td>\n",
              "      <td>0.383380</td>\n",
              "      <td>0.317751</td>\n",
              "      <td>0.370569</td>\n",
              "      <td>0.351962</td>\n",
              "      <td>0.375600</td>\n",
              "      <td>0.413791</td>\n",
              "      <td>0.482149</td>\n",
              "      <td>0.238400</td>\n",
              "      <td>0.281154</td>\n",
              "      <td>...</td>\n",
              "      <td>0.415803</td>\n",
              "      <td>0.363723</td>\n",
              "      <td>0.419775</td>\n",
              "      <td>0.474883</td>\n",
              "      <td>0.269103</td>\n",
              "      <td>0.376233</td>\n",
              "      <td>0.155429</td>\n",
              "      <td>0.210465</td>\n",
              "      <td>0.271140</td>\n",
              "      <td>0.281710</td>\n",
              "      <td>0.323466</td>\n",
              "      <td>0.239142</td>\n",
              "      <td>0.359401</td>\n",
              "      <td>0.369626</td>\n",
              "      <td>0.352115</td>\n",
              "      <td>0.330814</td>\n",
              "      <td>0.298331</td>\n",
              "      <td>0.364737</td>\n",
              "      <td>0.288651</td>\n",
              "      <td>0.414890</td>\n",
              "      <td>0.385569</td>\n",
              "      <td>0.403895</td>\n",
              "      <td>0.364240</td>\n",
              "      <td>0.395861</td>\n",
              "      <td>0.349499</td>\n",
              "      <td>0.404312</td>\n",
              "      <td>0.367059</td>\n",
              "      <td>0.256946</td>\n",
              "      <td>0.327745</td>\n",
              "      <td>0.380012</td>\n",
              "      <td>0.316509</td>\n",
              "      <td>0.208482</td>\n",
              "      <td>0.222816</td>\n",
              "      <td>0.401437</td>\n",
              "      <td>0.283508</td>\n",
              "      <td>0.261939</td>\n",
              "      <td>0.253179</td>\n",
              "      <td>0.233461</td>\n",
              "      <td>0.245434</td>\n",
              "      <td>0.217696</td>\n",
              "    </tr>\n",
              "    <tr>\n",
              "      <th>3</th>\n",
              "      <td>0.458513</td>\n",
              "      <td>0.592523</td>\n",
              "      <td>0.536047</td>\n",
              "      <td>1.000000</td>\n",
              "      <td>0.319915</td>\n",
              "      <td>0.309548</td>\n",
              "      <td>0.495305</td>\n",
              "      <td>0.386675</td>\n",
              "      <td>0.444989</td>\n",
              "      <td>0.286391</td>\n",
              "      <td>0.329590</td>\n",
              "      <td>0.546367</td>\n",
              "      <td>0.427035</td>\n",
              "      <td>0.264767</td>\n",
              "      <td>0.346624</td>\n",
              "      <td>0.323064</td>\n",
              "      <td>0.473488</td>\n",
              "      <td>0.341467</td>\n",
              "      <td>0.218291</td>\n",
              "      <td>0.321366</td>\n",
              "      <td>0.376121</td>\n",
              "      <td>0.289996</td>\n",
              "      <td>0.248829</td>\n",
              "      <td>0.268442</td>\n",
              "      <td>0.347614</td>\n",
              "      <td>0.352536</td>\n",
              "      <td>0.261543</td>\n",
              "      <td>0.378095</td>\n",
              "      <td>0.388710</td>\n",
              "      <td>0.282751</td>\n",
              "      <td>0.459928</td>\n",
              "      <td>0.369332</td>\n",
              "      <td>0.322958</td>\n",
              "      <td>0.392488</td>\n",
              "      <td>0.338306</td>\n",
              "      <td>0.293171</td>\n",
              "      <td>0.454121</td>\n",
              "      <td>0.454495</td>\n",
              "      <td>0.239848</td>\n",
              "      <td>0.345016</td>\n",
              "      <td>...</td>\n",
              "      <td>0.397559</td>\n",
              "      <td>0.317720</td>\n",
              "      <td>0.368515</td>\n",
              "      <td>0.414087</td>\n",
              "      <td>0.315092</td>\n",
              "      <td>0.392403</td>\n",
              "      <td>0.302881</td>\n",
              "      <td>0.339511</td>\n",
              "      <td>0.323009</td>\n",
              "      <td>0.347389</td>\n",
              "      <td>0.364662</td>\n",
              "      <td>0.296748</td>\n",
              "      <td>0.328804</td>\n",
              "      <td>0.346987</td>\n",
              "      <td>0.376406</td>\n",
              "      <td>0.242371</td>\n",
              "      <td>0.347620</td>\n",
              "      <td>0.338061</td>\n",
              "      <td>0.262007</td>\n",
              "      <td>0.427763</td>\n",
              "      <td>0.394944</td>\n",
              "      <td>0.449663</td>\n",
              "      <td>0.411513</td>\n",
              "      <td>0.373493</td>\n",
              "      <td>0.423561</td>\n",
              "      <td>0.325906</td>\n",
              "      <td>0.332449</td>\n",
              "      <td>0.335145</td>\n",
              "      <td>0.373418</td>\n",
              "      <td>0.324680</td>\n",
              "      <td>0.385234</td>\n",
              "      <td>0.274282</td>\n",
              "      <td>0.281012</td>\n",
              "      <td>0.475320</td>\n",
              "      <td>0.276634</td>\n",
              "      <td>0.376993</td>\n",
              "      <td>0.402729</td>\n",
              "      <td>0.466430</td>\n",
              "      <td>0.261774</td>\n",
              "      <td>0.293713</td>\n",
              "    </tr>\n",
              "    <tr>\n",
              "      <th>4</th>\n",
              "      <td>0.243945</td>\n",
              "      <td>0.353677</td>\n",
              "      <td>0.267452</td>\n",
              "      <td>0.319915</td>\n",
              "      <td>1.000000</td>\n",
              "      <td>0.969995</td>\n",
              "      <td>0.383277</td>\n",
              "      <td>0.221855</td>\n",
              "      <td>0.219777</td>\n",
              "      <td>0.206869</td>\n",
              "      <td>0.278322</td>\n",
              "      <td>0.264032</td>\n",
              "      <td>0.237425</td>\n",
              "      <td>0.171687</td>\n",
              "      <td>0.182931</td>\n",
              "      <td>0.264405</td>\n",
              "      <td>0.243744</td>\n",
              "      <td>0.220276</td>\n",
              "      <td>0.237415</td>\n",
              "      <td>0.131093</td>\n",
              "      <td>0.225693</td>\n",
              "      <td>0.100543</td>\n",
              "      <td>0.200155</td>\n",
              "      <td>0.320099</td>\n",
              "      <td>0.192034</td>\n",
              "      <td>0.308043</td>\n",
              "      <td>0.189882</td>\n",
              "      <td>0.203084</td>\n",
              "      <td>0.257745</td>\n",
              "      <td>0.214853</td>\n",
              "      <td>0.208365</td>\n",
              "      <td>0.235902</td>\n",
              "      <td>0.344889</td>\n",
              "      <td>0.371149</td>\n",
              "      <td>0.197598</td>\n",
              "      <td>0.313769</td>\n",
              "      <td>0.189817</td>\n",
              "      <td>0.242791</td>\n",
              "      <td>0.246980</td>\n",
              "      <td>0.341738</td>\n",
              "      <td>...</td>\n",
              "      <td>0.234944</td>\n",
              "      <td>0.159612</td>\n",
              "      <td>0.206421</td>\n",
              "      <td>0.258764</td>\n",
              "      <td>0.125084</td>\n",
              "      <td>0.207843</td>\n",
              "      <td>0.137179</td>\n",
              "      <td>0.132050</td>\n",
              "      <td>0.255020</td>\n",
              "      <td>0.172095</td>\n",
              "      <td>0.119524</td>\n",
              "      <td>0.138282</td>\n",
              "      <td>0.168338</td>\n",
              "      <td>0.182111</td>\n",
              "      <td>0.254374</td>\n",
              "      <td>0.241603</td>\n",
              "      <td>0.168645</td>\n",
              "      <td>0.254734</td>\n",
              "      <td>0.215782</td>\n",
              "      <td>0.263196</td>\n",
              "      <td>0.163192</td>\n",
              "      <td>0.238929</td>\n",
              "      <td>0.263995</td>\n",
              "      <td>0.227882</td>\n",
              "      <td>0.162404</td>\n",
              "      <td>0.130881</td>\n",
              "      <td>0.354809</td>\n",
              "      <td>0.163922</td>\n",
              "      <td>0.202035</td>\n",
              "      <td>0.317258</td>\n",
              "      <td>0.199201</td>\n",
              "      <td>0.119176</td>\n",
              "      <td>0.203184</td>\n",
              "      <td>0.327263</td>\n",
              "      <td>0.251217</td>\n",
              "      <td>0.199640</td>\n",
              "      <td>0.116074</td>\n",
              "      <td>0.321160</td>\n",
              "      <td>0.237575</td>\n",
              "      <td>0.234011</td>\n",
              "    </tr>\n",
              "  </tbody>\n",
              "</table>\n",
              "<p>5 rows × 339 columns</p>\n",
              "</div>"
            ],
            "text/plain": [
              "   надеяться  возлагать надежду  довериться  ...    полечь  уничтожить   казнить\n",
              "0   1.000000           0.776454    0.475998  ...  0.293391    0.186515  0.201930\n",
              "1   0.776454           1.000000    0.536745  ...  0.384177    0.288842  0.312484\n",
              "2   0.475998           0.536745    1.000000  ...  0.233461    0.245434  0.217696\n",
              "3   0.458513           0.592523    0.536047  ...  0.466430    0.261774  0.293713\n",
              "4   0.243945           0.353677    0.267452  ...  0.321160    0.237575  0.234011\n",
              "\n",
              "[5 rows x 339 columns]"
            ]
          },
          "metadata": {
            "tags": []
          },
          "execution_count": 182
        }
      ]
    },
    {
      "cell_type": "code",
      "metadata": {
        "id": "bzjQnstlCdLA",
        "colab_type": "code",
        "colab": {}
      },
      "source": [
        "sim_pairs = []\n",
        "for key in all_sims.keys():\n",
        "  for i in range(len(all_sims[key])):\n",
        "    sim_pairs.append([key, verb_vec[i][0], all_sims[key][i]])"
      ],
      "execution_count": 0,
      "outputs": []
    },
    {
      "cell_type": "code",
      "metadata": {
        "id": "jWsrNhVkEDeu",
        "colab_type": "code",
        "outputId": "6da15f5a-a50b-436d-9ec2-66fa380a959e",
        "colab": {
          "base_uri": "https://localhost:8080/",
          "height": 102
        }
      },
      "source": [
        "sim_pairs[:5]"
      ],
      "execution_count": 0,
      "outputs": [
        {
          "output_type": "execute_result",
          "data": {
            "text/plain": [
              "[['надеяться', 'надеяться', 1.0],\n",
              " ['надеяться', 'возлагать надежду', 0.77645373],\n",
              " ['надеяться', 'довериться', 0.47599834],\n",
              " ['надеяться', 'положиться', 0.45851263],\n",
              " ['надеяться', 'выиграть', 0.24394466]]"
            ]
          },
          "metadata": {
            "tags": []
          },
          "execution_count": 188
        }
      ]
    },
    {
      "cell_type": "code",
      "metadata": {
        "id": "GhjWbuy5Eaaz",
        "colab_type": "code",
        "colab": {}
      },
      "source": [
        "sim_pairs_sorted = sorted(sim_pairs, key=lambda sim: sim[2], reverse=True)"
      ],
      "execution_count": 0,
      "outputs": []
    },
    {
      "cell_type": "code",
      "metadata": {
        "id": "MmhZgtGBEiyt",
        "colab_type": "code",
        "outputId": "ecafd7dd-fa35-437c-9097-e469d36a0227",
        "colab": {
          "base_uri": "https://localhost:8080/",
          "height": 102
        }
      },
      "source": [
        "sim_pairs_sorted[341:346] #наибольшие близости слов (за исключением единиц между словами самими с собой)"
      ],
      "execution_count": 0,
      "outputs": [
        {
          "output_type": "execute_result",
          "data": {
            "text/plain": [
              "[['выиграть', 'получить приз', 0.969995],\n",
              " ['получить приз', 'выиграть', 0.969995],\n",
              " ['изолироваться', 'изолировать', 0.967007],\n",
              " ['изолировать', 'изолироваться', 0.967007],\n",
              " ['объединить', 'объединиться', 0.9656784]]"
            ]
          },
          "metadata": {
            "tags": []
          },
          "execution_count": 195
        }
      ]
    },
    {
      "cell_type": "code",
      "metadata": {
        "id": "RJJocaVGFIGY",
        "colab_type": "code",
        "outputId": "345064f9-3b89-4603-f1a9-04e94d2876f1",
        "colab": {
          "base_uri": "https://localhost:8080/",
          "height": 34
        }
      },
      "source": [
        "len(sim_pairs_sorted)"
      ],
      "execution_count": 0,
      "outputs": [
        {
          "output_type": "execute_result",
          "data": {
            "text/plain": [
              "114921"
            ]
          },
          "metadata": {
            "tags": []
          },
          "execution_count": 196
        }
      ]
    },
    {
      "cell_type": "code",
      "metadata": {
        "id": "wWuf-tVvFLlR",
        "colab_type": "code",
        "outputId": "8f227d77-d9f6-497e-d068-ad8892eb9277",
        "colab": {
          "base_uri": "https://localhost:8080/",
          "height": 102
        }
      },
      "source": [
        "sim_pairs_sorted[114916:]"
      ],
      "execution_count": 0,
      "outputs": [
        {
          "output_type": "execute_result",
          "data": {
            "text/plain": [
              "[['освоить', 'молить', -0.0073277787],\n",
              " ['следовать', 'ныть', -0.009090483],\n",
              " ['ныть', 'следовать', -0.009090483],\n",
              " ['молить', 'выдвинуть', -0.017372958],\n",
              " ['выдвинуть', 'молить', -0.017372958]]"
            ]
          },
          "metadata": {
            "tags": []
          },
          "execution_count": 198
        }
      ]
    },
    {
      "cell_type": "code",
      "metadata": {
        "id": "qWvwI92_Cefu",
        "colab_type": "code",
        "colab": {}
      },
      "source": [
        ""
      ],
      "execution_count": 0,
      "outputs": []
    },
    {
      "cell_type": "code",
      "metadata": {
        "id": "iDNqYahICeTV",
        "colab_type": "code",
        "colab": {}
      },
      "source": [
        ""
      ],
      "execution_count": 0,
      "outputs": []
    },
    {
      "cell_type": "code",
      "metadata": {
        "id": "aeSyf-L45NXZ",
        "colab_type": "code",
        "outputId": "b580905c-f4dc-44a5-91b6-f6e8aa257a6c",
        "colab": {
          "base_uri": "https://localhost:8080/",
          "height": 399
        }
      },
      "source": [
        "import seaborn as sns\n",
        "import matplotlib.pyplot as plt\n",
        "\n",
        "sns.heatmap(sims)\n",
        "\n",
        "# Decorations\n",
        "plt.title('Similarities', fontsize=22)\n",
        "plt.xticks(fontsize=9)\n",
        "plt.yticks(fontsize=9)\n",
        "plt.show()"
      ],
      "execution_count": 0,
      "outputs": [
        {
          "output_type": "display_data",
          "data": {
            "image/png": "[encoded data removed]",
            "text/plain": [
              "<Figure size 432x288 with 2 Axes>"
            ]
          },
          "metadata": {
            "tags": [],
            "needs_background": "light"
          }
        }
      ]
    },
    {
      "cell_type": "code",
      "metadata": {
        "id": "gXLj0XGP5NiQ",
        "colab_type": "code",
        "colab": {}
      },
      "source": [
        ""
      ],
      "execution_count": 0,
      "outputs": []
    },
    {
      "cell_type": "code",
      "metadata": {
        "id": "rkWKONmq-J3l",
        "colab_type": "code",
        "colab": {}
      },
      "source": [
        "pos_vec = get_vec(pos_0)"
      ],
      "execution_count": 0,
      "outputs": []
    },
    {
      "cell_type": "code",
      "metadata": {
        "id": "0YVjfbVsADQK",
        "colab_type": "code",
        "colab": {}
      },
      "source": [
        "neg_vec = get_vec(neg_0)"
      ],
      "execution_count": 0,
      "outputs": []
    },
    {
      "cell_type": "code",
      "metadata": {
        "id": "gOxZkDfh3LE6",
        "colab_type": "code",
        "outputId": "70bb1082-e9a3-484f-c194-8beeb887801c",
        "colab": {
          "base_uri": "https://localhost:8080/",
          "height": 34
        }
      },
      "source": [
        "len(pos_vec), len(neg_vec)"
      ],
      "execution_count": 0,
      "outputs": [
        {
          "output_type": "execute_result",
          "data": {
            "text/plain": [
              "(10, 10)"
            ]
          },
          "metadata": {
            "tags": []
          },
          "execution_count": 255
        }
      ]
    },
    {
      "cell_type": "code",
      "metadata": {
        "id": "ZKG9tyBOAWiU",
        "colab_type": "code",
        "colab": {}
      },
      "source": [
        "test_set_0 = []\n",
        "for verb in sent_df.verbs:\n",
        "  if verb in neg_0 or verb in pos_0:\n",
        "    continue\n",
        "  else:\n",
        "    test_set_0.append(verb)"
      ],
      "execution_count": 0,
      "outputs": []
    },
    {
      "cell_type": "code",
      "metadata": {
        "id": "An6TwQPu0a8K",
        "colab_type": "code",
        "outputId": "7863584b-5bcc-498a-8e67-0e65b523da14",
        "colab": {
          "base_uri": "https://localhost:8080/",
          "height": 34
        }
      },
      "source": [
        "len(test_set_0)"
      ],
      "execution_count": 0,
      "outputs": [
        {
          "output_type": "execute_result",
          "data": {
            "text/plain": [
              "321"
            ]
          },
          "metadata": {
            "tags": []
          },
          "execution_count": 257
        }
      ]
    },
    {
      "cell_type": "code",
      "metadata": {
        "id": "a_wOxx-j25jt",
        "colab_type": "code",
        "colab": {}
      },
      "source": [
        "test_vec = get_vec(test_set_0)"
      ],
      "execution_count": 0,
      "outputs": []
    },
    {
      "cell_type": "code",
      "metadata": {
        "id": "KJ1LnGD-2_r9",
        "colab_type": "code",
        "outputId": "daeb0732-99ae-41f5-ff45-befc7b679ed7",
        "colab": {
          "base_uri": "https://localhost:8080/",
          "height": 34
        }
      },
      "source": [
        "len(test_vec)"
      ],
      "execution_count": 0,
      "outputs": [
        {
          "output_type": "execute_result",
          "data": {
            "text/plain": [
              "268"
            ]
          },
          "metadata": {
            "tags": []
          },
          "execution_count": 259
        }
      ]
    },
    {
      "cell_type": "code",
      "metadata": {
        "id": "4dH1AkWv5Xk0",
        "colab_type": "code",
        "colab": {}
      },
      "source": [
        ""
      ],
      "execution_count": 0,
      "outputs": []
    },
    {
      "cell_type": "code",
      "metadata": {
        "id": "dk89ZTM6zv4u",
        "colab_type": "code",
        "colab": {}
      },
      "source": [
        "pos_sims = get_sims([x[1] for x in pos_vec], test_vec)"
      ],
      "execution_count": 0,
      "outputs": []
    },
    {
      "cell_type": "code",
      "metadata": {
        "id": "bxOjUYsx54m9",
        "colab_type": "code",
        "colab": {}
      },
      "source": [
        "neg_sims = get_sims([x[1] for x in neg_vec], test_vec)"
      ],
      "execution_count": 0,
      "outputs": []
    },
    {
      "cell_type": "code",
      "metadata": {
        "id": "gojp64tb59PC",
        "colab_type": "code",
        "outputId": "54c916ad-adb7-47f7-c8f4-7cf33a350092",
        "colab": {
          "base_uri": "https://localhost:8080/",
          "height": 34
        }
      },
      "source": [
        "len(pos_sims.keys()), len(neg_sims.keys())"
      ],
      "execution_count": 0,
      "outputs": [
        {
          "output_type": "execute_result",
          "data": {
            "text/plain": [
              "(268, 268)"
            ]
          },
          "metadata": {
            "tags": []
          },
          "execution_count": 263
        }
      ]
    },
    {
      "cell_type": "code",
      "metadata": {
        "id": "2DJdkjciru0S",
        "colab_type": "code",
        "colab": {}
      },
      "source": [
        "#надеяться"
      ],
      "execution_count": 0,
      "outputs": []
    },
    {
      "cell_type": "code",
      "metadata": {
        "id": "mNDjg7K2yApj",
        "colab_type": "code",
        "outputId": "d4e66bcb-5598-4f8d-8062-670cb79c069b",
        "colab": {
          "base_uri": "https://localhost:8080/",
          "height": 34
        }
      },
      "source": [
        "max(pos_sims['надеяться']), max(neg_sims['надеяться'])"
      ],
      "execution_count": 0,
      "outputs": [
        {
          "output_type": "execute_result",
          "data": {
            "text/plain": [
              "(0.45851263, 0.43338642)"
            ]
          },
          "metadata": {
            "tags": []
          },
          "execution_count": 264
        }
      ]
    },
    {
      "cell_type": "code",
      "metadata": {
        "id": "5zhqJ3oQ7IzS",
        "colab_type": "code",
        "colab": {}
      },
      "source": [
        "polars = {}\n",
        "for i in pos_sims.keys():\n",
        "  polar = 0\n",
        "  for j in range(len(pos_sims[i])):\n",
        "    ps = pos_sims[i][j]\n",
        "    ns = neg_sims[i][j]\n",
        "    if ps >= ns:\n",
        "      polar += 1\n",
        "    else:\n",
        "      polar -= 1\n",
        "  if polar > 0:\n",
        "    sent = 'pos'\n",
        "  elif polar < 0:\n",
        "    sent = 'neg'\n",
        "  else:\n",
        "    sent = 'neut'\n",
        "  \n",
        "  polars[i] = sent"
      ],
      "execution_count": 0,
      "outputs": []
    },
    {
      "cell_type": "code",
      "metadata": {
        "id": "k1hc7Zy14B_x",
        "colab_type": "code",
        "colab": {}
      },
      "source": [
        "true = 0\n",
        "false = 0\n",
        "for i in range(len(sent_df.verbs)):\n",
        "  verb = sent_df.verbs[i]\n",
        "  if verb in polars.keys():\n",
        "    if polars[verb] == sent_df.polar[i]:\n",
        "      true += 1\n",
        "    else:\n",
        "      false += 1"
      ],
      "execution_count": 0,
      "outputs": []
    },
    {
      "cell_type": "code",
      "metadata": {
        "id": "m-qqaClS8Y-a",
        "colab_type": "code",
        "outputId": "b651e832-081e-422a-9528-6af091a3b1d4",
        "colab": {
          "base_uri": "https://localhost:8080/",
          "height": 34
        }
      },
      "source": [
        "true, false"
      ],
      "execution_count": 0,
      "outputs": [
        {
          "output_type": "execute_result",
          "data": {
            "text/plain": [
              "(163, 105)"
            ]
          },
          "metadata": {
            "tags": []
          },
          "execution_count": 197
        }
      ]
    },
    {
      "cell_type": "code",
      "metadata": {
        "id": "FDth2KXHEXG9",
        "colab_type": "code",
        "colab": {}
      },
      "source": [
        "true = 0\n",
        "false = 0\n",
        "for i in range(len(sent_df.verbs)):\n",
        "  verb = sent_df.verbs[i]\n",
        "  if verb in polars.keys():\n",
        "    if sent_df.pos_num[i] > sent_df.neg_num[i]:\n",
        "      sent = 'pos'\n",
        "    if sent_df.pos_num[i] < sent_df.neg_num[i]:\n",
        "      sent = 'neg'\n",
        "    if sent_df.pos_num[i] == sent_df.neg_num[i]:\n",
        "      sent = 'neut'\n",
        "\n",
        "    if sent == polars[verb]:\n",
        "      true += 1\n",
        "    else:\n",
        "      false += 1"
      ],
      "execution_count": 0,
      "outputs": []
    },
    {
      "cell_type": "code",
      "metadata": {
        "id": "cpgp3UmZE-5j",
        "colab_type": "code",
        "outputId": "ceda949c-8a75-4032-bd8c-af87e8ded22a",
        "colab": {
          "base_uri": "https://localhost:8080/",
          "height": 34
        }
      },
      "source": [
        "true, false"
      ],
      "execution_count": 0,
      "outputs": [
        {
          "output_type": "execute_result",
          "data": {
            "text/plain": [
              "(95, 173)"
            ]
          },
          "metadata": {
            "tags": []
          },
          "execution_count": 199
        }
      ]
    },
    {
      "cell_type": "markdown",
      "metadata": {
        "id": "sC-k_CLu2NXM",
        "colab_type": "text"
      },
      "source": [
        "# про вектора (модель 1)"
      ]
    },
    {
      "cell_type": "markdown",
      "metadata": {
        "id": "FniUxGz-iP3D",
        "colab_type": "text"
      },
      "source": [
        "53 основных глагола без векторов"
      ]
    },
    {
      "cell_type": "code",
      "metadata": {
        "id": "B8IezW7mtZPy",
        "colab_type": "code",
        "colab": {}
      },
      "source": [
        "all_verbs_2 = list(sent_df_2.verbs)\n",
        "verb_vec_2 = get_vec(all_verbs_2)"
      ],
      "execution_count": 0,
      "outputs": []
    },
    {
      "cell_type": "code",
      "metadata": {
        "id": "pbbfNQr-tl6l",
        "colab_type": "code",
        "outputId": "4de28c94-adc4-4846-dd57-8a511d15b3c1",
        "colab": {
          "base_uri": "https://localhost:8080/",
          "height": 34
        }
      },
      "source": [
        "len(verb_vec_2)"
      ],
      "execution_count": 0,
      "outputs": [
        {
          "output_type": "execute_result",
          "data": {
            "text/plain": [
              "3257"
            ]
          },
          "metadata": {
            "tags": []
          },
          "execution_count": 250
        }
      ]
    },
    {
      "cell_type": "markdown",
      "metadata": {
        "id": "WUC-hnCki1N2",
        "colab_type": "text"
      },
      "source": [
        "2568 всех глаголов без векторов"
      ]
    },
    {
      "cell_type": "code",
      "metadata": {
        "id": "Q9hnnaE4tqU5",
        "colab_type": "code",
        "colab": {}
      },
      "source": [
        "no_vecs = []\n",
        "for i in sent_df.verbs:\n",
        "  k = 0\n",
        "  if i not in [x[0] for x in verb_vec]:\n",
        "    if i in verb_vars.keys():\n",
        "      num_vars = len(verb_vars[i])\n",
        "      for j in verb_vars[i]:\n",
        "        if j not in [x[0] for x in verb_vec_2]:\n",
        "          k += 1\n",
        "      if k == num_vars:\n",
        "        no_vecs.append(i)"
      ],
      "execution_count": 0,
      "outputs": []
    },
    {
      "cell_type": "code",
      "metadata": {
        "id": "a0_r00Cv4CuO",
        "colab_type": "code",
        "outputId": "a0e6ae05-30d9-46ee-8afc-2ce04a0147c9",
        "colab": {
          "base_uri": "https://localhost:8080/",
          "height": 34
        }
      },
      "source": [
        "len(no_vecs)"
      ],
      "execution_count": 0,
      "outputs": [
        {
          "output_type": "execute_result",
          "data": {
            "text/plain": [
              "2"
            ]
          },
          "metadata": {
            "tags": []
          },
          "execution_count": 252
        }
      ]
    },
    {
      "cell_type": "markdown",
      "metadata": {
        "id": "t4pfCzjpnQCD",
        "colab_type": "text"
      },
      "source": [
        "2 глагола без векторов вообще (ни для слова, ни для вариантов)"
      ]
    },
    {
      "cell_type": "markdown",
      "metadata": {
        "id": "jGDABF0gmUjp",
        "colab_type": "text"
      },
      "source": [
        "# черновик"
      ]
    },
    {
      "cell_type": "code",
      "metadata": {
        "id": "lpaOHUTqmU8U",
        "colab_type": "code",
        "colab": {}
      },
      "source": [
        "'''if pos == 0 and neg != 0:\n",
        "    chi_res.append(0)\n",
        "    chi_res.append(3)\n",
        "    log_res.append(0)\n",
        "    log_res.append(3)\n",
        "  elif neg == 0 and pos != 0:\n",
        "    chi_res.append(3)\n",
        "    chi_res.append(0)\n",
        "    log_res.append(3)\n",
        "    log_res.append(0)\n",
        "  elif pos == 0 and neg == 0:\n",
        "    chi_res.append(0)\n",
        "    chi_res.append(0)\n",
        "    chi_res.append(3)\n",
        "    log_res.append(0)\n",
        "    log_res.append(0)\n",
        "    log_res.append(3)\n",
        "  else:\n",
        "    a = pos\n",
        "    b = neg\n",
        "    c = pos_total - pos\n",
        "    d = neg_total - neg\n",
        "    chi1, p1 = get_chi(a,b,c,d)\n",
        "    log1, p2 = get_chi(a,b,c,d, l = 'log')\n",
        "    chi_res.append(chi1)\n",
        "    log_res.append(log1)\n",
        "    p1_res.append(p1)\n",
        "    p2_res.append(p2)\n",
        "\n",
        "    a = neg\n",
        "    b = pos\n",
        "    c = neg_total - neg\n",
        "    d = pos_total - pos\n",
        "    chi1, p1 = get_chi(a,b,c,d)\n",
        "    log1, p2 = get_chi(a,b,c,d, l = 'log')\n",
        "    chi_res.append(chi1)\n",
        "    log_res.append(log1)\n",
        "    p1_res.append(p1)\n",
        "    p2_res.append(p2)'''"
      ],
      "execution_count": 0,
      "outputs": []
    },
    {
      "cell_type": "markdown",
      "metadata": {
        "id": "xbr1LCCSmUN1",
        "colab_type": "text"
      },
      "source": [
        "# первые тесты с сидами различных размеров"
      ]
    },
    {
      "cell_type": "code",
      "metadata": {
        "id": "K_-YE0ntt8mQ",
        "colab_type": "code",
        "outputId": "8e10f579-e8d6-40e5-87aa-7240ec8c475c",
        "colab": {
          "base_uri": "https://localhost:8080/",
          "height": 34
        }
      },
      "source": [
        "pos_list, pos_list_vec = get_vec(pl)\n",
        "len(pl), len(pos_list), len(pos_list_vec)"
      ],
      "execution_count": 0,
      "outputs": [
        {
          "output_type": "execute_result",
          "data": {
            "text/plain": [
              "(2615, 1605, 1605)"
            ]
          },
          "metadata": {
            "tags": []
          },
          "execution_count": 50
        }
      ]
    },
    {
      "cell_type": "code",
      "metadata": {
        "id": "hQH4kCpg-HQf",
        "colab_type": "code",
        "colab": {}
      },
      "source": [
        "from sklearn.model_selection import train_test_split\n",
        "\n",
        "tr_ts, pos_seed, tr_ts_vec, pos_seed_vec = train_test_split(pos_list, pos_list_vec, test_size=0.1, random_state=42, shuffle=True)\n",
        "pos_train, pos_test, pos_train_vec, pos_test_vec = train_test_split(tr_ts, tr_ts_vec, test_size=0.3, random_state=42, shuffle=True)"
      ],
      "execution_count": 0,
      "outputs": []
    },
    {
      "cell_type": "code",
      "metadata": {
        "id": "p4c9hzsd_qq4",
        "colab_type": "code",
        "outputId": "f4d75476-0d67-4b2c-cf7b-3f4c1cb4e043",
        "colab": {
          "base_uri": "https://localhost:8080/",
          "height": 68
        }
      },
      "source": [
        "print('Seed len:', len(pos_seed), len(pos_seed_vec))\n",
        "print('Train len:', len(pos_train), len(pos_train_vec))\n",
        "print('Test len:', len(pos_test), len(pos_test_vec))"
      ],
      "execution_count": 0,
      "outputs": [
        {
          "output_type": "stream",
          "text": [
            "Seed len: 161 161\n",
            "Train len: 1010 1010\n",
            "Test len: 434 434\n"
          ],
          "name": "stdout"
        }
      ]
    },
    {
      "cell_type": "code",
      "metadata": {
        "id": "NPWD9-lVt8eM",
        "colab_type": "code",
        "colab": {}
      },
      "source": [
        "def get_sims(seed, train_verb, train_vec):\n",
        "  sims_all = {}\n",
        "  for i in range(len(train_vec)):\n",
        "    sims = []\n",
        "    v1 = train_vec[i]\n",
        "\n",
        "    for j in range(len(seed)):\n",
        "      v2 = seed[j]\n",
        "      sim = cossim(v1,v2)\n",
        "      sims.append(sim)\n",
        "\n",
        "    sims_all[train_verb[i]] = sims\n",
        "\n",
        "  return sims_all"
      ],
      "execution_count": 0,
      "outputs": []
    },
    {
      "cell_type": "code",
      "metadata": {
        "id": "QntuvFv32qjh",
        "colab_type": "code",
        "colab": {}
      },
      "source": [
        "train_sims = get_sims(pos_seed_vec, pos_train, pos_train_vec)"
      ],
      "execution_count": 0,
      "outputs": []
    },
    {
      "cell_type": "code",
      "metadata": {
        "id": "VGq-fvROBsld",
        "colab_type": "code",
        "outputId": "5e5d4b88-bbbc-4fca-ae31-bf92e09ca671",
        "colab": {
          "base_uri": "https://localhost:8080/",
          "height": 34
        }
      },
      "source": [
        "max(train_sims['дарить'])"
      ],
      "execution_count": 0,
      "outputs": [
        {
          "output_type": "execute_result",
          "data": {
            "text/plain": [
              "0.99999994"
            ]
          },
          "metadata": {
            "tags": []
          },
          "execution_count": 77
        }
      ]
    },
    {
      "cell_type": "code",
      "metadata": {
        "id": "zXxTAgi8BTI1",
        "colab_type": "code",
        "colab": {}
      },
      "source": [
        "for i in train_sims.keys():\n",
        "  train_sims[i].sort(reverse=True)"
      ],
      "execution_count": 0,
      "outputs": []
    },
    {
      "cell_type": "code",
      "metadata": {
        "id": "-apQO9IdB6z6",
        "colab_type": "code",
        "outputId": "39163430-03d5-44fd-801d-69f9971bef75",
        "colab": {
          "base_uri": "https://localhost:8080/",
          "height": 34
        }
      },
      "source": [
        "train_sims['дарить'][:5]"
      ],
      "execution_count": 0,
      "outputs": [
        {
          "output_type": "execute_result",
          "data": {
            "text/plain": [
              "[0.99999994, 0.529982, 0.45092636, 0.4469396, 0.44265136]"
            ]
          },
          "metadata": {
            "tags": []
          },
          "execution_count": 76
        }
      ]
    },
    {
      "cell_type": "code",
      "metadata": {
        "id": "4lplWxY0CQTE",
        "colab_type": "code",
        "colab": {}
      },
      "source": [
        "maxs = []\n",
        "for i in train_sims.keys():\n",
        "  maxs.append(train_sims[i][0])"
      ],
      "execution_count": 0,
      "outputs": []
    },
    {
      "cell_type": "code",
      "metadata": {
        "id": "CZ9WwQSICikL",
        "colab_type": "code",
        "outputId": "130824e5-ec3e-415e-8f0b-19a9b5d8485b",
        "colab": {
          "base_uri": "https://localhost:8080/",
          "height": 34
        }
      },
      "source": [
        "max(maxs)"
      ],
      "execution_count": 0,
      "outputs": [
        {
          "output_type": "execute_result",
          "data": {
            "text/plain": [
              "1.0000001"
            ]
          },
          "metadata": {
            "tags": []
          },
          "execution_count": 79
        }
      ]
    },
    {
      "cell_type": "code",
      "metadata": {
        "id": "dSaMWMO5KCj6",
        "colab_type": "code",
        "outputId": "fb07c491-312e-4819-ec73-9145bd369d7b",
        "colab": {
          "base_uri": "https://localhost:8080/",
          "height": 34
        }
      },
      "source": [
        "min_num = int(len(train_sims['дарить'])*0.04)\n",
        "min_num"
      ],
      "execution_count": 0,
      "outputs": [
        {
          "output_type": "execute_result",
          "data": {
            "text/plain": [
              "6"
            ]
          },
          "metadata": {
            "tags": []
          },
          "execution_count": 121
        }
      ]
    },
    {
      "cell_type": "code",
      "metadata": {
        "id": "1u3V7cpbNxxU",
        "colab_type": "code",
        "outputId": "143d6447-740d-468c-d4f7-50662bad8759",
        "colab": {
          "base_uri": "https://localhost:8080/",
          "height": 34
        }
      },
      "source": [
        "train_sims['дарить'][:min_num]"
      ],
      "execution_count": 0,
      "outputs": [
        {
          "output_type": "execute_result",
          "data": {
            "text/plain": [
              "[0.99999994, 0.529982, 0.45092636, 0.4469396, 0.44265136, 0.44223115]"
            ]
          },
          "metadata": {
            "tags": []
          },
          "execution_count": 128
        }
      ]
    },
    {
      "cell_type": "code",
      "metadata": {
        "id": "mPWmZXU0CjlJ",
        "colab_type": "code",
        "colab": {}
      },
      "source": [
        "threshold = 0.6"
      ],
      "execution_count": 0,
      "outputs": []
    },
    {
      "cell_type": "code",
      "metadata": {
        "id": "XNf2XtLACjbv",
        "colab_type": "code",
        "colab": {}
      },
      "source": [
        "def get_cands(train_sims, min_num, threshold):\n",
        "  pos_cands = {}\n",
        "  for i in list(train_sims.keys()):\n",
        "    p = 0\n",
        "    check_sum = 0\n",
        "    #print(train_sims[i][:min_num])\n",
        "    for j in train_sims[i][:min_num]:\n",
        "      check_sum += j\n",
        "      if j >= threshold:\n",
        "        p+=1\n",
        "    #print(p, check_sum)\n",
        "    if p == min_num or check_sum >= 4:\n",
        "      pos_cands[i] = train_sims[i]\n",
        "  return pos_cands"
      ],
      "execution_count": 0,
      "outputs": []
    },
    {
      "cell_type": "code",
      "metadata": {
        "id": "S12uKSYxRedv",
        "colab_type": "code",
        "colab": {}
      },
      "source": [
        "pos_cands = get_cands(train_sims, min_num, threshold)"
      ],
      "execution_count": 0,
      "outputs": []
    },
    {
      "cell_type": "code",
      "metadata": {
        "id": "SSWNm_auPArE",
        "colab_type": "code",
        "outputId": "11ab77c0-5b4b-4fce-fc17-e87190eaf1e7",
        "colab": {
          "base_uri": "https://localhost:8080/",
          "height": 34
        }
      },
      "source": [
        "print(len(pos_cands.keys()), pos_cands.keys())"
      ],
      "execution_count": 0,
      "outputs": [
        {
          "output_type": "stream",
          "text": [
            "5 dict_keys(['отступиться', 'благодарить', 'стосковаться', 'воссоединиться', 'благословить'])\n"
          ],
          "name": "stdout"
        }
      ]
    },
    {
      "cell_type": "code",
      "metadata": {
        "id": "ug1bJP4dPQyj",
        "colab_type": "code",
        "colab": {}
      },
      "source": [
        "def dop(pos_cands):\n",
        "  pos_cands_dop = {}\n",
        "  for i in pos_cands.keys():\n",
        "    s = sum(pos_cands[i])\n",
        "    pos_cands_dop[i] = s/len(pos_cands[i])\n",
        "  return pos_cands_dop"
      ],
      "execution_count": 0,
      "outputs": []
    },
    {
      "cell_type": "code",
      "metadata": {
        "id": "Saiq39MtCjJ9",
        "colab_type": "code",
        "outputId": "d3af0e89-fb0d-4c1b-e171-ceba555d05ea",
        "colab": {
          "base_uri": "https://localhost:8080/",
          "height": 102
        }
      },
      "source": [
        "pos_cands_sort = list(dop(pos_cands).items())\n",
        "pos_cands_sort.sort(key=lambda i: i[1], reverse = True)\n",
        "pos_cands_sort"
      ],
      "execution_count": 0,
      "outputs": [
        {
          "output_type": "execute_result",
          "data": {
            "text/plain": [
              "[('стосковаться', 0.31898560624870453),\n",
              " ('воссоединиться', 0.2873345666235278),\n",
              " ('отступиться', 0.27660549302463944),\n",
              " ('благодарить', 0.27005999137340864),\n",
              " ('благословить', 0.26731750475508825)]"
            ]
          },
          "metadata": {
            "tags": []
          },
          "execution_count": 169
        }
      ]
    },
    {
      "cell_type": "code",
      "metadata": {
        "id": "3HAceIr62qdi",
        "colab_type": "code",
        "colab": {}
      },
      "source": [
        ""
      ],
      "execution_count": 0,
      "outputs": []
    },
    {
      "cell_type": "code",
      "metadata": {
        "id": "TKnA8xF9Pv74",
        "colab_type": "code",
        "outputId": "85328043-372f-4865-f3e5-420ecadd17c3",
        "colab": {
          "base_uri": "https://localhost:8080/",
          "height": 68
        }
      },
      "source": [
        "tr_ts_2, pos_seed_2, tr_ts_vec_2, pos_seed_vec_2 = train_test_split(pos_list, pos_list_vec, test_size=0.2, random_state=42, shuffle=True)\n",
        "pos_train_2, pos_test_2, pos_train_vec_2, pos_test_vec_2 = train_test_split(tr_ts_2, tr_ts_vec_2, test_size=0.3, random_state=42, shuffle=True)\n",
        "\n",
        "print('Seed len:', len(pos_seed_2), len(pos_seed_vec_2))\n",
        "print('Train len:', len(pos_train_2), len(pos_train_vec_2))\n",
        "print('Test len:', len(pos_test_2), len(pos_test_vec_2))"
      ],
      "execution_count": 0,
      "outputs": [
        {
          "output_type": "stream",
          "text": [
            "Seed len: 321 321\n",
            "Train len: 898 898\n",
            "Test len: 386 386\n"
          ],
          "name": "stdout"
        }
      ]
    },
    {
      "cell_type": "code",
      "metadata": {
        "id": "Xnewrw_nPv0H",
        "colab_type": "code",
        "colab": {}
      },
      "source": [
        "train_sims_2 = get_sims(pos_seed_vec_2, pos_train_2, pos_train_vec_2)"
      ],
      "execution_count": 0,
      "outputs": []
    },
    {
      "cell_type": "code",
      "metadata": {
        "id": "RuVxoSLKPvrT",
        "colab_type": "code",
        "colab": {}
      },
      "source": [
        "for i in train_sims_2.keys():\n",
        "  train_sims_2[i].sort(reverse=True)"
      ],
      "execution_count": 0,
      "outputs": []
    },
    {
      "cell_type": "code",
      "metadata": {
        "id": "SFMR3LkWPvaA",
        "colab_type": "code",
        "outputId": "7eb0b9e0-fe99-4ee5-cd26-ec89e1da4f58",
        "colab": {
          "base_uri": "https://localhost:8080/",
          "height": 34
        }
      },
      "source": [
        "maxs = []\n",
        "for i in train_sims_2.keys():\n",
        "  maxs.append(train_sims_2[i][0])\n",
        "\n",
        "max(maxs)"
      ],
      "execution_count": 0,
      "outputs": [
        {
          "output_type": "execute_result",
          "data": {
            "text/plain": [
              "1.0000001"
            ]
          },
          "metadata": {
            "tags": []
          },
          "execution_count": 189
        }
      ]
    },
    {
      "cell_type": "code",
      "metadata": {
        "id": "4Ai1A7G3Q6CU",
        "colab_type": "code",
        "colab": {}
      },
      "source": [
        "pos_cands_2 = get_cands(train_sims_2, min_num, threshold)"
      ],
      "execution_count": 0,
      "outputs": []
    },
    {
      "cell_type": "code",
      "metadata": {
        "id": "sPtzUA88Q58-",
        "colab_type": "code",
        "outputId": "77206614-5c40-41dc-a35e-6e53574db81b",
        "colab": {
          "base_uri": "https://localhost:8080/",
          "height": 34
        }
      },
      "source": [
        "len(pos_cands_2)"
      ],
      "execution_count": 0,
      "outputs": [
        {
          "output_type": "execute_result",
          "data": {
            "text/plain": [
              "32"
            ]
          },
          "metadata": {
            "tags": []
          },
          "execution_count": 161
        }
      ]
    },
    {
      "cell_type": "code",
      "metadata": {
        "id": "Q41WwRM2Q53U",
        "colab_type": "code",
        "outputId": "3f169495-fb66-436b-857e-3d70c24b07e1",
        "colab": {
          "base_uri": "https://localhost:8080/",
          "height": 102
        }
      },
      "source": [
        "pos_cands_sort_2 = list(dop(pos_cands_2).items())\n",
        "pos_cands_sort_2.sort(key=lambda i: i[1], reverse = True)\n",
        "pos_cands_sort_2[:5]"
      ],
      "execution_count": 0,
      "outputs": [
        {
          "output_type": "execute_result",
          "data": {
            "text/plain": [
              "[('стосковаться', 0.3222835490311789),\n",
              " ('хвалиться', 0.3167765688998306),\n",
              " ('огорчаться', 0.3081909583016905),\n",
              " ('разволноваться', 0.3058200694179609),\n",
              " ('печалиться', 0.30107900127913584)]"
            ]
          },
          "metadata": {
            "tags": []
          },
          "execution_count": 170
        }
      ]
    },
    {
      "cell_type": "code",
      "metadata": {
        "id": "uCcxjhR-SrUE",
        "colab_type": "code",
        "colab": {}
      },
      "source": [
        "def inter(c1,c2):\n",
        "  inter = []\n",
        "  for i in c1:\n",
        "    if i in c2:\n",
        "      inter.append(i)\n",
        "  return inter"
      ],
      "execution_count": 0,
      "outputs": []
    },
    {
      "cell_type": "code",
      "metadata": {
        "id": "_FUIn4zlT3qn",
        "colab_type": "code",
        "colab": {}
      },
      "source": [
        "intersection = inter(pos_cands.keys(), pos_cands_2.keys())"
      ],
      "execution_count": 0,
      "outputs": []
    },
    {
      "cell_type": "code",
      "metadata": {
        "id": "mYgw482mUEP1",
        "colab_type": "code",
        "outputId": "2981a350-225d-4dfc-fbc0-3db80db54b89",
        "colab": {
          "base_uri": "https://localhost:8080/",
          "height": 34
        }
      },
      "source": [
        "len(intersection)"
      ],
      "execution_count": 0,
      "outputs": [
        {
          "output_type": "execute_result",
          "data": {
            "text/plain": [
              "4"
            ]
          },
          "metadata": {
            "tags": []
          },
          "execution_count": 180
        }
      ]
    },
    {
      "cell_type": "code",
      "metadata": {
        "id": "WDe3crq_Ufu9",
        "colab_type": "code",
        "outputId": "3c955bcb-1cf9-4fa3-c9fb-2813112f938e",
        "colab": {
          "base_uri": "https://localhost:8080/",
          "height": 34
        }
      },
      "source": [
        "intersection"
      ],
      "execution_count": 0,
      "outputs": [
        {
          "output_type": "execute_result",
          "data": {
            "text/plain": [
              "['отступиться', 'стосковаться', 'воссоединиться', 'благословить']"
            ]
          },
          "metadata": {
            "tags": []
          },
          "execution_count": 181
        }
      ]
    },
    {
      "cell_type": "code",
      "metadata": {
        "id": "At1u9lOsUH8J",
        "colab_type": "code",
        "colab": {}
      },
      "source": [
        "comper = []\n",
        "for i in intersection:\n",
        "  comper.append([i, dop(pos_cands)[i], dop(pos_cands_2)[i]])"
      ],
      "execution_count": 0,
      "outputs": []
    },
    {
      "cell_type": "code",
      "metadata": {
        "id": "p6rQK-SoU5mh",
        "colab_type": "code",
        "outputId": "9b409cb7-f0f0-4549-e660-2803b4279018",
        "colab": {
          "base_uri": "https://localhost:8080/",
          "height": 85
        }
      },
      "source": [
        "comper"
      ],
      "execution_count": 0,
      "outputs": [
        {
          "output_type": "execute_result",
          "data": {
            "text/plain": [
              "[['отступиться', 0.27660549302463944, 0.26957220642180457],\n",
              " ['стосковаться', 0.31898560624870453, 0.3222835490311789],\n",
              " ['воссоединиться', 0.2873345666235278, 0.275083728088211],\n",
              " ['благословить', 0.26731750475508825, 0.2620518011421058]]"
            ]
          },
          "metadata": {
            "tags": []
          },
          "execution_count": 187
        }
      ]
    },
    {
      "cell_type": "code",
      "metadata": {
        "id": "fA4KFu5UaJ8m",
        "colab_type": "code",
        "colab": {}
      },
      "source": [
        ""
      ],
      "execution_count": 0,
      "outputs": []
    },
    {
      "cell_type": "code",
      "metadata": {
        "id": "18P8CkMVaKhn",
        "colab_type": "code",
        "outputId": "571c2901-13c7-475f-fcb5-75c225bf8bb2",
        "colab": {
          "base_uri": "https://localhost:8080/",
          "height": 68
        }
      },
      "source": [
        "tr_ts_3, pos_seed_3, tr_ts_vec_3, pos_seed_vec_3 = train_test_split(pos_list, pos_list_vec, test_size=0.3, random_state=42, shuffle=True)\n",
        "pos_train_3, pos_test_3, pos_train_vec_3, pos_test_vec_3 = train_test_split(tr_ts_3, tr_ts_vec_3, test_size=0.3, random_state=42, shuffle=True)\n",
        "\n",
        "print('Seed len:', len(pos_seed_3), len(pos_seed_vec_3))\n",
        "print('Train len:', len(pos_train_3), len(pos_train_vec_3))\n",
        "print('Test len:', len(pos_test_3), len(pos_test_vec_3))"
      ],
      "execution_count": 0,
      "outputs": [
        {
          "output_type": "stream",
          "text": [
            "Seed len: 482 482\n",
            "Train len: 786 786\n",
            "Test len: 337 337\n"
          ],
          "name": "stdout"
        }
      ]
    },
    {
      "cell_type": "code",
      "metadata": {
        "id": "GGByJRuSaJ04",
        "colab_type": "code",
        "outputId": "cf6f4c61-5f31-4d3a-ef55-51591ff6e41a",
        "colab": {
          "base_uri": "https://localhost:8080/",
          "height": 34
        }
      },
      "source": [
        "train_sims_3 = get_sims(pos_seed_vec_3, pos_train_3, pos_train_vec_3)\n",
        "\n",
        "for i in train_sims_3.keys():\n",
        "  train_sims_3[i].sort(reverse=True)\n",
        "\n",
        "maxs = []\n",
        "for i in train_sims_3.keys():\n",
        "  maxs.append(train_sims_3[i][0])\n",
        "max(maxs)"
      ],
      "execution_count": 0,
      "outputs": [
        {
          "output_type": "execute_result",
          "data": {
            "text/plain": [
              "1.0000001"
            ]
          },
          "metadata": {
            "tags": []
          },
          "execution_count": 190
        }
      ]
    },
    {
      "cell_type": "code",
      "metadata": {
        "id": "fwxbx9LJaJur",
        "colab_type": "code",
        "outputId": "473fb682-46e2-4312-f9ac-768eb2fc666d",
        "colab": {
          "base_uri": "https://localhost:8080/",
          "height": 34
        }
      },
      "source": [
        "pos_cands_3 = get_cands(train_sims_3, min_num, threshold)\n",
        "len(pos_cands_3)"
      ],
      "execution_count": 0,
      "outputs": [
        {
          "output_type": "execute_result",
          "data": {
            "text/plain": [
              "75"
            ]
          },
          "metadata": {
            "tags": []
          },
          "execution_count": 191
        }
      ]
    },
    {
      "cell_type": "code",
      "metadata": {
        "id": "GQSFYn7OaJhp",
        "colab_type": "code",
        "outputId": "f8b6996c-d163-4e07-d779-c97352febbb1",
        "colab": {
          "base_uri": "https://localhost:8080/",
          "height": 102
        }
      },
      "source": [
        "pos_cands_sort_3 = list(dop(pos_cands_3).items())\n",
        "pos_cands_sort_3.sort(key=lambda i: i[1], reverse = True)\n",
        "pos_cands_sort_3[:5]"
      ],
      "execution_count": 0,
      "outputs": [
        {
          "output_type": "execute_result",
          "data": {
            "text/plain": [
              "[('втюриться', 0.32502558409657595),\n",
              " ('переволноваться', 0.3229726041160926),\n",
              " ('поволноваться', 0.3200778345813148),\n",
              " ('стосковаться', 0.31809729546370347),\n",
              " ('бахвалиться', 0.314337917723349)]"
            ]
          },
          "metadata": {
            "tags": []
          },
          "execution_count": 192
        }
      ]
    },
    {
      "cell_type": "code",
      "metadata": {
        "id": "GTWILgXbbhKh",
        "colab_type": "code",
        "outputId": "150cc542-4562-4d73-fc70-50d227e9dee2",
        "colab": {
          "base_uri": "https://localhost:8080/",
          "height": 34
        }
      },
      "source": [
        "intersection_2 = inter(intersection, pos_cands_3.keys())\n",
        "len(intersection_2), intersection_2"
      ],
      "execution_count": 0,
      "outputs": [
        {
          "output_type": "execute_result",
          "data": {
            "text/plain": [
              "(2, ['стосковаться', 'воссоединиться'])"
            ]
          },
          "metadata": {
            "tags": []
          },
          "execution_count": 194
        }
      ]
    },
    {
      "cell_type": "code",
      "metadata": {
        "id": "vt2mz4rCbhDY",
        "colab_type": "code",
        "outputId": "f422deaf-4069-43f2-a2f1-b3a7fe9c1b00",
        "colab": {
          "base_uri": "https://localhost:8080/",
          "height": 51
        }
      },
      "source": [
        "comper_2 = []\n",
        "for i in intersection_2:\n",
        "  comper_2.append([i,  dop(pos_cands)[i], dop(pos_cands_2)[i], dop(pos_cands_3)[i]])\n",
        "\n",
        "for i in comper_2:\n",
        "  print(i)"
      ],
      "execution_count": 0,
      "outputs": [
        {
          "output_type": "stream",
          "text": [
            "['стосковаться', 0.31898560624870453, 0.3222835490311789, 0.31809729546370347]\n",
            "['воссоединиться', 0.2873345666235278, 0.275083728088211, 0.2746151023741456]\n"
          ],
          "name": "stdout"
        }
      ]
    },
    {
      "cell_type": "code",
      "metadata": {
        "id": "etGVfPaubg7_",
        "colab_type": "code",
        "outputId": "0069a6d4-cdd7-4099-f4aa-89549014ddf1",
        "colab": {
          "base_uri": "https://localhost:8080/",
          "height": 34
        }
      },
      "source": [
        "intersection_1_3 = inter(pos_cands.keys(), pos_cands_3.keys())\n",
        "intersection_2_3 = inter(pos_cands_2.keys(), pos_cands_3.keys())\n",
        "len(intersection_1_3), len(intersection_2_3)"
      ],
      "execution_count": 0,
      "outputs": [
        {
          "output_type": "execute_result",
          "data": {
            "text/plain": [
              "(2, 15)"
            ]
          },
          "metadata": {
            "tags": []
          },
          "execution_count": 199
        }
      ]
    },
    {
      "cell_type": "code",
      "metadata": {
        "id": "n6-weuCZc3mC",
        "colab_type": "code",
        "colab": {}
      },
      "source": [
        ""
      ],
      "execution_count": 0,
      "outputs": []
    },
    {
      "cell_type": "code",
      "metadata": {
        "id": "FxkOkmRjc3bB",
        "colab_type": "code",
        "colab": {}
      },
      "source": [
        ""
      ],
      "execution_count": 0,
      "outputs": []
    }
  ]
}